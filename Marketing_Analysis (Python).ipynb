{
 "cells": [
  {
   "cell_type": "markdown",
   "metadata": {},
   "source": [
    "Project 6"
   ]
  },
  {
   "cell_type": "markdown",
   "metadata": {},
   "source": [
    "# Project description  \n",
    "  \n",
    "Marketing analysis of Yandex.Afisha to help optimize marketing expenses."
   ]
  },
  {
   "cell_type": "markdown",
   "metadata": {},
   "source": [
    "### Table of Contents: <a class=\"anchor\" id=\"contents\"></a>\n",
    "\n",
    "#### [1. Preparing environment and uploading data](#chapter1)\n",
    "   * [1.1 Importing packages](#chapter2)\n",
    "   * [1.2 Loading and optimizing datasets](#chapter3)\n",
    "\n",
    "#### [2. Studying the general information](#chapther4)\n",
    "   * [2.1 Visits table](#chapter5)\n",
    "   * [2.1 Orders table](#chapter6)\n",
    "   * [2.1 Costs table](#chapter7)\n",
    "   * [2.1 Conclusion](#chapter8)\n",
    "  \n",
    "#### [3. Data preprocessing](#chapter9)\n",
    "   * [3.1 Columns names preparation](#chapter10)\n",
    "   * [3.2 Processing abnormal values](#chapter11)\n",
    "   * [3.3 Conclusion](#chapter12) \n",
    "   \n",
    "  \n",
    "#### [4. Making reports and calculating metrics](#chapter13)\n",
    "   * [4.1 Product](#chapter14)\n",
    "       * [1. How many people use it every day, week, and month?](#chapter15)\n",
    "           * [DAU, WAU, MAU](#chapter16)\n",
    "       * [2. How many sessions are there per day?](#chapter18)\n",
    "           * [Usage frequency](#chapter17)\n",
    "       * [3. What is the length of each session?](#chapter19)\n",
    "       * [4. How often do users come back?](#chapter20)\n",
    "           * [Sticky factor](#chapter21)\n",
    "           * [Retention rate](#chapter22)\n",
    "           * [Churn rate](#chapter23)\n",
    "       * [5. Conclusion](#chapter41)  \n",
    "      \n",
    "      \n",
    "   * [4.2 Sales](#chapter24)\n",
    "       * [1. When do people start buying?](#chapter25)\n",
    "       * [2. How many orders do they make during a given period of time?](#chapter26)\n",
    "           * [Purchase frequency](#chapter27)\n",
    "           * [Repeat purchase rate](#chapter28)\n",
    "       * [3. What is the average purchase size?](#chapter29)\n",
    "           * [ARPU, ARPPU, AOV](#chapter30)\n",
    "       * [4. How much money do they bring?](#chapter31)\n",
    "           * [Lifetime value](#chapter32)\n",
    "       * [5. Conclusion](#chapter42)             \n",
    "             \n",
    "             \n",
    "   * [4.3 Marketing](#chapter33)\n",
    "       * [1. How much money was spent?](#chapter34)\n",
    "       * [2. How much did customer acquisition from each of the sources cost?](#chapter35)\n",
    "           * [Customer Acquisition Cost](#chapter36)\n",
    "       * [3. How worthwhile where the investments?](#chapter37)\n",
    "           * [Return on marketing investment](#chapter38)\n",
    "       * [4. Conclusion](#chapter39)  \n",
    "  \n",
    "#### [5. General conclusion](#chapter40)"
   ]
  },
  {
   "cell_type": "markdown",
   "metadata": {},
   "source": [
    "### 1.  Preparing environment and uploading data <a class=\"anchor\" id=\"chapter1\"></a>"
   ]
  },
  {
   "cell_type": "markdown",
   "metadata": {},
   "source": [
    "#### 1.1 Importing packages <a class=\"anchor\" id=\"chapter2\"></a>"
   ]
  },
  {
   "cell_type": "code",
   "execution_count": 1,
   "metadata": {},
   "outputs": [],
   "source": [
    "import pandas as pd\n",
    "import numpy as np\n",
    "from scipy import stats as st\n",
    "import matplotlib.pyplot as plt\n",
    "import seaborn as sns\n",
    "from scipy.stats import mannwhitneyu"
   ]
  },
  {
   "cell_type": "markdown",
   "metadata": {},
   "source": [
    "[Back to the Table of Contents](#contents)"
   ]
  },
  {
   "cell_type": "markdown",
   "metadata": {},
   "source": [
    "#### 1.2 Loading and optimizing datasets <a class=\"anchor\" id=\"chapter3\"></a>"
   ]
  },
  {
   "cell_type": "code",
   "execution_count": 2,
   "metadata": {},
   "outputs": [],
   "source": [
    "#reading csv and downloading parts of data sets\n",
    "visits = pd.read_csv('test', nrows=500)\n",
    "orders = pd.read_csv('test', nrows=500)\n",
    "costs = pd.read_csv('test', nrows=500)"
   ]
  },
  {
   "cell_type": "markdown",
   "metadata": {},
   "source": [
    "Before downloading all data I took 500 rows from each data sets to check size and information about tables."
   ]
  },
  {
   "cell_type": "code",
   "execution_count": 3,
   "metadata": {},
   "outputs": [
    {
     "name": "stdout",
     "output_type": "stream",
     "text": [
      "visits table:\n"
     ]
    },
    {
     "data": {
      "text/html": [
       "<div>\n",
       "<style scoped>\n",
       "    .dataframe tbody tr th:only-of-type {\n",
       "        vertical-align: middle;\n",
       "    }\n",
       "\n",
       "    .dataframe tbody tr th {\n",
       "        vertical-align: top;\n",
       "    }\n",
       "\n",
       "    .dataframe thead th {\n",
       "        text-align: right;\n",
       "    }\n",
       "</style>\n",
       "<table border=\"1\" class=\"dataframe\">\n",
       "  <thead>\n",
       "    <tr style=\"text-align: right;\">\n",
       "      <th></th>\n",
       "      <th>Device</th>\n",
       "      <th>End Ts</th>\n",
       "      <th>Source Id</th>\n",
       "      <th>Start Ts</th>\n",
       "      <th>Uid</th>\n",
       "    </tr>\n",
       "  </thead>\n",
       "  <tbody>\n",
       "    <tr>\n",
       "      <td>26</td>\n",
       "      <td>desktop</td>\n",
       "      <td>2018-03-22 09:50:00</td>\n",
       "      <td>5</td>\n",
       "      <td>2018-03-22 09:47:00</td>\n",
       "      <td>920985734427329716</td>\n",
       "    </tr>\n",
       "  </tbody>\n",
       "</table>\n",
       "</div>"
      ],
      "text/plain": [
       "     Device               End Ts  Source Id             Start Ts  \\\n",
       "26  desktop  2018-03-22 09:50:00          5  2018-03-22 09:47:00   \n",
       "\n",
       "                   Uid  \n",
       "26  920985734427329716  "
      ]
     },
     "execution_count": 3,
     "metadata": {},
     "output_type": "execute_result"
    }
   ],
   "source": [
    "print('visits table:')\n",
    "visits.sample()"
   ]
  },
  {
   "cell_type": "markdown",
   "metadata": {},
   "source": [
    "The visits table contains:\n",
    "- Uid — user's unique identifier\n",
    "- Device — user's device\n",
    "- Start Ts — session start date and time\n",
    "- End Ts — session end date and time\n",
    "- Source Id — identifier of the ad source the user came from"
   ]
  },
  {
   "cell_type": "code",
   "execution_count": 4,
   "metadata": {},
   "outputs": [
    {
     "name": "stdout",
     "output_type": "stream",
     "text": [
      "<class 'pandas.core.frame.DataFrame'>\n",
      "RangeIndex: 500 entries, 0 to 499\n",
      "Data columns (total 5 columns):\n",
      "Device       500 non-null object\n",
      "End Ts       500 non-null object\n",
      "Source Id    500 non-null int64\n",
      "Start Ts     500 non-null object\n",
      "Uid          500 non-null uint64\n",
      "dtypes: int64(1), object(3), uint64(1)\n",
      "memory usage: 113.1 KB\n"
     ]
    }
   ],
   "source": [
    "#cecking information about teh table\n",
    "visits.info(memory_usage='deep')"
   ]
  },
  {
   "cell_type": "markdown",
   "metadata": {},
   "source": [
    "Size of the 500 rows of downloaded data is 113.1 kb. Table are quite heavy.  \n",
    "I will check how I can optimized data:  \n",
    "- Columns 'End Ts' and 'Start Ts' contain the date and time, convert the object type to date will help us to use less space. "
   ]
  },
  {
   "cell_type": "code",
   "execution_count": 5,
   "metadata": {},
   "outputs": [
    {
     "data": {
      "text/plain": [
       "desktop    363\n",
       "touch      137\n",
       "Name: Device, dtype: int64"
      ]
     },
     "execution_count": 5,
     "metadata": {},
     "output_type": "execute_result"
    }
   ],
   "source": [
    "#cecking values in column\n",
    "visits.Device.value_counts()"
   ]
  },
  {
   "cell_type": "markdown",
   "metadata": {},
   "source": [
    "- Column 'Device' has only two values: desktop and touch. These are presumably device categories: computers and touch screen devices.  \n",
    "Pandas has a special type for such data: category. It looks a lot like text but uses considerably less space."
   ]
  },
  {
   "cell_type": "code",
   "execution_count": 6,
   "metadata": {},
   "outputs": [],
   "source": [
    "#changing format\n",
    "visits['Device'] = visits['Device'].astype('category')\n",
    "visits['Start Ts'] =  pd.to_datetime(visits['Start Ts'])\n",
    "visits['End Ts'] =  pd.to_datetime(visits['End Ts'])"
   ]
  },
  {
   "cell_type": "markdown",
   "metadata": {},
   "source": [
    "Data type in columns were changing."
   ]
  },
  {
   "cell_type": "code",
   "execution_count": 7,
   "metadata": {},
   "outputs": [
    {
     "name": "stdout",
     "output_type": "stream",
     "text": [
      "<class 'pandas.core.frame.DataFrame'>\n",
      "RangeIndex: 500 entries, 0 to 499\n",
      "Data columns (total 5 columns):\n",
      "Device       500 non-null category\n",
      "End Ts       500 non-null datetime64[ns]\n",
      "Source Id    500 non-null int64\n",
      "Start Ts     500 non-null datetime64[ns]\n",
      "Uid          500 non-null uint64\n",
      "dtypes: category(1), datetime64[ns](2), int64(1), uint64(1)\n",
      "memory usage: 16.4 KB\n"
     ]
    }
   ],
   "source": [
    "#checking result\n",
    "visits.info(memory_usage='deep')"
   ]
  },
  {
   "cell_type": "markdown",
   "metadata": {},
   "source": [
    "Now our DataFrame is 16.4 kilobytes instead of 113.1.  \n",
    "I will do the same with other tables:"
   ]
  },
  {
   "cell_type": "code",
   "execution_count": 8,
   "metadata": {},
   "outputs": [
    {
     "name": "stdout",
     "output_type": "stream",
     "text": [
      "orders table:\n"
     ]
    },
    {
     "data": {
      "text/html": [
       "<div>\n",
       "<style scoped>\n",
       "    .dataframe tbody tr th:only-of-type {\n",
       "        vertical-align: middle;\n",
       "    }\n",
       "\n",
       "    .dataframe tbody tr th {\n",
       "        vertical-align: top;\n",
       "    }\n",
       "\n",
       "    .dataframe thead th {\n",
       "        text-align: right;\n",
       "    }\n",
       "</style>\n",
       "<table border=\"1\" class=\"dataframe\">\n",
       "  <thead>\n",
       "    <tr style=\"text-align: right;\">\n",
       "      <th></th>\n",
       "      <th>Buy Ts</th>\n",
       "      <th>Revenue</th>\n",
       "      <th>Uid</th>\n",
       "    </tr>\n",
       "  </thead>\n",
       "  <tbody>\n",
       "    <tr>\n",
       "      <td>22</td>\n",
       "      <td>2017-06-01 11:42:00</td>\n",
       "      <td>4.15</td>\n",
       "      <td>2050423809815667474</td>\n",
       "    </tr>\n",
       "  </tbody>\n",
       "</table>\n",
       "</div>"
      ],
      "text/plain": [
       "                 Buy Ts  Revenue                  Uid\n",
       "22  2017-06-01 11:42:00     4.15  2050423809815667474"
      ]
     },
     "execution_count": 8,
     "metadata": {},
     "output_type": "execute_result"
    }
   ],
   "source": [
    "print('orders table:')\n",
    "orders.sample()"
   ]
  },
  {
   "cell_type": "markdown",
   "metadata": {},
   "source": [
    "The orders table contains:  \n",
    "- Uid — unique identifier of the user making an order\n",
    "- Buy Ts — order date and time\n",
    "- Revenue — Yandex.Afisha's revenue from the order"
   ]
  },
  {
   "cell_type": "code",
   "execution_count": 9,
   "metadata": {},
   "outputs": [
    {
     "name": "stdout",
     "output_type": "stream",
     "text": [
      "<class 'pandas.core.frame.DataFrame'>\n",
      "RangeIndex: 500 entries, 0 to 499\n",
      "Data columns (total 3 columns):\n",
      "Buy Ts     500 non-null object\n",
      "Revenue    500 non-null float64\n",
      "Uid        500 non-null uint64\n",
      "dtypes: float64(1), object(1), uint64(1)\n",
      "memory usage: 45.0 KB\n"
     ]
    }
   ],
   "source": [
    "orders.info(memory_usage='deep')"
   ]
  },
  {
   "cell_type": "markdown",
   "metadata": {},
   "source": [
    "Size of the downloaded data is 45 kb.\n",
    "Column 'Buy Ts' contain the date and time."
   ]
  },
  {
   "cell_type": "code",
   "execution_count": 10,
   "metadata": {},
   "outputs": [
    {
     "name": "stdout",
     "output_type": "stream",
     "text": [
      "costs table:\n"
     ]
    },
    {
     "data": {
      "text/html": [
       "<div>\n",
       "<style scoped>\n",
       "    .dataframe tbody tr th:only-of-type {\n",
       "        vertical-align: middle;\n",
       "    }\n",
       "\n",
       "    .dataframe tbody tr th {\n",
       "        vertical-align: top;\n",
       "    }\n",
       "\n",
       "    .dataframe thead th {\n",
       "        text-align: right;\n",
       "    }\n",
       "</style>\n",
       "<table border=\"1\" class=\"dataframe\">\n",
       "  <thead>\n",
       "    <tr style=\"text-align: right;\">\n",
       "      <th></th>\n",
       "      <th>source_id</th>\n",
       "      <th>dt</th>\n",
       "      <th>costs</th>\n",
       "    </tr>\n",
       "  </thead>\n",
       "  <tbody>\n",
       "    <tr>\n",
       "      <td>297</td>\n",
       "      <td>1</td>\n",
       "      <td>2018-03-25</td>\n",
       "      <td>87.7</td>\n",
       "    </tr>\n",
       "  </tbody>\n",
       "</table>\n",
       "</div>"
      ],
      "text/plain": [
       "     source_id          dt  costs\n",
       "297          1  2018-03-25   87.7"
      ]
     },
     "execution_count": 10,
     "metadata": {},
     "output_type": "execute_result"
    }
   ],
   "source": [
    "print('costs table:')\n",
    "costs.sample()"
   ]
  },
  {
   "cell_type": "markdown",
   "metadata": {},
   "source": [
    "The costs table contains:  \n",
    "- source_id — ad source identifier\n",
    "- dt — date\n",
    "- costs — expenses on this ad source on this day"
   ]
  },
  {
   "cell_type": "code",
   "execution_count": 11,
   "metadata": {},
   "outputs": [
    {
     "name": "stdout",
     "output_type": "stream",
     "text": [
      "<class 'pandas.core.frame.DataFrame'>\n",
      "RangeIndex: 500 entries, 0 to 499\n",
      "Data columns (total 3 columns):\n",
      "source_id    500 non-null int64\n",
      "dt           500 non-null object\n",
      "costs        500 non-null float64\n",
      "dtypes: float64(1), int64(1), object(1)\n",
      "memory usage: 40.7 KB\n"
     ]
    }
   ],
   "source": [
    "costs.info(memory_usage='deep')"
   ]
  },
  {
   "cell_type": "markdown",
   "metadata": {},
   "source": [
    "Size of the downloaded data is 40.7 kb.  \n",
    "Column 'dt' contain the date and time.  \n",
    "  \n",
    "I will download full data sets with the optimized data types in columns:\n",
    "   - dtype - this parameter changes data type in column;\n",
    "   - parse_dates - changes format to datetime in columns."
   ]
  },
  {
   "cell_type": "code",
   "execution_count": 12,
   "metadata": {},
   "outputs": [],
   "source": [
    "#optimizing data\n",
    "visits = pd.read_csv('test', dtype={'Device': 'category'}, parse_dates=['Start Ts', 'End Ts'])\n",
    "orders = pd.read_csv('test', parse_dates=['Buy Ts'])\n",
    "costs = pd.read_csv('test', parse_dates=['dt'])"
   ]
  },
  {
   "cell_type": "markdown",
   "metadata": {},
   "source": [
    "All data sets were download with optimized data types."
   ]
  },
  {
   "cell_type": "markdown",
   "metadata": {},
   "source": [
    "[Back to the Table of Contents](#contents)"
   ]
  },
  {
   "cell_type": "markdown",
   "metadata": {},
   "source": [
    "### 2. Studying the general information <a class=\"anchor\" id=\"chapter4\"></a>"
   ]
  },
  {
   "cell_type": "markdown",
   "metadata": {},
   "source": [
    "#### 2.1 Visits table <a class=\"anchor\" id=\"chapter5\"></a>"
   ]
  },
  {
   "cell_type": "code",
   "execution_count": 13,
   "metadata": {},
   "outputs": [
    {
     "data": {
      "text/html": [
       "<div>\n",
       "<style scoped>\n",
       "    .dataframe tbody tr th:only-of-type {\n",
       "        vertical-align: middle;\n",
       "    }\n",
       "\n",
       "    .dataframe tbody tr th {\n",
       "        vertical-align: top;\n",
       "    }\n",
       "\n",
       "    .dataframe thead th {\n",
       "        text-align: right;\n",
       "    }\n",
       "</style>\n",
       "<table border=\"1\" class=\"dataframe\">\n",
       "  <thead>\n",
       "    <tr style=\"text-align: right;\">\n",
       "      <th></th>\n",
       "      <th>Device</th>\n",
       "      <th>End Ts</th>\n",
       "      <th>Source Id</th>\n",
       "      <th>Start Ts</th>\n",
       "      <th>Uid</th>\n",
       "    </tr>\n",
       "  </thead>\n",
       "  <tbody>\n",
       "    <tr>\n",
       "      <td>359395</td>\n",
       "      <td>desktop</td>\n",
       "      <td>2017-07-29 19:07:19</td>\n",
       "      <td>2</td>\n",
       "      <td>2017-07-29 19:07:00</td>\n",
       "      <td>18363291481961487539</td>\n",
       "    </tr>\n",
       "    <tr>\n",
       "      <td>359396</td>\n",
       "      <td>touch</td>\n",
       "      <td>2018-01-25 17:38:19</td>\n",
       "      <td>1</td>\n",
       "      <td>2018-01-25 17:38:00</td>\n",
       "      <td>18370831553019119586</td>\n",
       "    </tr>\n",
       "    <tr>\n",
       "      <td>359397</td>\n",
       "      <td>desktop</td>\n",
       "      <td>2018-03-03 10:12:19</td>\n",
       "      <td>4</td>\n",
       "      <td>2018-03-03 10:12:00</td>\n",
       "      <td>18387297585500748294</td>\n",
       "    </tr>\n",
       "    <tr>\n",
       "      <td>359398</td>\n",
       "      <td>desktop</td>\n",
       "      <td>2017-11-02 10:12:19</td>\n",
       "      <td>5</td>\n",
       "      <td>2017-11-02 10:12:00</td>\n",
       "      <td>18388616944624776485</td>\n",
       "    </tr>\n",
       "    <tr>\n",
       "      <td>359399</td>\n",
       "      <td>touch</td>\n",
       "      <td>2017-09-10 13:13:19</td>\n",
       "      <td>2</td>\n",
       "      <td>2017-09-10 13:13:00</td>\n",
       "      <td>18396128934054549559</td>\n",
       "    </tr>\n",
       "  </tbody>\n",
       "</table>\n",
       "</div>"
      ],
      "text/plain": [
       "         Device              End Ts  Source Id            Start Ts  \\\n",
       "359395  desktop 2017-07-29 19:07:19          2 2017-07-29 19:07:00   \n",
       "359396    touch 2018-01-25 17:38:19          1 2018-01-25 17:38:00   \n",
       "359397  desktop 2018-03-03 10:12:19          4 2018-03-03 10:12:00   \n",
       "359398  desktop 2017-11-02 10:12:19          5 2017-11-02 10:12:00   \n",
       "359399    touch 2017-09-10 13:13:19          2 2017-09-10 13:13:00   \n",
       "\n",
       "                         Uid  \n",
       "359395  18363291481961487539  \n",
       "359396  18370831553019119586  \n",
       "359397  18387297585500748294  \n",
       "359398  18388616944624776485  \n",
       "359399  18396128934054549559  "
      ]
     },
     "execution_count": 13,
     "metadata": {},
     "output_type": "execute_result"
    }
   ],
   "source": [
    "#cecking the table\n",
    "visits.head()\n",
    "visits.tail()"
   ]
  },
  {
   "cell_type": "markdown",
   "metadata": {},
   "source": [
    "- columns names needed to be lowercase and adjusted"
   ]
  },
  {
   "cell_type": "code",
   "execution_count": 14,
   "metadata": {},
   "outputs": [
    {
     "name": "stdout",
     "output_type": "stream",
     "text": [
      "<class 'pandas.core.frame.DataFrame'>\n",
      "RangeIndex: 359400 entries, 0 to 359399\n",
      "Data columns (total 5 columns):\n",
      "Device       359400 non-null category\n",
      "End Ts       359400 non-null datetime64[ns]\n",
      "Source Id    359400 non-null int64\n",
      "Start Ts     359400 non-null datetime64[ns]\n",
      "Uid          359400 non-null uint64\n",
      "dtypes: category(1), datetime64[ns](2), int64(1), uint64(1)\n",
      "memory usage: 11.3 MB\n"
     ]
    }
   ],
   "source": [
    "#checking information about the table\n",
    "visits.info()"
   ]
  },
  {
   "cell_type": "markdown",
   "metadata": {},
   "source": [
    "- there are no missing values in columns, data types are correct"
   ]
  },
  {
   "cell_type": "code",
   "execution_count": 15,
   "metadata": {},
   "outputs": [
    {
     "data": {
      "text/plain": [
       "desktop    262567\n",
       "touch       96833\n",
       "Name: Device, dtype: int64"
      ]
     },
     "execution_count": 15,
     "metadata": {},
     "output_type": "execute_result"
    }
   ],
   "source": [
    "#checking column\n",
    "visits.Device.value_counts()"
   ]
  },
  {
   "cell_type": "markdown",
   "metadata": {},
   "source": [
    "- there are two device categories: computers and touch screen devices."
   ]
  },
  {
   "cell_type": "code",
   "execution_count": 16,
   "metadata": {},
   "outputs": [
    {
     "data": {
      "text/html": [
       "<div>\n",
       "<style scoped>\n",
       "    .dataframe tbody tr th:only-of-type {\n",
       "        vertical-align: middle;\n",
       "    }\n",
       "\n",
       "    .dataframe tbody tr th {\n",
       "        vertical-align: top;\n",
       "    }\n",
       "\n",
       "    .dataframe thead th {\n",
       "        text-align: right;\n",
       "    }\n",
       "</style>\n",
       "<table border=\"1\" class=\"dataframe\">\n",
       "  <thead>\n",
       "    <tr style=\"text-align: right;\">\n",
       "      <th></th>\n",
       "      <th>Source Id</th>\n",
       "      <th>Uid</th>\n",
       "    </tr>\n",
       "  </thead>\n",
       "  <tbody>\n",
       "    <tr>\n",
       "      <td>count</td>\n",
       "      <td>359400.000000</td>\n",
       "      <td>3.594000e+05</td>\n",
       "    </tr>\n",
       "    <tr>\n",
       "      <td>mean</td>\n",
       "      <td>3.750515</td>\n",
       "      <td>9.202557e+18</td>\n",
       "    </tr>\n",
       "    <tr>\n",
       "      <td>std</td>\n",
       "      <td>1.917116</td>\n",
       "      <td>5.298433e+18</td>\n",
       "    </tr>\n",
       "    <tr>\n",
       "      <td>min</td>\n",
       "      <td>1.000000</td>\n",
       "      <td>1.186350e+13</td>\n",
       "    </tr>\n",
       "    <tr>\n",
       "      <td>25%</td>\n",
       "      <td>3.000000</td>\n",
       "      <td>4.613407e+18</td>\n",
       "    </tr>\n",
       "    <tr>\n",
       "      <td>50%</td>\n",
       "      <td>4.000000</td>\n",
       "      <td>9.227413e+18</td>\n",
       "    </tr>\n",
       "    <tr>\n",
       "      <td>75%</td>\n",
       "      <td>5.000000</td>\n",
       "      <td>1.372824e+19</td>\n",
       "    </tr>\n",
       "    <tr>\n",
       "      <td>max</td>\n",
       "      <td>10.000000</td>\n",
       "      <td>1.844668e+19</td>\n",
       "    </tr>\n",
       "  </tbody>\n",
       "</table>\n",
       "</div>"
      ],
      "text/plain": [
       "           Source Id           Uid\n",
       "count  359400.000000  3.594000e+05\n",
       "mean        3.750515  9.202557e+18\n",
       "std         1.917116  5.298433e+18\n",
       "min         1.000000  1.186350e+13\n",
       "25%         3.000000  4.613407e+18\n",
       "50%         4.000000  9.227413e+18\n",
       "75%         5.000000  1.372824e+19\n",
       "max        10.000000  1.844668e+19"
      ]
     },
     "execution_count": 16,
     "metadata": {},
     "output_type": "execute_result"
    }
   ],
   "source": [
    "#checking values in columns with numbers\n",
    "visits.describe()"
   ]
  },
  {
   "cell_type": "markdown",
   "metadata": {},
   "source": [
    "- there are no zero or abnormal values"
   ]
  },
  {
   "cell_type": "code",
   "execution_count": 17,
   "metadata": {},
   "outputs": [
    {
     "data": {
      "text/plain": [
       "4     101794\n",
       "3      85610\n",
       "5      66905\n",
       "2      47626\n",
       "1      34121\n",
       "9      13277\n",
       "10     10025\n",
       "7         36\n",
       "6          6\n",
       "Name: Source Id, dtype: int64"
      ]
     },
     "execution_count": 17,
     "metadata": {},
     "output_type": "execute_result"
    }
   ],
   "source": [
    "#checking column\n",
    "visits['Source Id'].value_counts()"
   ]
  },
  {
   "cell_type": "markdown",
   "metadata": {},
   "source": [
    "- there are 9 ad source where people visit from, 1-7 and 9-10 source id."
   ]
  },
  {
   "cell_type": "code",
   "execution_count": 18,
   "metadata": {},
   "outputs": [
    {
     "data": {
      "text/html": [
       "<div>\n",
       "<style scoped>\n",
       "    .dataframe tbody tr th:only-of-type {\n",
       "        vertical-align: middle;\n",
       "    }\n",
       "\n",
       "    .dataframe tbody tr th {\n",
       "        vertical-align: top;\n",
       "    }\n",
       "\n",
       "    .dataframe thead th {\n",
       "        text-align: right;\n",
       "    }\n",
       "</style>\n",
       "<table border=\"1\" class=\"dataframe\">\n",
       "  <thead>\n",
       "    <tr style=\"text-align: right;\">\n",
       "      <th></th>\n",
       "      <th>End Ts</th>\n",
       "      <th>Start Ts</th>\n",
       "    </tr>\n",
       "  </thead>\n",
       "  <tbody>\n",
       "    <tr>\n",
       "      <td>count</td>\n",
       "      <td>359400</td>\n",
       "      <td>359400</td>\n",
       "    </tr>\n",
       "    <tr>\n",
       "      <td>unique</td>\n",
       "      <td>224760</td>\n",
       "      <td>224303</td>\n",
       "    </tr>\n",
       "    <tr>\n",
       "      <td>top</td>\n",
       "      <td>2017-11-24 16:51:00</td>\n",
       "      <td>2017-11-24 16:06:00</td>\n",
       "    </tr>\n",
       "    <tr>\n",
       "      <td>freq</td>\n",
       "      <td>23</td>\n",
       "      <td>19</td>\n",
       "    </tr>\n",
       "    <tr>\n",
       "      <td>first</td>\n",
       "      <td>2017-06-01 00:02:00</td>\n",
       "      <td>2017-06-01 00:01:00</td>\n",
       "    </tr>\n",
       "    <tr>\n",
       "      <td>last</td>\n",
       "      <td>2018-06-01 01:26:00</td>\n",
       "      <td>2018-05-31 23:59:00</td>\n",
       "    </tr>\n",
       "  </tbody>\n",
       "</table>\n",
       "</div>"
      ],
      "text/plain": [
       "                     End Ts             Start Ts\n",
       "count                359400               359400\n",
       "unique               224760               224303\n",
       "top     2017-11-24 16:51:00  2017-11-24 16:06:00\n",
       "freq                     23                   19\n",
       "first   2017-06-01 00:02:00  2017-06-01 00:01:00\n",
       "last    2018-06-01 01:26:00  2018-05-31 23:59:00"
      ]
     },
     "execution_count": 18,
     "metadata": {},
     "output_type": "execute_result"
    }
   ],
   "source": [
    "#checking values in columns with datetime\n",
    "visits.describe(include = ['datetime64'])"
   ]
  },
  {
   "cell_type": "markdown",
   "metadata": {},
   "source": [
    "- values in these columns look normal. \n",
    "\n",
    "let's check if there is any bugs with start and end times of visits:"
   ]
  },
  {
   "cell_type": "code",
   "execution_count": 19,
   "metadata": {},
   "outputs": [
    {
     "data": {
      "text/plain": [
       "Ok              323604\n",
       "Zero seconds     35794\n",
       "Bug                  2\n",
       "Name: check, dtype: int64"
      ]
     },
     "execution_count": 19,
     "metadata": {},
     "output_type": "execute_result"
    }
   ],
   "source": [
    "#making function to check values\n",
    "def dt(row):\n",
    "    x = row['End Ts']\n",
    "    y = row['Start Ts']\n",
    "    if x < y: \n",
    "        return(\"Bug\")\n",
    "    elif x == y:\n",
    "        return(\"Zero seconds\")\n",
    "    else:\n",
    "        return(\"Ok\")\n",
    "#applying result in new column 'check'\n",
    "visits['check'] = visits.apply(dt, axis=1)\n",
    "#checking result\n",
    "visits.check.value_counts()"
   ]
  },
  {
   "cell_type": "markdown",
   "metadata": {},
   "source": [
    "I found:\n",
    "- for 2 visits end time are early than start time;\n",
    "- almost 10% of visits have zero seconds duration.  \n",
    "\n",
    "Let's look on this rows and check if there is connection with any columns: "
   ]
  },
  {
   "cell_type": "code",
   "execution_count": 20,
   "metadata": {},
   "outputs": [
    {
     "data": {
      "text/html": [
       "<div>\n",
       "<style scoped>\n",
       "    .dataframe tbody tr th:only-of-type {\n",
       "        vertical-align: middle;\n",
       "    }\n",
       "\n",
       "    .dataframe tbody tr th {\n",
       "        vertical-align: top;\n",
       "    }\n",
       "\n",
       "    .dataframe thead th {\n",
       "        text-align: right;\n",
       "    }\n",
       "</style>\n",
       "<table border=\"1\" class=\"dataframe\">\n",
       "  <thead>\n",
       "    <tr style=\"text-align: right;\">\n",
       "      <th></th>\n",
       "      <th>Device</th>\n",
       "      <th>End Ts</th>\n",
       "      <th>Source Id</th>\n",
       "      <th>Start Ts</th>\n",
       "      <th>Uid</th>\n",
       "      <th>check</th>\n",
       "    </tr>\n",
       "  </thead>\n",
       "  <tbody>\n",
       "    <tr>\n",
       "      <td>4181</td>\n",
       "      <td>desktop</td>\n",
       "      <td>2018-03-25 03:18:00</td>\n",
       "      <td>3</td>\n",
       "      <td>2018-03-25 03:50:00</td>\n",
       "      <td>13092152539246794986</td>\n",
       "      <td>Bug</td>\n",
       "    </tr>\n",
       "    <tr>\n",
       "      <td>177972</td>\n",
       "      <td>desktop</td>\n",
       "      <td>2018-03-25 03:09:00</td>\n",
       "      <td>9</td>\n",
       "      <td>2018-03-25 03:55:00</td>\n",
       "      <td>4621202742905035453</td>\n",
       "      <td>Bug</td>\n",
       "    </tr>\n",
       "  </tbody>\n",
       "</table>\n",
       "</div>"
      ],
      "text/plain": [
       "         Device              End Ts  Source Id            Start Ts  \\\n",
       "4181    desktop 2018-03-25 03:18:00          3 2018-03-25 03:50:00   \n",
       "177972  desktop 2018-03-25 03:09:00          9 2018-03-25 03:55:00   \n",
       "\n",
       "                         Uid check  \n",
       "4181    13092152539246794986   Bug  \n",
       "177972   4621202742905035453   Bug  "
      ]
     },
     "execution_count": 20,
     "metadata": {},
     "output_type": "execute_result"
    }
   ],
   "source": [
    "#looking for the connection\n",
    "visits.query('check == \"Bug\"')"
   ]
  },
  {
   "cell_type": "markdown",
   "metadata": {},
   "source": [
    "- I don't see any connection, probably it was just a bug"
   ]
  },
  {
   "cell_type": "code",
   "execution_count": 21,
   "metadata": {},
   "outputs": [
    {
     "data": {
      "text/html": [
       "<div>\n",
       "<style scoped>\n",
       "    .dataframe tbody tr th:only-of-type {\n",
       "        vertical-align: middle;\n",
       "    }\n",
       "\n",
       "    .dataframe tbody tr th {\n",
       "        vertical-align: top;\n",
       "    }\n",
       "\n",
       "    .dataframe thead th {\n",
       "        text-align: right;\n",
       "    }\n",
       "</style>\n",
       "<table border=\"1\" class=\"dataframe\">\n",
       "  <thead>\n",
       "    <tr style=\"text-align: right;\">\n",
       "      <th></th>\n",
       "      <th>Device</th>\n",
       "      <th>End Ts</th>\n",
       "      <th>Source Id</th>\n",
       "      <th>Start Ts</th>\n",
       "      <th>Uid</th>\n",
       "      <th>check</th>\n",
       "    </tr>\n",
       "  </thead>\n",
       "  <tbody>\n",
       "    <tr>\n",
       "      <td>351163</td>\n",
       "      <td>desktop</td>\n",
       "      <td>2017-10-29 02:15:00</td>\n",
       "      <td>4</td>\n",
       "      <td>2017-10-29 02:15:00</td>\n",
       "      <td>17638172737248973097</td>\n",
       "      <td>Zero seconds</td>\n",
       "    </tr>\n",
       "    <tr>\n",
       "      <td>169894</td>\n",
       "      <td>desktop</td>\n",
       "      <td>2017-06-10 00:52:00</td>\n",
       "      <td>3</td>\n",
       "      <td>2017-06-10 00:52:00</td>\n",
       "      <td>16048474203133948425</td>\n",
       "      <td>Zero seconds</td>\n",
       "    </tr>\n",
       "    <tr>\n",
       "      <td>197713</td>\n",
       "      <td>desktop</td>\n",
       "      <td>2017-08-05 00:29:00</td>\n",
       "      <td>3</td>\n",
       "      <td>2017-08-05 00:29:00</td>\n",
       "      <td>10176561825018941319</td>\n",
       "      <td>Zero seconds</td>\n",
       "    </tr>\n",
       "    <tr>\n",
       "      <td>45763</td>\n",
       "      <td>desktop</td>\n",
       "      <td>2018-01-30 16:48:00</td>\n",
       "      <td>1</td>\n",
       "      <td>2018-01-30 16:48:00</td>\n",
       "      <td>5139615590553126732</td>\n",
       "      <td>Zero seconds</td>\n",
       "    </tr>\n",
       "    <tr>\n",
       "      <td>60067</td>\n",
       "      <td>touch</td>\n",
       "      <td>2017-08-09 20:00:00</td>\n",
       "      <td>5</td>\n",
       "      <td>2017-08-09 20:00:00</td>\n",
       "      <td>4292916518637868885</td>\n",
       "      <td>Zero seconds</td>\n",
       "    </tr>\n",
       "  </tbody>\n",
       "</table>\n",
       "</div>"
      ],
      "text/plain": [
       "         Device              End Ts  Source Id            Start Ts  \\\n",
       "351163  desktop 2017-10-29 02:15:00          4 2017-10-29 02:15:00   \n",
       "169894  desktop 2017-06-10 00:52:00          3 2017-06-10 00:52:00   \n",
       "197713  desktop 2017-08-05 00:29:00          3 2017-08-05 00:29:00   \n",
       "45763   desktop 2018-01-30 16:48:00          1 2018-01-30 16:48:00   \n",
       "60067     touch 2017-08-09 20:00:00          5 2017-08-09 20:00:00   \n",
       "\n",
       "                         Uid         check  \n",
       "351163  17638172737248973097  Zero seconds  \n",
       "169894  16048474203133948425  Zero seconds  \n",
       "197713  10176561825018941319  Zero seconds  \n",
       "45763    5139615590553126732  Zero seconds  \n",
       "60067    4292916518637868885  Zero seconds  "
      ]
     },
     "execution_count": 21,
     "metadata": {},
     "output_type": "execute_result"
    }
   ],
   "source": [
    "#looking for the connection\n",
    "visits.query('check == \"Zero seconds\"').sample(5)"
   ]
  },
  {
   "cell_type": "code",
   "execution_count": 22,
   "metadata": {},
   "outputs": [
    {
     "data": {
      "text/plain": [
       "4     10898\n",
       "3      9025\n",
       "5      7385\n",
       "2      4158\n",
       "1      1975\n",
       "9      1297\n",
       "10     1054\n",
       "7         1\n",
       "6         1\n",
       "Name: Source Id, dtype: int64"
      ]
     },
     "execution_count": 22,
     "metadata": {},
     "output_type": "execute_result"
    }
   ],
   "source": [
    "#looking for the connection\n",
    "visits.query('check == \"Zero seconds\"')['Source Id'].value_counts()"
   ]
  },
  {
   "cell_type": "code",
   "execution_count": 23,
   "metadata": {},
   "outputs": [
    {
     "data": {
      "text/plain": [
       "desktop    23689\n",
       "touch      12105\n",
       "Name: Device, dtype: int64"
      ]
     },
     "execution_count": 23,
     "metadata": {},
     "output_type": "execute_result"
    }
   ],
   "source": [
    "#looking for the connection\n",
    "visits.query('check == \"Zero seconds\"')['Device'].value_counts()"
   ]
  },
  {
   "cell_type": "markdown",
   "metadata": {},
   "source": [
    "- As we can see visits with duration zero second were came from different source and device.\n",
    "  \n",
    "Possible causes are:\n",
    "- user opened the web site/app accidentally;\n",
    "- user was on one page only or his session was less than 15 seconds (as I know in Yandex.Metrica a refusal is counted if the user was on the site for less than 15 seconds, in Google Analytics the duration of single page veiw session is always considered 0 seconds and is considered a failure).    \n",
    "  \n",
    "I can't be sure about reason why user left so fast, but I can calculate bounce rates:"
   ]
  },
  {
   "cell_type": "code",
   "execution_count": 24,
   "metadata": {},
   "outputs": [
    {
     "name": "stdout",
     "output_type": "stream",
     "text": [
      "Bounce rate is: 10.0%\n"
     ]
    }
   ],
   "source": [
    "BR = len(visits.query('check == \"Zero seconds\"'))/len(visits)\n",
    "print('Bounce rate is: {:.1%}'.format(BR))"
   ]
  },
  {
   "cell_type": "markdown",
   "metadata": {},
   "source": [
    "**Bounce rate(BR)** - proportions of visitors who left the site immediately, as soon as they went to it or they viewed only one page during the visit.  \n",
    "Typically BR fall between 26% and 70% and BR in the range of 26 to 40% is excellent.  \n",
    "- our bounce rate is 10% - this is low, and it means that the page effectively causes visitors to view more pages and continue deeper into the web site;\n",
    "- in our case bounce rate doesn't depends on a specific source or device."
   ]
  },
  {
   "cell_type": "markdown",
   "metadata": {},
   "source": [
    "[Back to the Table of Contents](#contents)"
   ]
  },
  {
   "cell_type": "markdown",
   "metadata": {},
   "source": [
    "#### 2.1 Orders table <a class=\"anchor\" id=\"chapter6\"></a>"
   ]
  },
  {
   "cell_type": "code",
   "execution_count": 25,
   "metadata": {},
   "outputs": [
    {
     "data": {
      "text/html": [
       "<div>\n",
       "<style scoped>\n",
       "    .dataframe tbody tr th:only-of-type {\n",
       "        vertical-align: middle;\n",
       "    }\n",
       "\n",
       "    .dataframe tbody tr th {\n",
       "        vertical-align: top;\n",
       "    }\n",
       "\n",
       "    .dataframe thead th {\n",
       "        text-align: right;\n",
       "    }\n",
       "</style>\n",
       "<table border=\"1\" class=\"dataframe\">\n",
       "  <thead>\n",
       "    <tr style=\"text-align: right;\">\n",
       "      <th></th>\n",
       "      <th>Buy Ts</th>\n",
       "      <th>Revenue</th>\n",
       "      <th>Uid</th>\n",
       "    </tr>\n",
       "  </thead>\n",
       "  <tbody>\n",
       "    <tr>\n",
       "      <td>50410</td>\n",
       "      <td>2018-05-31 23:50:00</td>\n",
       "      <td>4.64</td>\n",
       "      <td>12296626599487328624</td>\n",
       "    </tr>\n",
       "    <tr>\n",
       "      <td>50411</td>\n",
       "      <td>2018-05-31 23:50:00</td>\n",
       "      <td>5.80</td>\n",
       "      <td>11369640365507475976</td>\n",
       "    </tr>\n",
       "    <tr>\n",
       "      <td>50412</td>\n",
       "      <td>2018-05-31 23:54:00</td>\n",
       "      <td>0.30</td>\n",
       "      <td>1786462140797698849</td>\n",
       "    </tr>\n",
       "    <tr>\n",
       "      <td>50413</td>\n",
       "      <td>2018-05-31 23:56:00</td>\n",
       "      <td>3.67</td>\n",
       "      <td>3993697860786194247</td>\n",
       "    </tr>\n",
       "    <tr>\n",
       "      <td>50414</td>\n",
       "      <td>2018-06-01 00:02:00</td>\n",
       "      <td>3.42</td>\n",
       "      <td>83872787173869366</td>\n",
       "    </tr>\n",
       "  </tbody>\n",
       "</table>\n",
       "</div>"
      ],
      "text/plain": [
       "                   Buy Ts  Revenue                   Uid\n",
       "50410 2018-05-31 23:50:00     4.64  12296626599487328624\n",
       "50411 2018-05-31 23:50:00     5.80  11369640365507475976\n",
       "50412 2018-05-31 23:54:00     0.30   1786462140797698849\n",
       "50413 2018-05-31 23:56:00     3.67   3993697860786194247\n",
       "50414 2018-06-01 00:02:00     3.42     83872787173869366"
      ]
     },
     "execution_count": 25,
     "metadata": {},
     "output_type": "execute_result"
    }
   ],
   "source": [
    "#cecking the table\n",
    "orders.head()\n",
    "orders.tail()"
   ]
  },
  {
   "cell_type": "markdown",
   "metadata": {},
   "source": [
    "- columns names needed to be lowercase and adjusted"
   ]
  },
  {
   "cell_type": "code",
   "execution_count": 26,
   "metadata": {},
   "outputs": [
    {
     "name": "stdout",
     "output_type": "stream",
     "text": [
      "<class 'pandas.core.frame.DataFrame'>\n",
      "RangeIndex: 50415 entries, 0 to 50414\n",
      "Data columns (total 3 columns):\n",
      "Buy Ts     50415 non-null datetime64[ns]\n",
      "Revenue    50415 non-null float64\n",
      "Uid        50415 non-null uint64\n",
      "dtypes: datetime64[ns](1), float64(1), uint64(1)\n",
      "memory usage: 1.2 MB\n"
     ]
    }
   ],
   "source": [
    "#cecking information about the table\n",
    "orders.info()"
   ]
  },
  {
   "cell_type": "markdown",
   "metadata": {},
   "source": [
    "- there are no missing values in columns, data types are correct"
   ]
  },
  {
   "cell_type": "code",
   "execution_count": 27,
   "metadata": {},
   "outputs": [
    {
     "data": {
      "text/plain": [
       "count    50415.000000\n",
       "mean         4.999647\n",
       "std         21.818359\n",
       "min          0.000000\n",
       "25%          1.220000\n",
       "50%          2.500000\n",
       "75%          4.890000\n",
       "max       2633.280000\n",
       "Name: Revenue, dtype: float64"
      ]
     },
     "execution_count": 27,
     "metadata": {},
     "output_type": "execute_result"
    }
   ],
   "source": [
    "#checking values in column with numbers\n",
    "orders.Revenue.describe()"
   ]
  },
  {
   "cell_type": "markdown",
   "metadata": {},
   "source": [
    "- revenue range from 0 to 2633 y.e.;\n",
    "- there are small amount of users (less than 25%) who pay much more than others, probably it is corporate users;\n",
    "- there are zero values.  "
   ]
  },
  {
   "cell_type": "code",
   "execution_count": 28,
   "metadata": {},
   "outputs": [
    {
     "name": "stdout",
     "output_type": "stream",
     "text": [
      "Number of zero values: 51\n"
     ]
    }
   ],
   "source": [
    "#finding number of zero values\n",
    "zero_revenue = orders.query('Revenue == 0')['Uid'].count()\n",
    "print('Number of zero values:', zero_revenue)"
   ]
  },
  {
   "cell_type": "markdown",
   "metadata": {},
   "source": [
    "- there are 51 zero values in column 'Revenue'  \n",
    "  \n",
    "I checked Yandex.Afisha website and can assume that zero revenue from user can be if: \n",
    "- there is a bug; \n",
    "- user paid by gift certificates (probably moment when the certificate was buyed count as revenue equal of costs of certificate and moment when certificate was used  count as zero revenue)"
   ]
  },
  {
   "cell_type": "code",
   "execution_count": 29,
   "metadata": {},
   "outputs": [
    {
     "data": {
      "text/plain": [
       "count                   50415\n",
       "unique                  45991\n",
       "top       2018-05-31 10:13:00\n",
       "freq                        9\n",
       "first     2017-06-01 00:10:00\n",
       "last      2018-06-01 00:02:00\n",
       "Name: Buy Ts, dtype: object"
      ]
     },
     "execution_count": 29,
     "metadata": {},
     "output_type": "execute_result"
    }
   ],
   "source": [
    "#checking values in columns with datetime\n",
    "orders['Buy Ts'].describe()"
   ]
  },
  {
   "cell_type": "markdown",
   "metadata": {},
   "source": [
    "- our considered period are from June 2017 through May 2018 and latest order date and time contain to June;  \n",
    "  \n",
    "Looking to time of this purchase 00:02:00 I assume that session of this order started in May and this is the reason why we have this value in data. I will change this date on 2018-05-31 23:59:00 if it will be necessary for analysis.\n",
    "   \n",
    "- other values in this column look normal and dates correspond to dates in the visits table."
   ]
  },
  {
   "cell_type": "markdown",
   "metadata": {},
   "source": [
    "[Back to the Table of Contents](#contents)"
   ]
  },
  {
   "cell_type": "markdown",
   "metadata": {},
   "source": [
    "#### 2.1 Costs table <a class=\"anchor\" id=\"chapter7\"></a>"
   ]
  },
  {
   "cell_type": "code",
   "execution_count": 30,
   "metadata": {},
   "outputs": [
    {
     "data": {
      "text/html": [
       "<div>\n",
       "<style scoped>\n",
       "    .dataframe tbody tr th:only-of-type {\n",
       "        vertical-align: middle;\n",
       "    }\n",
       "\n",
       "    .dataframe tbody tr th {\n",
       "        vertical-align: top;\n",
       "    }\n",
       "\n",
       "    .dataframe thead th {\n",
       "        text-align: right;\n",
       "    }\n",
       "</style>\n",
       "<table border=\"1\" class=\"dataframe\">\n",
       "  <thead>\n",
       "    <tr style=\"text-align: right;\">\n",
       "      <th></th>\n",
       "      <th>source_id</th>\n",
       "      <th>dt</th>\n",
       "      <th>costs</th>\n",
       "    </tr>\n",
       "  </thead>\n",
       "  <tbody>\n",
       "    <tr>\n",
       "      <td>2537</td>\n",
       "      <td>10</td>\n",
       "      <td>2018-05-27</td>\n",
       "      <td>9.92</td>\n",
       "    </tr>\n",
       "    <tr>\n",
       "      <td>2538</td>\n",
       "      <td>10</td>\n",
       "      <td>2018-05-28</td>\n",
       "      <td>21.26</td>\n",
       "    </tr>\n",
       "    <tr>\n",
       "      <td>2539</td>\n",
       "      <td>10</td>\n",
       "      <td>2018-05-29</td>\n",
       "      <td>11.32</td>\n",
       "    </tr>\n",
       "    <tr>\n",
       "      <td>2540</td>\n",
       "      <td>10</td>\n",
       "      <td>2018-05-30</td>\n",
       "      <td>33.15</td>\n",
       "    </tr>\n",
       "    <tr>\n",
       "      <td>2541</td>\n",
       "      <td>10</td>\n",
       "      <td>2018-05-31</td>\n",
       "      <td>17.60</td>\n",
       "    </tr>\n",
       "  </tbody>\n",
       "</table>\n",
       "</div>"
      ],
      "text/plain": [
       "      source_id         dt  costs\n",
       "2537         10 2018-05-27   9.92\n",
       "2538         10 2018-05-28  21.26\n",
       "2539         10 2018-05-29  11.32\n",
       "2540         10 2018-05-30  33.15\n",
       "2541         10 2018-05-31  17.60"
      ]
     },
     "execution_count": 30,
     "metadata": {},
     "output_type": "execute_result"
    }
   ],
   "source": [
    "#cecking the table\n",
    "costs.head()\n",
    "costs.tail()"
   ]
  },
  {
   "cell_type": "markdown",
   "metadata": {},
   "source": [
    "- name of column 'dt' contain only date and need to be changed"
   ]
  },
  {
   "cell_type": "code",
   "execution_count": 31,
   "metadata": {},
   "outputs": [
    {
     "name": "stdout",
     "output_type": "stream",
     "text": [
      "<class 'pandas.core.frame.DataFrame'>\n",
      "RangeIndex: 2542 entries, 0 to 2541\n",
      "Data columns (total 3 columns):\n",
      "source_id    2542 non-null int64\n",
      "dt           2542 non-null datetime64[ns]\n",
      "costs        2542 non-null float64\n",
      "dtypes: datetime64[ns](1), float64(1), int64(1)\n",
      "memory usage: 59.7 KB\n"
     ]
    }
   ],
   "source": [
    "#cecking information about the table\n",
    "costs.info()"
   ]
  },
  {
   "cell_type": "markdown",
   "metadata": {},
   "source": [
    "- there are no missing values in columns, data types are correct"
   ]
  },
  {
   "cell_type": "code",
   "execution_count": 32,
   "metadata": {},
   "outputs": [
    {
     "data": {
      "text/plain": [
       "5     364\n",
       "9     363\n",
       "3     363\n",
       "1     363\n",
       "10    363\n",
       "4     363\n",
       "2     363\n",
       "Name: source_id, dtype: int64"
      ]
     },
     "execution_count": 32,
     "metadata": {},
     "output_type": "execute_result"
    }
   ],
   "source": [
    "costs['source_id'].value_counts()"
   ]
  },
  {
   "cell_type": "markdown",
   "metadata": {},
   "source": [
    "- there are 7 ad source which company spent money for, 1-5 and 9-10 source id."
   ]
  },
  {
   "cell_type": "code",
   "execution_count": 33,
   "metadata": {},
   "outputs": [
    {
     "data": {
      "text/html": [
       "<div>\n",
       "<style scoped>\n",
       "    .dataframe tbody tr th:only-of-type {\n",
       "        vertical-align: middle;\n",
       "    }\n",
       "\n",
       "    .dataframe tbody tr th {\n",
       "        vertical-align: top;\n",
       "    }\n",
       "\n",
       "    .dataframe thead th {\n",
       "        text-align: right;\n",
       "    }\n",
       "</style>\n",
       "<table border=\"1\" class=\"dataframe\">\n",
       "  <thead>\n",
       "    <tr style=\"text-align: right;\">\n",
       "      <th></th>\n",
       "      <th>source_id</th>\n",
       "      <th>dt</th>\n",
       "      <th>costs</th>\n",
       "    </tr>\n",
       "  </thead>\n",
       "  <tbody>\n",
       "    <tr>\n",
       "      <td>count</td>\n",
       "      <td>2542.000000</td>\n",
       "      <td>2542</td>\n",
       "      <td>2542.000000</td>\n",
       "    </tr>\n",
       "    <tr>\n",
       "      <td>unique</td>\n",
       "      <td>NaN</td>\n",
       "      <td>364</td>\n",
       "      <td>NaN</td>\n",
       "    </tr>\n",
       "    <tr>\n",
       "      <td>top</td>\n",
       "      <td>NaN</td>\n",
       "      <td>2018-03-03 00:00:00</td>\n",
       "      <td>NaN</td>\n",
       "    </tr>\n",
       "    <tr>\n",
       "      <td>freq</td>\n",
       "      <td>NaN</td>\n",
       "      <td>7</td>\n",
       "      <td>NaN</td>\n",
       "    </tr>\n",
       "    <tr>\n",
       "      <td>first</td>\n",
       "      <td>NaN</td>\n",
       "      <td>2017-06-01 00:00:00</td>\n",
       "      <td>NaN</td>\n",
       "    </tr>\n",
       "    <tr>\n",
       "      <td>last</td>\n",
       "      <td>NaN</td>\n",
       "      <td>2018-05-31 00:00:00</td>\n",
       "      <td>NaN</td>\n",
       "    </tr>\n",
       "    <tr>\n",
       "      <td>mean</td>\n",
       "      <td>4.857199</td>\n",
       "      <td>NaN</td>\n",
       "      <td>129.477427</td>\n",
       "    </tr>\n",
       "    <tr>\n",
       "      <td>std</td>\n",
       "      <td>3.181581</td>\n",
       "      <td>NaN</td>\n",
       "      <td>156.296628</td>\n",
       "    </tr>\n",
       "    <tr>\n",
       "      <td>min</td>\n",
       "      <td>1.000000</td>\n",
       "      <td>NaN</td>\n",
       "      <td>0.540000</td>\n",
       "    </tr>\n",
       "    <tr>\n",
       "      <td>25%</td>\n",
       "      <td>2.000000</td>\n",
       "      <td>NaN</td>\n",
       "      <td>21.945000</td>\n",
       "    </tr>\n",
       "    <tr>\n",
       "      <td>50%</td>\n",
       "      <td>4.000000</td>\n",
       "      <td>NaN</td>\n",
       "      <td>77.295000</td>\n",
       "    </tr>\n",
       "    <tr>\n",
       "      <td>75%</td>\n",
       "      <td>9.000000</td>\n",
       "      <td>NaN</td>\n",
       "      <td>170.065000</td>\n",
       "    </tr>\n",
       "    <tr>\n",
       "      <td>max</td>\n",
       "      <td>10.000000</td>\n",
       "      <td>NaN</td>\n",
       "      <td>1788.280000</td>\n",
       "    </tr>\n",
       "  </tbody>\n",
       "</table>\n",
       "</div>"
      ],
      "text/plain": [
       "          source_id                   dt        costs\n",
       "count   2542.000000                 2542  2542.000000\n",
       "unique          NaN                  364          NaN\n",
       "top             NaN  2018-03-03 00:00:00          NaN\n",
       "freq            NaN                    7          NaN\n",
       "first           NaN  2017-06-01 00:00:00          NaN\n",
       "last            NaN  2018-05-31 00:00:00          NaN\n",
       "mean       4.857199                  NaN   129.477427\n",
       "std        3.181581                  NaN   156.296628\n",
       "min        1.000000                  NaN     0.540000\n",
       "25%        2.000000                  NaN    21.945000\n",
       "50%        4.000000                  NaN    77.295000\n",
       "75%        9.000000                  NaN   170.065000\n",
       "max       10.000000                  NaN  1788.280000"
      ]
     },
     "execution_count": 33,
     "metadata": {},
     "output_type": "execute_result"
    }
   ],
   "source": [
    "#checking values in columns\n",
    "costs.describe(include='all')"
   ]
  },
  {
   "cell_type": "markdown",
   "metadata": {},
   "source": [
    "- values in these columns look normal and dates correspond to dates in the considered period"
   ]
  },
  {
   "cell_type": "markdown",
   "metadata": {},
   "source": [
    "[Back to the Table of Contents](#contents)"
   ]
  },
  {
   "cell_type": "markdown",
   "metadata": {},
   "source": [
    "#### Conclusion <a class=\"anchor\" id=\"chapter8\"></a>"
   ]
  },
  {
   "cell_type": "markdown",
   "metadata": {},
   "source": [
    "Data sets were studied.  \n",
    "I found:  \n",
    "visits table:\n",
    "- columns names needed to be lowercase and adjusted;\n",
    "- two bugs with start and end visit date time;\n",
    "- visits with zero seconds duration;\n",
    "- bounce rate is 10%.\n",
    "  \n",
    "orders table:\n",
    "- columns names needed to be lowercase and adjusted;\n",
    "- zero values in column 'Revenue';\n",
    "- purchase in June.\n",
    "\n",
    "costs table:\n",
    "- name of column 'dt' need to be changed."
   ]
  },
  {
   "cell_type": "markdown",
   "metadata": {},
   "source": [
    "[Back to the Table of Contents](#contents)"
   ]
  },
  {
   "cell_type": "markdown",
   "metadata": {},
   "source": [
    "### 3. Data preprocessing <a class=\"anchor\" id=\"chapter9\"></a>"
   ]
  },
  {
   "cell_type": "markdown",
   "metadata": {},
   "source": [
    "#### 3.1 Columns names preparation <a class=\"anchor\" id=\"chapter10\"></a>"
   ]
  },
  {
   "cell_type": "code",
   "execution_count": 34,
   "metadata": {},
   "outputs": [
    {
     "data": {
      "text/html": [
       "<div>\n",
       "<style scoped>\n",
       "    .dataframe tbody tr th:only-of-type {\n",
       "        vertical-align: middle;\n",
       "    }\n",
       "\n",
       "    .dataframe tbody tr th {\n",
       "        vertical-align: top;\n",
       "    }\n",
       "\n",
       "    .dataframe thead th {\n",
       "        text-align: right;\n",
       "    }\n",
       "</style>\n",
       "<table border=\"1\" class=\"dataframe\">\n",
       "  <thead>\n",
       "    <tr style=\"text-align: right;\">\n",
       "      <th></th>\n",
       "      <th>device</th>\n",
       "      <th>end_ts</th>\n",
       "      <th>source_id</th>\n",
       "      <th>start_ts</th>\n",
       "      <th>uid</th>\n",
       "      <th>check</th>\n",
       "    </tr>\n",
       "  </thead>\n",
       "  <tbody>\n",
       "    <tr>\n",
       "      <td>88746</td>\n",
       "      <td>desktop</td>\n",
       "      <td>2018-03-17 11:15:00</td>\n",
       "      <td>3</td>\n",
       "      <td>2018-03-17 11:07:00</td>\n",
       "      <td>3794429147609413700</td>\n",
       "      <td>Ok</td>\n",
       "    </tr>\n",
       "  </tbody>\n",
       "</table>\n",
       "</div>"
      ],
      "text/plain": [
       "        device              end_ts  source_id            start_ts  \\\n",
       "88746  desktop 2018-03-17 11:15:00          3 2018-03-17 11:07:00   \n",
       "\n",
       "                       uid check  \n",
       "88746  3794429147609413700    Ok  "
      ]
     },
     "execution_count": 34,
     "metadata": {},
     "output_type": "execute_result"
    }
   ],
   "source": [
    "#changing letter case in column names\n",
    "visits.columns = visits.columns.str.lower()\n",
    "#renaming columns\n",
    "visits.rename(columns={'end ts': 'end_ts'}, inplace=True)\n",
    "visits.rename(columns={'source id': 'source_id'}, inplace=True)\n",
    "visits.rename(columns={'start ts': 'start_ts'}, inplace=True)\n",
    "#checking result\n",
    "visits.sample()"
   ]
  },
  {
   "cell_type": "code",
   "execution_count": 35,
   "metadata": {},
   "outputs": [
    {
     "data": {
      "text/html": [
       "<div>\n",
       "<style scoped>\n",
       "    .dataframe tbody tr th:only-of-type {\n",
       "        vertical-align: middle;\n",
       "    }\n",
       "\n",
       "    .dataframe tbody tr th {\n",
       "        vertical-align: top;\n",
       "    }\n",
       "\n",
       "    .dataframe thead th {\n",
       "        text-align: right;\n",
       "    }\n",
       "</style>\n",
       "<table border=\"1\" class=\"dataframe\">\n",
       "  <thead>\n",
       "    <tr style=\"text-align: right;\">\n",
       "      <th></th>\n",
       "      <th>buy_ts</th>\n",
       "      <th>revenue</th>\n",
       "      <th>uid</th>\n",
       "    </tr>\n",
       "  </thead>\n",
       "  <tbody>\n",
       "    <tr>\n",
       "      <td>38653</td>\n",
       "      <td>2018-03-07 10:50:00</td>\n",
       "      <td>4.89</td>\n",
       "      <td>6917012148479297237</td>\n",
       "    </tr>\n",
       "  </tbody>\n",
       "</table>\n",
       "</div>"
      ],
      "text/plain": [
       "                   buy_ts  revenue                  uid\n",
       "38653 2018-03-07 10:50:00     4.89  6917012148479297237"
      ]
     },
     "execution_count": 35,
     "metadata": {},
     "output_type": "execute_result"
    }
   ],
   "source": [
    "#changing letter case in column names\n",
    "orders.columns = orders.columns.str.lower()\n",
    "#renaming columns\n",
    "orders.rename(columns={'buy ts': 'buy_ts'}, inplace=True)\n",
    "#checking result\n",
    "orders.sample()"
   ]
  },
  {
   "cell_type": "code",
   "execution_count": 36,
   "metadata": {},
   "outputs": [
    {
     "data": {
      "text/html": [
       "<div>\n",
       "<style scoped>\n",
       "    .dataframe tbody tr th:only-of-type {\n",
       "        vertical-align: middle;\n",
       "    }\n",
       "\n",
       "    .dataframe tbody tr th {\n",
       "        vertical-align: top;\n",
       "    }\n",
       "\n",
       "    .dataframe thead th {\n",
       "        text-align: right;\n",
       "    }\n",
       "</style>\n",
       "<table border=\"1\" class=\"dataframe\">\n",
       "  <thead>\n",
       "    <tr style=\"text-align: right;\">\n",
       "      <th></th>\n",
       "      <th>source_id</th>\n",
       "      <th>date</th>\n",
       "      <th>costs</th>\n",
       "    </tr>\n",
       "  </thead>\n",
       "  <tbody>\n",
       "    <tr>\n",
       "      <td>1635</td>\n",
       "      <td>5</td>\n",
       "      <td>2017-12-01</td>\n",
       "      <td>216.67</td>\n",
       "    </tr>\n",
       "  </tbody>\n",
       "</table>\n",
       "</div>"
      ],
      "text/plain": [
       "      source_id       date   costs\n",
       "1635          5 2017-12-01  216.67"
      ]
     },
     "execution_count": 36,
     "metadata": {},
     "output_type": "execute_result"
    }
   ],
   "source": [
    "#renaming columns\n",
    "costs.rename(columns={'dt': 'date'}, inplace=True)\n",
    "#checking result\n",
    "costs.sample()"
   ]
  },
  {
   "cell_type": "markdown",
   "metadata": {},
   "source": [
    "I made letters in lowercase and changed column names."
   ]
  },
  {
   "cell_type": "markdown",
   "metadata": {},
   "source": [
    "[Back to the Table of Contents](#contents)"
   ]
  },
  {
   "cell_type": "markdown",
   "metadata": {},
   "source": [
    "#### 3.2 Processing abnormal values <a class=\"anchor\" id=\"chapter11\"></a>"
   ]
  },
  {
   "cell_type": "code",
   "execution_count": 37,
   "metadata": {},
   "outputs": [
    {
     "data": {
      "text/plain": [
       "Ok    323604\n",
       "Name: check, dtype: int64"
      ]
     },
     "execution_count": 37,
     "metadata": {},
     "output_type": "execute_result"
    }
   ],
   "source": [
    "#deleting abnormal values\n",
    "visits = visits.drop(visits[visits.check == \"Bug\"].index)\n",
    "visits = visits.drop(visits[visits.check == \"Zero seconds\"].index)\n",
    "#checking result\n",
    "visits.check.value_counts()"
   ]
  },
  {
   "cell_type": "markdown",
   "metadata": {},
   "source": [
    "For analysis users activity we need users without bugs with start and end visits time and users with duration session not equal to zero.  \n",
    "Therefore I deleted rows with zero duration seconds and with bugs."
   ]
  },
  {
   "cell_type": "code",
   "execution_count": 38,
   "metadata": {},
   "outputs": [
    {
     "data": {
      "text/plain": [
       "0"
      ]
     },
     "execution_count": 38,
     "metadata": {},
     "output_type": "execute_result"
    }
   ],
   "source": [
    "#deleting unnecessary values\n",
    "orders = orders.drop(orders[orders.revenue == 0].index)\n",
    "#checking result\n",
    "orders.query('revenue == 0')['uid'].count()"
   ]
  },
  {
   "cell_type": "markdown",
   "metadata": {},
   "source": [
    "As I assumed in the previous step, if users with zero revenue used gift certificates - we can delete these rows with zero revenue, cause we already have revenue from this purchase somewhere (probably moment when the certificate was buyed count as revenue equal of costs of certificate and moment when certificate was used  count as zero revenue).  \n",
    "I deleted rows with zero revenue."
   ]
  },
  {
   "cell_type": "markdown",
   "metadata": {},
   "source": [
    "[Back to the Table of Contents](#contents)"
   ]
  },
  {
   "cell_type": "markdown",
   "metadata": {},
   "source": [
    "#### Conclusion <a class=\"anchor\" id=\"chapter12\"></a>"
   ]
  },
  {
   "cell_type": "markdown",
   "metadata": {},
   "source": [
    "Data was preprocessed. \n",
    "- letters in column names were made lowercase;\n",
    "- column names in tables were changed;\n",
    "- abnormal values were deleted;\n",
    "- unnecessary for analysis values were deleted."
   ]
  },
  {
   "cell_type": "markdown",
   "metadata": {},
   "source": [
    "[Back to the Table of Contents](#contents)"
   ]
  },
  {
   "cell_type": "markdown",
   "metadata": {},
   "source": [
    "### 4. Making reports and calculating metrics <a class=\"anchor\" id=\"chapter13\"></a>"
   ]
  },
  {
   "cell_type": "markdown",
   "metadata": {},
   "source": [
    "#### 4.1 Product <a class=\"anchor\" id=\"chapter14\"></a>"
   ]
  },
  {
   "cell_type": "code",
   "execution_count": 39,
   "metadata": {},
   "outputs": [
    {
     "name": "stdout",
     "output_type": "stream",
     "text": [
      "Total number of visits: 323604\n",
      "Number of users: 207051\n"
     ]
    }
   ],
   "source": [
    "#checking basic values\n",
    "total_visits = len(visits)\n",
    "nunique_users_visits = visits.uid.nunique()\n",
    "print('Total number of visits:', total_visits)\n",
    "print('Number of users:', nunique_users_visits)"
   ]
  },
  {
   "cell_type": "code",
   "execution_count": 40,
   "metadata": {},
   "outputs": [
    {
     "name": "stdout",
     "output_type": "stream",
     "text": [
      "Number of paying users: 36509\n"
     ]
    }
   ],
   "source": [
    "#making category with users made orders\n",
    "paying_users = orders.uid\n",
    "nunique_users_orders = orders.uid.nunique()\n",
    "print('Number of paying users:', nunique_users_orders)"
   ]
  },
  {
   "cell_type": "markdown",
   "metadata": {},
   "source": [
    "With given data we can't know on which visit exactly the purchase was made.  \n",
    "We can merge the visits and orders tables and approximately find the first source or device where user come from, but during analysis I found that some users did fast buying (buying without visits other pages, I will cover it in the next section).  \n",
    "Therefore I decided to create category: \"paying users\" for comparing users behavior in the paying and not paying groups.\n",
    "I took users ids from the table orders and saved in into 'paying_users' parameter. I will use it in analysis to make slices from visits table."
   ]
  },
  {
   "cell_type": "code",
   "execution_count": 41,
   "metadata": {},
   "outputs": [
    {
     "data": {
      "image/png": "[encoded data removed]",
      "text/plain": [
       "<Figure size 432x288 with 1 Axes>"
      ]
     },
     "metadata": {},
     "output_type": "display_data"
    }
   ],
   "source": [
    "#comparing number of visits from different devices\n",
    "x = visits[visits['device'] == 'touch']['uid'].count()\n",
    "y = visits[visits['device'] == 'desktop']['uid'].count()\n",
    "lables = ['Touch', 'Desktop']\n",
    "values = [x, y]\n",
    "fig1, ax1 = plt.subplots()\n",
    "wedges, text, autotext = ax1.pie(values, labels=lables, autopct='%1.0f%%')\n",
    "ax1.axis('equal')\n",
    "plt.title('All users')\n",
    "plt.show()"
   ]
  },
  {
   "cell_type": "markdown",
   "metadata": {},
   "source": [
    "As we can see on the pie chart users came from desktop mostly.  \n",
    "Let's compare number of visits for paying and not paying users: "
   ]
  },
  {
   "cell_type": "code",
   "execution_count": 42,
   "metadata": {},
   "outputs": [
    {
     "data": {
      "image/png": "[encoded data removed]",
      "text/plain": [
       "<Figure size 432x288 with 1 Axes>"
      ]
     },
     "metadata": {},
     "output_type": "display_data"
    },
    {
     "data": {
      "image/png": "[encoded data removed]",
      "text/plain": [
       "<Figure size 432x288 with 1 Axes>"
      ]
     },
     "metadata": {},
     "output_type": "display_data"
    }
   ],
   "source": [
    "#comparing number of visits from different devices for two groups\n",
    "#paying group\n",
    "x_1 = visits.query('uid in @paying_users & device == \"touch\"')['uid'].count()\n",
    "y_1 = visits.query('uid in @paying_users & device == \"desktop\"')['uid'].count()\n",
    "lables = ['Touch', 'Desktop']\n",
    "values = [x_1, y_1]\n",
    "fig1, ax1 = plt.subplots()\n",
    "wedges, text, autotext = ax1.pie(values, labels=lables, autopct='%1.0f%%')\n",
    "ax1.axis('equal')\n",
    "plt.title('Paying users')\n",
    "plt.show()\n",
    "#not paying group\n",
    "x_2 = visits.query('uid not in @paying_users & device == \"touch\"')['uid'].count()\n",
    "y_2 = visits.query('uid not in @paying_users & device == \"desktop\"')['uid'].count()\n",
    "lables = ['Touch', 'Desktop']\n",
    "values = [x_2, y_2]\n",
    "fig1, ax1 = plt.subplots()\n",
    "wedges, text, autotext = ax1.pie(values, labels=lables, autopct='%1.0f%%')\n",
    "ax1.axis('equal')\n",
    "plt.title('Not paying users')\n",
    "plt.show()"
   ]
  },
  {
   "cell_type": "markdown",
   "metadata": {},
   "source": [
    "Users from paying group use desktop for visits more than users from not paying group."
   ]
  },
  {
   "cell_type": "markdown",
   "metadata": {},
   "source": [
    "[Back to the Table of Contents](#contents)"
   ]
  },
  {
   "cell_type": "markdown",
   "metadata": {},
   "source": [
    "**1. How many people use it every day, week, and month?**  <a class=\"anchor\" id=\"chapter15\"></a>"
   ]
  },
  {
   "cell_type": "markdown",
   "metadata": {},
   "source": [
    "**DAU, WAU, MAU** <a class=\"anchor\" id=\"chapter16\"></a>"
   ]
  },
  {
   "cell_type": "code",
   "execution_count": 43,
   "metadata": {},
   "outputs": [
    {
     "name": "stdout",
     "output_type": "stream",
     "text": [
      "Number of daily active users: 817\n",
      "Number of weekly active users: 5148\n",
      "Number of monthly active users: 20955\n"
     ]
    }
   ],
   "source": [
    "#creating separate columns for year, month, and week values\n",
    "#converting the datetime\n",
    "visits['date'] = visits['start_ts'].dt.date\n",
    "visits['week'] = visits['start_ts'].dt.week\n",
    "visits['month'] = visits['start_ts'].dt.month\n",
    "visits['year'] = visits['start_ts'].dt.year\n",
    "#calculating metrics\n",
    "dau_total = visits.groupby(['date']).agg({'uid': 'nunique'}).mean()\n",
    "wau_total = visits.groupby(['year', 'week']).agg({'uid': 'nunique'}).mean()\n",
    "mau_total = visits.groupby(['year', 'month']).agg({'uid': 'nunique'}).mean()\n",
    "#printing results\n",
    "print(\"Number of daily active users:\", int(dau_total))\n",
    "print(\"Number of weekly active users:\", int(wau_total))\n",
    "print(\"Number of monthly active users:\", int(mau_total))"
   ]
  },
  {
   "cell_type": "markdown",
   "metadata": {},
   "source": [
    "In average 817 users came to Yandex.Afisha every day, 5148 users every week and 20955 users every month.  \n",
    "Let's check how number of visits/users were changing per month and per day:"
   ]
  },
  {
   "cell_type": "markdown",
   "metadata": {},
   "source": [
    "[Back to the Table of Contents](#contents)"
   ]
  },
  {
   "cell_type": "markdown",
   "metadata": {},
   "source": [
    "**2. How many sessions are there per day?** <a class=\"anchor\" id=\"chapter18\"></a>"
   ]
  },
  {
   "cell_type": "markdown",
   "metadata": {},
   "source": [
    "**Usage frequency** <a class=\"anchor\" id=\"chapter17\"></a>"
   ]
  },
  {
   "cell_type": "code",
   "execution_count": 44,
   "metadata": {},
   "outputs": [
    {
     "data": {
      "image/png": "[encoded data removed]",
      "text/plain": [
       "<Figure size 1296x432 with 1 Axes>"
      ]
     },
     "metadata": {
      "needs_background": "light"
     },
     "output_type": "display_data"
    },
    {
     "name": "stdout",
     "output_type": "stream",
     "text": [
      "Number of sessions per day: 889\n",
      "Usage frequency per day: 1.08\n"
     ]
    }
   ],
   "source": [
    "#calculating usage frequency\n",
    "sess_day = visits.pivot_table(index = 'date', values = 'uid', aggfunc= [('count', 'nunique')])\n",
    "#building graph with sessions per day\n",
    "sess_day.columns = ['n_visits', 'n_users']\n",
    "sess_day.plot(kind = 'line', figsize=(18,6))\n",
    "plt.xlabel('Date')\n",
    "plt.ylabel('Users activity')\n",
    "plt.title('Sessions per day')\n",
    "plt.show()\n",
    "\n",
    "sess_day['frequency'] = sess_day['n_visits']/sess_day['n_users']\n",
    "print('Number of sessions per day: {:.0f}'.format(sess_day['n_visits'].mean()))\n",
    "print('Usage frequency per day: {:.2f}'.format(sess_day['frequency'].mean()))"
   ]
  },
  {
   "cell_type": "markdown",
   "metadata": {},
   "source": [
    "As we can see on the graph number of daily session and users fluctuate evenly, but there is two significant outliers.   \n",
    "I assume that:\n",
    "- there was ad promo or maybe few big events in the end of November - highest peak;\n",
    "- there was technical issue in the end of March - lowest peak.  \n",
    "  \n",
    "Number of sessions per day is 889 in average, daily usage frequency is 1.08."
   ]
  },
  {
   "cell_type": "code",
   "execution_count": 45,
   "metadata": {},
   "outputs": [
    {
     "name": "stdout",
     "output_type": "stream",
     "text": [
      "Not paying users:\n"
     ]
    },
    {
     "data": {
      "text/plain": [
       "n_sessions         637.230769\n",
       "n_users            604.843407\n",
       "usage_frequency      1.050682\n",
       "dtype: float64"
      ]
     },
     "execution_count": 45,
     "metadata": {},
     "output_type": "execute_result"
    }
   ],
   "source": [
    "#calculating UF for not paying users\n",
    "print('Not paying users:')\n",
    "sessions_per_day = visits.query('uid not in @paying_users').groupby(['date']).agg({'uid': ['count','nunique']})\n",
    "sessions_per_day.columns = ['n_sessions', 'n_users']\n",
    "sessions_per_day['usage_frequency'] = sessions_per_day['n_sessions'] / sessions_per_day['n_users']\n",
    "sessions_per_day.mean()"
   ]
  },
  {
   "cell_type": "markdown",
   "metadata": {},
   "source": [
    "For not paying users group:\n",
    "- number of sessions per day is 637;\n",
    "- number of daily active users is 604;\n",
    "- usage frequency is 1.05.  \n",
    "  \n",
    "Usage frequency for not paying users group a little bit less than common UF."
   ]
  },
  {
   "cell_type": "code",
   "execution_count": 46,
   "metadata": {},
   "outputs": [
    {
     "name": "stdout",
     "output_type": "stream",
     "text": [
      "Paying users:\n"
     ]
    },
    {
     "data": {
      "text/plain": [
       "n_sessions         252.484848\n",
       "n_users            213.325069\n",
       "usage_frequency      1.172597\n",
       "dtype: float64"
      ]
     },
     "execution_count": 46,
     "metadata": {},
     "output_type": "execute_result"
    }
   ],
   "source": [
    "#calculating UF for paying users\n",
    "print('Paying users:')\n",
    "sessions_per_day = visits.query('uid in @paying_users').groupby(['date']).agg({'uid': ['count','nunique']})\n",
    "sessions_per_day.columns = ['n_sessions', 'n_users']\n",
    "sessions_per_day['usage_frequency'] = sessions_per_day['n_sessions'] / sessions_per_day['n_users']\n",
    "sessions_per_day.mean()"
   ]
  },
  {
   "cell_type": "markdown",
   "metadata": {},
   "source": [
    "For paying users group:\n",
    "- number of sessions per day is 252;\n",
    "- number of daily active users is 213;\n",
    "- usage frequency is 1.17.  \n",
    "  \n",
    "As we can see paying users visit website more often than not paying users."
   ]
  },
  {
   "cell_type": "code",
   "execution_count": 47,
   "metadata": {},
   "outputs": [
    {
     "data": {
      "image/png": "[encoded data removed]",
      "text/plain": [
       "<Figure size 432x288 with 1 Axes>"
      ]
     },
     "metadata": {
      "needs_background": "light"
     },
     "output_type": "display_data"
    },
    {
     "name": "stdout",
     "output_type": "stream",
     "text": [
      "Number of sessions per month: 26967\n",
      "Usage frequency per month: 1.28\n"
     ]
    }
   ],
   "source": [
    "#building graph with sessions per month\n",
    "sess_month = visits.pivot_table(index = ['year', 'month'], values = 'uid', aggfunc= [('count', 'nunique')])\n",
    "sess_month.columns = ['n_sessions', 'n_users']\n",
    "sess_month.plot(kind='bar')\n",
    "plt.xlabel('Year, month')\n",
    "plt.ylabel('Users activity')\n",
    "plt.title('All users')\n",
    "plt.show()\n",
    "\n",
    "sess_month['frequency'] = sess_month['n_sessions']/sess_month['n_users']\n",
    "print('Number of sessions per month: {:.0f}'.format(sess_month['n_sessions'].mean()))\n",
    "print('Usage frequency per month: {:.2f}'.format(sess_month['frequency'].mean()))"
   ]
  },
  {
   "cell_type": "markdown",
   "metadata": {},
   "source": [
    "As we can see on the graph monthly session:\n",
    "- in November - March was more sessions than in other months, probably it cause the weather: when weather is cold people looking for events, instead of walking or something. Also in December and January typical time for new movies/ shows because of New Year;\n",
    "- in June - August was less sessions than in other months, probably it because summer is high season for vacations and people go to abroad/village/sea/and other;\n",
    "- there was a highest peak in November 2017 - as I assumed before maybe there was some ad promotion;\n",
    "- number of users and number of sessions have the same fluctuate.\n",
    "\n",
    "Number of sessions per month is 26967 in average, monthly usage frequency is 1.28."
   ]
  },
  {
   "cell_type": "code",
   "execution_count": 48,
   "metadata": {},
   "outputs": [
    {
     "data": {
      "image/png": "[encoded data removed]",
      "text/plain": [
       "<Figure size 432x288 with 1 Axes>"
      ]
     },
     "metadata": {
      "needs_background": "light"
     },
     "output_type": "display_data"
    },
    {
     "name": "stdout",
     "output_type": "stream",
     "text": [
      "Number of sessions per month: 7638\n",
      "Usage frequency per month: 1.67\n"
     ]
    }
   ],
   "source": [
    "#building graph with sessions per month for paying users group\n",
    "sess_month = visits.query('uid in @paying_users').pivot_table(index = ['year', 'month'], values = 'uid', aggfunc= [('count', 'nunique')])\n",
    "sess_month.columns = ['n_sessions', 'n_users']\n",
    "sess_month.plot(kind='bar')\n",
    "plt.xlabel('Year, month')\n",
    "plt.ylabel('Users activity')\n",
    "plt.title('All users')\n",
    "plt.show()\n",
    "\n",
    "sess_month['frequency'] = sess_month['n_sessions']/sess_month['n_users']\n",
    "print('Number of sessions per month: {:.0f}'.format(sess_month['n_sessions'].mean()))\n",
    "print('Usage frequency per month: {:.2f}'.format(sess_month['frequency'].mean()))"
   ]
  },
  {
   "cell_type": "markdown",
   "metadata": {},
   "source": [
    "In general graph for paying users group shows the same fluctuate per months. As I found before, paying users come to website more often than not paying users group and we can see it on the graph. Howewer in November (month where probably was ad promotion) there is not highest peak for number of users in this group, but highest peak for number of sessions.  \n",
    "For paying group: highest sessions was in November, but highest number of unique users was in December."
   ]
  },
  {
   "cell_type": "markdown",
   "metadata": {},
   "source": [
    "[Back to the Table of Contents](#contents)"
   ]
  },
  {
   "cell_type": "markdown",
   "metadata": {},
   "source": [
    "**3. What is the length of each session?** <a class=\"anchor\" id=\"chapter19\"></a>"
   ]
  },
  {
   "cell_type": "code",
   "execution_count": 49,
   "metadata": {},
   "outputs": [
    {
     "data": {
      "image/png": "[encoded data removed]",
      "text/plain": [
       "<Figure size 432x288 with 1 Axes>"
      ]
     },
     "metadata": {
      "needs_background": "light"
     },
     "output_type": "display_data"
    },
    {
     "name": "stdout",
     "output_type": "stream",
     "text": [
      "count    323604.000000\n",
      "mean        714.169516\n",
      "std        1026.349417\n",
      "min          19.000000\n",
      "25%         120.000000\n",
      "50%         360.000000\n",
      "75%         900.000000\n",
      "max       42660.000000\n",
      "Name: session_duration_sec, dtype: float64\n",
      "\n",
      "Mode session duration: 0    60\n",
      "dtype: int64\n"
     ]
    }
   ],
   "source": [
    "#creating column with session duration seconds\n",
    "visits['session_duration_sec'] = (visits['end_ts'] - visits['start_ts']).dt.seconds\n",
    "#building a histogram\n",
    "visits['session_duration_sec'].hist(bins=50, log=True)\n",
    "plt.xlabel('Session duration (sec)')\n",
    "plt.ylabel('Frequency')\n",
    "plt.show()\n",
    "#describing numbers from column\n",
    "print(visits['session_duration_sec'].describe())\n",
    "print()\n",
    "#calculating mode\n",
    "print('Mode session duration:', visits['session_duration_sec'].mode())"
   ]
  },
  {
   "cell_type": "markdown",
   "metadata": {},
   "source": [
    "Session duration range from 19 to 42660 seconds.  \n",
    "42660 seconds it is almost 12 hours, I assume that maybe users opened website and didn't close a page, sometimes returning to the site (in case if automatically stop counting when user froze on one page more than 30 minutes for example) or it can be a bug.  \n",
    "Anyway most of the users as we can see spending less than 15 minutes on the site.\n",
    "Median is 6 minutes.  \n",
    "Average is 12 misutes.  \n",
    "We have huge spread of data, therefore I found mode - 60 seconds. Most of the users spend 1 minute on the website.  Let's check if it is correct:"
   ]
  },
  {
   "cell_type": "code",
   "execution_count": 50,
   "metadata": {},
   "outputs": [
    {
     "name": "stdout",
     "output_type": "stream",
     "text": [
      "Number of sessions longer than 1 hour: 6563, 2.03%\n",
      "Number of sessions shorter than 1 minute: 53897, 16.66%\n"
     ]
    }
   ],
   "source": [
    "long_sess = visits.query('session_duration_sec >= 3600')['uid'].count()\n",
    "short_sess = visits.query('session_duration_sec <= 60')['uid'].count()\n",
    "print('Number of sessions longer than 1 hour: {}, {:.2%}'.format((long_sess), (long_sess/len(visits.uid))))\n",
    "print('Number of sessions shorter than 1 minute: {}, {:.2%}'.format((short_sess), (short_sess/len(visits.uid))))"
   ]
  },
  {
   "cell_type": "markdown",
   "metadata": {},
   "source": [
    "2% of sessions longer than 1 hour;  \n",
    "almost 17% of sessions shorter than 1 minute.  \n",
    "81% of sessions range from 1 minute till 1 hour.  \n",
    "I will limit session duration time by 1 hour and find average time that users spent on site."
   ]
  },
  {
   "cell_type": "code",
   "execution_count": 51,
   "metadata": {},
   "outputs": [
    {
     "name": "stdout",
     "output_type": "stream",
     "text": [
      "Average time spent on site: 618.17\n"
     ]
    }
   ],
   "source": [
    "#calculating TSS\n",
    "TSS = visits.query('session_duration_sec <= 3600')['session_duration_sec'].mean()\n",
    "print('Average time spent on site: {:.2f}'.format(TSS))"
   ]
  },
  {
   "cell_type": "markdown",
   "metadata": {},
   "source": [
    "TSS — time spent on site.  \n",
    "Around 10 minutes users spend on the website. I think this is enough time for searching events or purchasing.    \n",
    "Let's check paying users group."
   ]
  },
  {
   "cell_type": "code",
   "execution_count": 52,
   "metadata": {},
   "outputs": [
    {
     "name": "stdout",
     "output_type": "stream",
     "text": [
      "Average time spent on site for not paying users: 543.98\n",
      "Average time spent on site for paying users: 811.55\n"
     ]
    }
   ],
   "source": [
    "#calculating TSS for paying group\n",
    "TSS_npg = visits.query('uid not in @paying_users & session_duration_sec <= 3600')['session_duration_sec'].mean()\n",
    "print('Average time spent on site for not paying users: {:.2f}'.format(TSS_npg))\n",
    "#calculating TSS for not paying group\n",
    "TSS_pg = visits.query('uid in @paying_users & session_duration_sec <= 3600')['session_duration_sec'].mean()\n",
    "print('Average time spent on site for paying users: {:.2f}'.format(TSS_pg))"
   ]
  },
  {
   "cell_type": "markdown",
   "metadata": {},
   "source": [
    "Not paying users spend on the website around 9 minutes.  \n",
    "Paying users spend on the website around 13 minutes."
   ]
  },
  {
   "cell_type": "markdown",
   "metadata": {},
   "source": [
    "[Back to the Table of Contents](#contents)"
   ]
  },
  {
   "cell_type": "markdown",
   "metadata": {},
   "source": [
    "**4. How often do users come back?** <a class=\"anchor\" id=\"chapter20\"></a>"
   ]
  },
  {
   "cell_type": "markdown",
   "metadata": {},
   "source": [
    "**Sticky factor:** <a class=\"anchor\" id=\"chapter21\"></a>"
   ]
  },
  {
   "cell_type": "code",
   "execution_count": 53,
   "metadata": {},
   "outputs": [
    {
     "name": "stdout",
     "output_type": "stream",
     "text": [
      "Sticky factor for weekly audience: 15.880681279293752\n",
      "Sticky factor for monthly audience: 3.9014860781447385\n"
     ]
    }
   ],
   "source": [
    "#calculating metrics\n",
    "sticky_wau = dau_total/wau_total*100\n",
    "sticky_mau = dau_total/mau_total*100\n",
    "\n",
    "print('Sticky factor for weekly audience:', float(sticky_wau))\n",
    "print('Sticky factor for monthly audience:', float(sticky_mau))"
   ]
  },
  {
   "cell_type": "markdown",
   "metadata": {},
   "source": [
    "Sticky factor tells how loyal the audience is — how often they return to the website.    \n",
    "As we can see 16% of users return after week, but only 3% return after month.  \n",
    "Sticky factors are quite low, especially when it comes to months.  \n",
    "I will find retention rate for each users monthly cohort."
   ]
  },
  {
   "cell_type": "markdown",
   "metadata": {},
   "source": [
    "[Back to the Table of Contents](#contents)"
   ]
  },
  {
   "cell_type": "markdown",
   "metadata": {},
   "source": [
    "**Retention rate:** <a class=\"anchor\" id=\"chapter22\"></a>"
   ]
  },
  {
   "cell_type": "code",
   "execution_count": 54,
   "metadata": {},
   "outputs": [],
   "source": [
    "#creating column with date of first visit and join it to visits df\n",
    "first_activity_date = visits.groupby(['uid'])['start_ts'].min()\n",
    "first_activity_date.name = 'first_activity_date'\n",
    "visits = visits.join(first_activity_date,on='uid')"
   ]
  },
  {
   "cell_type": "markdown",
   "metadata": {},
   "source": [
    "- I found first visits date and saved it as 'first_activity_date';  \n",
    "- I joined data from the 'first_activity_date' with the visists table."
   ]
  },
  {
   "cell_type": "code",
   "execution_count": 55,
   "metadata": {},
   "outputs": [],
   "source": [
    "#creating column with month of visits and first month of visits\n",
    "visits['activity_month'] = visits['start_ts'].astype('datetime64[M]')\n",
    "visits['first_activity_month'] = visits['first_activity_date'] .astype('datetime64[M]')"
   ]
  },
  {
   "cell_type": "markdown",
   "metadata": {},
   "source": [
    "- I created columns with month and first month of visit"
   ]
  },
  {
   "cell_type": "code",
   "execution_count": 56,
   "metadata": {},
   "outputs": [],
   "source": [
    "#find the cohort's lifetime\n",
    "visits['cohort_lifetime'] = visits['activity_month'] - visits['first_activity_month']\n",
    "#dividing on the constant value np.timedelta64(1,'M') (where 'M' stands for month)\n",
    "visits['cohort_lifetime'] = visits['cohort_lifetime'] / np.timedelta64(1,'M')\n",
    "#rounding the lifetime values, then converting them to integers\n",
    "visits['cohort_lifetime'] = visits['cohort_lifetime'].round().astype(int)"
   ]
  },
  {
   "cell_type": "markdown",
   "metadata": {},
   "source": [
    "- I found user lifetime within the cohort for each row of table, rounded it and converted it to the necessary type."
   ]
  },
  {
   "cell_type": "code",
   "execution_count": 57,
   "metadata": {},
   "outputs": [],
   "source": [
    "#grouping the data and finding the number of active users\n",
    "cohorts = visits.groupby(['first_activity_month','cohort_lifetime']).agg({'uid':'nunique'}).reset_index()"
   ]
  },
  {
   "cell_type": "markdown",
   "metadata": {},
   "source": [
    "- I grouped the data by cohort and lifetime and found the number of active users at a certain lifetime month for each cohort"
   ]
  },
  {
   "cell_type": "code",
   "execution_count": 58,
   "metadata": {},
   "outputs": [],
   "source": [
    "#find the initial number of users in the cohort by looking at the 0th month\n",
    "initial_users_count = cohorts[cohorts['cohort_lifetime'] == 0][['first_activity_month','uid']]"
   ]
  },
  {
   "cell_type": "markdown",
   "metadata": {},
   "source": [
    "- I found the initial number of users in the cohort"
   ]
  },
  {
   "cell_type": "code",
   "execution_count": 59,
   "metadata": {},
   "outputs": [],
   "source": [
    "#renaming column\n",
    "initial_users_count = initial_users_count.rename(columns={'uid':'cohort_users'})"
   ]
  },
  {
   "cell_type": "markdown",
   "metadata": {},
   "source": [
    "- I renamed uid column as cohort_users"
   ]
  },
  {
   "cell_type": "code",
   "execution_count": 60,
   "metadata": {},
   "outputs": [],
   "source": [
    "#merging the data\n",
    "cohorts = cohorts.merge(initial_users_count,on='first_activity_month')"
   ]
  },
  {
   "cell_type": "markdown",
   "metadata": {},
   "source": [
    "- I merged the data on cohorts with the initial number of users in the cohort"
   ]
  },
  {
   "cell_type": "code",
   "execution_count": 61,
   "metadata": {},
   "outputs": [],
   "source": [
    "#calculating the retention rate\n",
    "cohorts['retention'] = cohorts['uid']/cohorts['cohort_users']"
   ]
  },
  {
   "cell_type": "markdown",
   "metadata": {},
   "source": [
    "- I divided the number of active users in each week by the initial number of users in the cohort and found retention rate"
   ]
  },
  {
   "cell_type": "code",
   "execution_count": 62,
   "metadata": {},
   "outputs": [
    {
     "data": {
      "image/png": "[encoded data removed]",
      "text/plain": [
       "<Figure size 936x648 with 2 Axes>"
      ]
     },
     "metadata": {},
     "output_type": "display_data"
    }
   ],
   "source": [
    "#making a pivot table\n",
    "retention_pivot = cohorts.pivot_table(index='first_activity_month',\n",
    "                                      columns='cohort_lifetime',values='retention',aggfunc='sum')\n",
    "#making a heatmap\n",
    "sns.set(style='white')\n",
    "plt.figure(figsize=(13, 9))\n",
    "plt.title('Cohorts: User Retention')\n",
    "sns.heatmap(retention_pivot, annot=True, fmt='.1%', linewidths=1, linecolor='gray');"
   ]
  },
  {
   "cell_type": "markdown",
   "metadata": {},
   "source": [
    "CRR - customer retention rate, i.e. the percentage of users who stay with you or make repeat purchases.  \n",
    "CRR is calculated as the ratio of the difference between the number of customers at the end of the reporting period and the number of new customers to the number of customers at the beginning of the period (measured as a percentage).  \n",
    "As the ratio grows, the business potential also grows."
   ]
  },
  {
   "cell_type": "markdown",
   "metadata": {},
   "source": [
    "Our monthly retention rate is decreasing for each new cohort.  \n",
    "For December and subsequent cohorts percentage of users who stay decreasing faster than for older cohort.  \n",
    "For old cohorts we can see that in October - November 2017 retention rate is increasing a bit, but  after November RR is decreasing, probably it is connected to ad promotion in November.\n",
    "The highest retention rate was 8.4% in October 2017, for the September cohort, which is still quite low.  \n",
    "In the last months out retention rate is rarely higher than 3%."
   ]
  },
  {
   "cell_type": "markdown",
   "metadata": {},
   "source": [
    "[Back to the Table of Contents](#contents)"
   ]
  },
  {
   "cell_type": "markdown",
   "metadata": {},
   "source": [
    "**Churn rate:** <a class=\"anchor\" id=\"chapter23\"></a>"
   ]
  },
  {
   "cell_type": "code",
   "execution_count": 63,
   "metadata": {},
   "outputs": [],
   "source": [
    "#calculating churn rate with pct_change() method\n",
    "cohorts['churn_rate'] = cohorts.groupby(['first_activity_month'])['uid'].pct_change()"
   ]
  },
  {
   "cell_type": "code",
   "execution_count": 64,
   "metadata": {},
   "outputs": [
    {
     "data": {
      "image/png": "[encoded data removed]",
      "text/plain": [
       "<Figure size 936x648 with 2 Axes>"
      ]
     },
     "metadata": {},
     "output_type": "display_data"
    }
   ],
   "source": [
    "#making a pivot table\n",
    "churn_pivot = cohorts.pivot_table(index='first_activity_month',columns='cohort_lifetime',values='churn_rate',aggfunc='sum')\n",
    "#making a heatmap\n",
    "sns.set(style='white')\n",
    "plt.figure(figsize=(13, 9))\n",
    "plt.title('Cohorts: Churn Rate')\n",
    "sns.heatmap(churn_pivot, annot=True, fmt='.1%', linewidths=1, linecolor='gray');"
   ]
  },
  {
   "cell_type": "markdown",
   "metadata": {},
   "source": [
    "Churn rate it is the percentage of users who do not return to the site.  \n",
    "The indicator is calculated as the ratio of the difference between the number of users at the beginning of the reporting period and the number of visitors at the end of the reporting period to the number of customers at the beginning of the month (measured as a percentage)."
   ]
  },
  {
   "cell_type": "markdown",
   "metadata": {},
   "source": [
    "As we can see from graph almost all the users didn't come back after the first month.  \n",
    "The first-month churn rate is rising, which means we're losing more and more users with each new cohort. The same I can say about second month.  \n",
    "In the third month for first 3 cohorts churn rate stopped rising and it was September-November.  \n",
    "In the April we can see sharp increase of churn rate, probably it connected to technical issue that we had in the end of March."
   ]
  },
  {
   "cell_type": "markdown",
   "metadata": {},
   "source": [
    "[Back to the Table of Contents](#contents)"
   ]
  },
  {
   "cell_type": "markdown",
   "metadata": {},
   "source": [
    "#### 5. Conclusion <a class=\"anchor\" id=\"chapter41\"></a>"
   ]
  },
  {
   "cell_type": "markdown",
   "metadata": {},
   "source": [
    "**In this step I found:**\n",
    "\n",
    "Total number of visits: 323604  \n",
    "Number of users: 207051\n",
    "\n",
    "1. In average 817 users came to site every day, 5148 users every week and 20955 users every month.\n",
    "2. Daily usage frequency is 1.08, monthly - 1.28.\n",
    "3. Users who did purchases came to website more often.\n",
    "4. Highest number of visits we had in October-December, then January-March 2018, less in April and May 2018 and lowest number of visits in the summer 2017.\n",
    "5. 74% of users came on site from desktop, 26% form touch.\n",
    "6. Users who did purchases came to website more often from desktop (81%) than from touch (19%) devices.\n",
    "7. Around 10 minutes users spend on the website. Users who did purchases in average spend on the website 4 minutes longer than others.\n",
    "8. 16% of users return after week, 3% return after month.\n",
    "9. Our monthly retention rate is decreasing for each new cohort.\n",
    "10. More than 90% users didn't come back after the first month.\n",
    "11. In the old cohorts we have more loyal users."
   ]
  },
  {
   "cell_type": "markdown",
   "metadata": {},
   "source": [
    "[Back to the Table of Contents](#contents)"
   ]
  },
  {
   "cell_type": "markdown",
   "metadata": {},
   "source": [
    "#### 4.2 Sales <a class=\"anchor\" id=\"chapter24\"></a>"
   ]
  },
  {
   "cell_type": "code",
   "execution_count": 65,
   "metadata": {},
   "outputs": [
    {
     "name": "stdout",
     "output_type": "stream",
     "text": [
      "Total number of orders: 50364\n",
      "Number of unique users: 36509\n"
     ]
    }
   ],
   "source": [
    "#checking basic values\n",
    "total_orders = len(orders)\n",
    "nunique_users_orders = orders.uid.nunique()\n",
    "print('Total number of orders:', total_orders)\n",
    "print('Number of unique users:', nunique_users_orders)"
   ]
  },
  {
   "cell_type": "code",
   "execution_count": 66,
   "metadata": {},
   "outputs": [
    {
     "name": "stdout",
     "output_type": "stream",
     "text": [
      "Paying users rate: 17.63%\n"
     ]
    }
   ],
   "source": [
    "#calculating CR\n",
    "CR = nunique_users_orders/nunique_users_visits * 100\n",
    "print('Paying users rate: {:.2f}%'.format(CR))"
   ]
  },
  {
   "cell_type": "markdown",
   "metadata": {},
   "source": [
    "CR - conversion rate. This parameter determines how many users who visited the site subsequently became your customers, that is, they bought goods or ordered services.  \n",
    "Our CR is 17.63%, i.e. alomost 18% of visitors became our buyers."
   ]
  },
  {
   "cell_type": "code",
   "execution_count": 67,
   "metadata": {},
   "outputs": [
    {
     "data": {
      "text/html": [
       "<div>\n",
       "<style scoped>\n",
       "    .dataframe tbody tr th:only-of-type {\n",
       "        vertical-align: middle;\n",
       "    }\n",
       "\n",
       "    .dataframe tbody tr th {\n",
       "        vertical-align: top;\n",
       "    }\n",
       "\n",
       "    .dataframe thead th {\n",
       "        text-align: right;\n",
       "    }\n",
       "</style>\n",
       "<table border=\"1\" class=\"dataframe\">\n",
       "  <thead>\n",
       "    <tr style=\"text-align: right;\">\n",
       "      <th></th>\n",
       "      <th>buy_ts</th>\n",
       "      <th>revenue</th>\n",
       "      <th>uid</th>\n",
       "    </tr>\n",
       "  </thead>\n",
       "  <tbody>\n",
       "    <tr>\n",
       "      <td>50410</td>\n",
       "      <td>2018-05-31 23:50:00</td>\n",
       "      <td>4.64</td>\n",
       "      <td>12296626599487328624</td>\n",
       "    </tr>\n",
       "    <tr>\n",
       "      <td>50411</td>\n",
       "      <td>2018-05-31 23:50:00</td>\n",
       "      <td>5.80</td>\n",
       "      <td>11369640365507475976</td>\n",
       "    </tr>\n",
       "    <tr>\n",
       "      <td>50412</td>\n",
       "      <td>2018-05-31 23:54:00</td>\n",
       "      <td>0.30</td>\n",
       "      <td>1786462140797698849</td>\n",
       "    </tr>\n",
       "    <tr>\n",
       "      <td>50413</td>\n",
       "      <td>2018-05-31 23:56:00</td>\n",
       "      <td>3.67</td>\n",
       "      <td>3993697860786194247</td>\n",
       "    </tr>\n",
       "    <tr>\n",
       "      <td>50414</td>\n",
       "      <td>2018-06-01 00:02:00</td>\n",
       "      <td>3.42</td>\n",
       "      <td>83872787173869366</td>\n",
       "    </tr>\n",
       "  </tbody>\n",
       "</table>\n",
       "</div>"
      ],
      "text/plain": [
       "                   buy_ts  revenue                   uid\n",
       "50410 2018-05-31 23:50:00     4.64  12296626599487328624\n",
       "50411 2018-05-31 23:50:00     5.80  11369640365507475976\n",
       "50412 2018-05-31 23:54:00     0.30   1786462140797698849\n",
       "50413 2018-05-31 23:56:00     3.67   3993697860786194247\n",
       "50414 2018-06-01 00:02:00     3.42     83872787173869366"
      ]
     },
     "execution_count": 67,
     "metadata": {},
     "output_type": "execute_result"
    }
   ],
   "source": [
    "orders.tail()"
   ]
  },
  {
   "cell_type": "markdown",
   "metadata": {},
   "source": [
    "In the beginning I found that one purchase consider to the June 2018, I will change time of this order to the end of May for correct representing results."
   ]
  },
  {
   "cell_type": "code",
   "execution_count": 68,
   "metadata": {},
   "outputs": [
    {
     "data": {
      "text/html": [
       "<div>\n",
       "<style scoped>\n",
       "    .dataframe tbody tr th:only-of-type {\n",
       "        vertical-align: middle;\n",
       "    }\n",
       "\n",
       "    .dataframe tbody tr th {\n",
       "        vertical-align: top;\n",
       "    }\n",
       "\n",
       "    .dataframe thead th {\n",
       "        text-align: right;\n",
       "    }\n",
       "</style>\n",
       "<table border=\"1\" class=\"dataframe\">\n",
       "  <thead>\n",
       "    <tr style=\"text-align: right;\">\n",
       "      <th></th>\n",
       "      <th>buy_ts</th>\n",
       "      <th>revenue</th>\n",
       "      <th>uid</th>\n",
       "    </tr>\n",
       "  </thead>\n",
       "  <tbody>\n",
       "    <tr>\n",
       "      <td>50410</td>\n",
       "      <td>2018-05-31 23:50:00</td>\n",
       "      <td>4.64</td>\n",
       "      <td>12296626599487328624</td>\n",
       "    </tr>\n",
       "    <tr>\n",
       "      <td>50411</td>\n",
       "      <td>2018-05-31 23:50:00</td>\n",
       "      <td>5.80</td>\n",
       "      <td>11369640365507475976</td>\n",
       "    </tr>\n",
       "    <tr>\n",
       "      <td>50412</td>\n",
       "      <td>2018-05-31 23:54:00</td>\n",
       "      <td>0.30</td>\n",
       "      <td>1786462140797698849</td>\n",
       "    </tr>\n",
       "    <tr>\n",
       "      <td>50413</td>\n",
       "      <td>2018-05-31 23:56:00</td>\n",
       "      <td>3.67</td>\n",
       "      <td>3993697860786194247</td>\n",
       "    </tr>\n",
       "    <tr>\n",
       "      <td>50414</td>\n",
       "      <td>2018-05-31 23:59:00</td>\n",
       "      <td>3.42</td>\n",
       "      <td>83872787173869366</td>\n",
       "    </tr>\n",
       "  </tbody>\n",
       "</table>\n",
       "</div>"
      ],
      "text/plain": [
       "                   buy_ts  revenue                   uid\n",
       "50410 2018-05-31 23:50:00     4.64  12296626599487328624\n",
       "50411 2018-05-31 23:50:00     5.80  11369640365507475976\n",
       "50412 2018-05-31 23:54:00     0.30   1786462140797698849\n",
       "50413 2018-05-31 23:56:00     3.67   3993697860786194247\n",
       "50414 2018-05-31 23:59:00     3.42     83872787173869366"
      ]
     },
     "execution_count": 68,
     "metadata": {},
     "output_type": "execute_result"
    }
   ],
   "source": [
    "#replacing\n",
    "orders.loc[orders['buy_ts'] == '2018-06-01 00:02:00', 'buy_ts'] = '2018-05-31 23:59:00'\n",
    "#converting to the right format\n",
    "orders['buy_ts'] = pd.to_datetime(orders['buy_ts'])\n",
    "#checking result\n",
    "orders.tail()"
   ]
  },
  {
   "cell_type": "markdown",
   "metadata": {},
   "source": [
    "Order date and time was changed."
   ]
  },
  {
   "cell_type": "markdown",
   "metadata": {},
   "source": [
    "**1. When do people start buying?** <a class=\"anchor\" id=\"chapter25\"></a>"
   ]
  },
  {
   "cell_type": "code",
   "execution_count": 69,
   "metadata": {},
   "outputs": [
    {
     "name": "stdout",
     "output_type": "stream",
     "text": [
      "count    36067.000000\n",
      "mean        15.293149\n",
      "std         45.636200\n",
      "min       -328.000000\n",
      "25%          0.000000\n",
      "50%          0.000000\n",
      "75%          1.000000\n",
      "max        363.000000\n",
      "Name: turnover_time_days, dtype: float64\n",
      "Mode conversion time : 0    0.0\n",
      "dtype: float64\n"
     ]
    }
   ],
   "source": [
    "#finding date of first order for each user\n",
    "first_order_dates = orders.groupby('uid').agg({'buy_ts':'min'}).reset_index()\n",
    "first_order_dates.columns= ['uid','first_order_date']\n",
    "#finding date of first session for each user\n",
    "first_session_dates = visits.groupby('uid').agg({'start_ts':'min'}).reset_index()\n",
    "first_session_dates.columns= ['uid','first_session_date']\n",
    "#merging tables\n",
    "conversion = pd.merge(first_order_dates, first_session_dates, how='left', on='uid')\n",
    "#calculating conversion\n",
    "conversion['turnover_time_days'] = (conversion['first_order_date'] - conversion['first_session_date']).dt.days\n",
    "#result\n",
    "print(conversion['turnover_time_days'].describe())\n",
    "print('Mode conversion time :', conversion['turnover_time_days'].mode())"
   ]
  },
  {
   "cell_type": "markdown",
   "metadata": {},
   "source": [
    "Conversion - the day from registration to the first purchase.  \n",
    "\n",
    "- conversion time range from -328 to 363 days; \n",
    "  \n",
    "I assume that the reason of negative values here can be bug or users who come through direct link to order page.  \n",
    "In case with very long time between visit and order I think it is ok, probably first time user visit website 363 for example days ago and after almost one year tis user did order by using direct link, or somethimes we can find event and save it in bookmarks, we don't really need many time to do purchase in this case and our visit can be less than 15 seconds or limit one page (remind that visit with zero second duration were deleted).  \n",
    "\n",
    "- average is 15 days;\n",
    "- median is 0 days;\n",
    "- mode is 0.  \n",
    "  \n",
    "I will split conversion time to the groups depending on the duration days."
   ]
  },
  {
   "cell_type": "code",
   "execution_count": 70,
   "metadata": {},
   "outputs": [
    {
     "data": {
      "text/plain": [
       "Zero days      26422\n",
       "Long buying     6107\n",
       "One week        2915\n",
       "Two weeks        870\n",
       "Fast buying      195\n",
       "Name: turnover_group, dtype: int64"
      ]
     },
     "execution_count": 70,
     "metadata": {},
     "output_type": "execute_result"
    }
   ],
   "source": [
    "#categorizing data by conversion groups\n",
    "def turnover(row):\n",
    "    turnover = row['turnover_time_days']\n",
    "        \n",
    "    if turnover < 0:\n",
    "        return \"Fast buying\"\n",
    "    elif turnover == 0:\n",
    "        return \"Zero days\"\n",
    "    elif 0 < turnover <= 7:\n",
    "        return \"One week\"\n",
    "    elif 7 < turnover <= 14:\n",
    "        return \"Two weeks\"\n",
    "    else:\n",
    "        return \"Long buying\"\n",
    "\n",
    "conversion['turnover_group'] = conversion.apply(turnover, axis = 1)\n",
    "conversion['turnover_group'].value_counts()"
   ]
  },
  {
   "cell_type": "markdown",
   "metadata": {},
   "source": [
    "As we can see most popular group with conversion of zero days, then group with conversion more than two weeks, this group 4 times less than first.  \n",
    "One week conversion group is two times smaller than previous one.  \n",
    "Two weeks and Fast buying groups are smallest."
   ]
  },
  {
   "cell_type": "markdown",
   "metadata": {},
   "source": [
    "[Back to the Table of Contents](#contents)"
   ]
  },
  {
   "cell_type": "markdown",
   "metadata": {},
   "source": [
    "**2. How many orders do they make during a given period of time?** <a class=\"anchor\" id=\"chapter26\"></a>"
   ]
  },
  {
   "cell_type": "code",
   "execution_count": 71,
   "metadata": {},
   "outputs": [
    {
     "name": "stdout",
     "output_type": "stream",
     "text": [
      "Daily:\n",
      "Number of orders per day: 138\n",
      "Number of users buying per day: 128\n",
      "Weekly:\n",
      "Number of orders per week: 950\n",
      "Number of users buying per week: 816\n",
      "Monthly:\n",
      "Number of orders per month: 4197\n",
      "Number of users buying per month: 3416\n"
     ]
    }
   ],
   "source": [
    "#creating separate columns for year, month, and week values.\n",
    "orders['date'] = orders['buy_ts'].dt.date\n",
    "orders['week'] = orders['buy_ts'].dt.week\n",
    "orders['month'] = orders['buy_ts'].dt.month\n",
    "orders['year'] = orders['buy_ts'].dt.year\n",
    "\n",
    "#calculating metrics\n",
    "orders_per_day = orders.groupby(['date']).agg({'uid': 'count'}).mean()\n",
    "nunique_users_per_day = orders.groupby(['date']).agg({'uid': 'nunique'}).mean()\n",
    "orders_per_week = orders.groupby(['year', 'week']).agg({'uid': 'count'}).mean()\n",
    "nunique_users_per_week = orders.groupby(['year', 'week']).agg({'uid': 'nunique'}).mean()\n",
    "orders_per_month = orders.groupby(['year', 'month']).agg({'uid': 'count'}).mean()\n",
    "nunique_users_per_month = orders.groupby(['year', 'month']).agg({'uid': 'nunique'}).mean()\n",
    "#printing results\n",
    "print('Daily:')\n",
    "print(\"Number of orders per day:\", int(orders_per_day))\n",
    "print(\"Number of users buying per day:\", int(nunique_users_per_day))\n",
    "print('Weekly:')\n",
    "print(\"Number of orders per week:\", int(orders_per_week))\n",
    "print(\"Number of users buying per week:\", int(nunique_users_per_week))\n",
    "print('Monthly:')\n",
    "print(\"Number of orders per month:\", int(orders_per_month))\n",
    "print(\"Number of users buying per month:\", int(nunique_users_per_month))"
   ]
  },
  {
   "cell_type": "markdown",
   "metadata": {},
   "source": [
    "I calculated average number of orders and users who did order per day/week/month.  \n",
    "Let's check how number of orders/users were changing per month:"
   ]
  },
  {
   "cell_type": "markdown",
   "metadata": {},
   "source": [
    "[Back to the Table of Contents](#contents)"
   ]
  },
  {
   "cell_type": "markdown",
   "metadata": {},
   "source": [
    "**Purchase frequency** <a class=\"anchor\" id=\"chapter27\"></a>"
   ]
  },
  {
   "cell_type": "code",
   "execution_count": 72,
   "metadata": {},
   "outputs": [
    {
     "data": {
      "image/png": "[encoded data removed]",
      "text/plain": [
       "<Figure size 432x288 with 1 Axes>"
      ]
     },
     "metadata": {},
     "output_type": "display_data"
    },
    {
     "name": "stdout",
     "output_type": "stream",
     "text": [
      "Purchase frequency per month: 1.22\n"
     ]
    }
   ],
   "source": [
    "#building a graph with orders per month\n",
    "p_f = orders.pivot_table(index=['year', 'month'], values='uid', aggfunc=[('count', 'nunique')])\n",
    "p_f.columns = ['n_orders', 'n_users']\n",
    "p_f.plot(kind='bar')\n",
    "plt.xlabel('Month')\n",
    "plt.ylabel('Number of orders')\n",
    "plt.title('Amount of orders per month')\n",
    "plt.show()\n",
    "p_f['frequency'] = p_f['n_orders'] / p_f['n_users']\n",
    "print('Purchase frequency per month: {:.2f}'.format(p_f['frequency'].mean()))"
   ]
  },
  {
   "cell_type": "markdown",
   "metadata": {},
   "source": [
    "As we can see on the graph monthly orders:\n",
    "- number of orders/users connected to number of visits/users from visits table, and it is logical, as we found most of the users did purchases in the first visits day;\n",
    "- in October - December was more orders than in other months;\n",
    "- in June - August was less orders than in other months;\n",
    "- there was a highest peak in December 2017 - probably because of the new years events;\n",
    "- number of users and number of sessions have the same fluctuate.\n",
    "\n",
    "Purchase frequency is 1.22."
   ]
  },
  {
   "cell_type": "markdown",
   "metadata": {},
   "source": [
    "[Back to the Table of Contents](#contents)"
   ]
  },
  {
   "cell_type": "markdown",
   "metadata": {},
   "source": [
    "**Repeat purchase rate** <a class=\"anchor\" id=\"chapter28\"></a>"
   ]
  },
  {
   "cell_type": "markdown",
   "metadata": {},
   "source": [
    "RPR calculate same as CRR. I will do the same steps with order tables as i did for visits table."
   ]
  },
  {
   "cell_type": "code",
   "execution_count": 73,
   "metadata": {},
   "outputs": [],
   "source": [
    "#calculating RPR\n",
    "first_order_date = orders.groupby('uid')['buy_ts'].min() \n",
    "first_order_date.name = 'first_order_date'\n",
    "orders = orders.join(first_order_date,on='uid')\n",
    "orders['first_order_month'] = orders['first_order_date'].astype('datetime64[M]')\n",
    "orders['order_month'] = orders['buy_ts'].astype('datetime64[M]')"
   ]
  },
  {
   "cell_type": "code",
   "execution_count": 74,
   "metadata": {},
   "outputs": [],
   "source": [
    "orders['lifetime'] = orders['order_month'] - orders['first_order_month']\n",
    "orders['lifetime'] = orders['lifetime'] / np.timedelta64(1,'M')\n",
    "orders['lifetime'] = orders['lifetime'].round().astype('int')"
   ]
  },
  {
   "cell_type": "code",
   "execution_count": 75,
   "metadata": {},
   "outputs": [],
   "source": [
    "cohorts_1 = orders.groupby(['first_order_month','lifetime']).agg({'uid':'nunique'}).reset_index()"
   ]
  },
  {
   "cell_type": "code",
   "execution_count": 76,
   "metadata": {},
   "outputs": [],
   "source": [
    "initial_users_count_1 = cohorts_1[cohorts_1['lifetime'] == 0][['first_order_month','uid']]\n",
    "initial_users_count_1 = initial_users_count_1.rename(columns={'uid':'cohort_users'})\n",
    "cohorts_1 = cohorts_1.merge(initial_users_count_1, on='first_order_month')"
   ]
  },
  {
   "cell_type": "code",
   "execution_count": 77,
   "metadata": {},
   "outputs": [],
   "source": [
    "cohorts_1['retention'] = cohorts_1['uid']/cohorts_1['cohort_users']"
   ]
  },
  {
   "cell_type": "code",
   "execution_count": 78,
   "metadata": {},
   "outputs": [
    {
     "data": {
      "image/png": "[encoded data removed]",
      "text/plain": [
       "<Figure size 936x648 with 2 Axes>"
      ]
     },
     "metadata": {},
     "output_type": "display_data"
    }
   ],
   "source": [
    "#making a pivot table\n",
    "retention_pivot_1 = cohorts_1.pivot_table(index='first_order_month',\n",
    "                                      columns='lifetime',values='retention',aggfunc='sum').round(2)\n",
    "#making a heatmap\n",
    "sns.set(style='white')\n",
    "plt.figure(figsize=(13, 9))\n",
    "plt.title('Cohorts: Purchases Retention')\n",
    "sns.heatmap(retention_pivot_1, annot=True, fmt='.1%', linewidths=1, linecolor='gray');"
   ]
  },
  {
   "cell_type": "markdown",
   "metadata": {},
   "source": [
    "RPR - Repurchase Ratio - Frequency of repeat purchases. This indicator is akin to CRR, but reflects not only overall satisfaction with the service, but also the service / product itself.\n",
    "RPR is calculated as the ratio of the number of customers who have purchased or ordered services more than once during the reporting period to the total number of customers."
   ]
  },
  {
   "cell_type": "markdown",
   "metadata": {},
   "source": [
    "Our RPR is so low as CRR.  \n",
    "RPR is decreasing for each new cohort.  \n",
    "From the second month our repurchase ratio keeps at 2-3%.  \n",
    "The same as CRR RPR for december and subsequent cohorts percentage of users who were buying decreasing faster than for older cohort.  \n",
    "For old cohorts we can see that in October - December 2017 RPR is increasing a bit, but after December RPR is decreasing.  \n",
    "The highest repurchase ratio was 5% in October-December 2017, for the September-November cohorts, which is still quite low."
   ]
  },
  {
   "cell_type": "markdown",
   "metadata": {},
   "source": [
    "[Back to the Table of Contents](#contents)"
   ]
  },
  {
   "cell_type": "markdown",
   "metadata": {},
   "source": [
    "**3. What is the average purchase size?** <a class=\"anchor\" id=\"chapter29\"></a>"
   ]
  },
  {
   "cell_type": "markdown",
   "metadata": {},
   "source": [
    "**ARPU, ARPPU, AOV** <a class=\"anchor\" id=\"chapter30\"></a>"
   ]
  },
  {
   "cell_type": "code",
   "execution_count": 79,
   "metadata": {},
   "outputs": [
    {
     "name": "stdout",
     "output_type": "stream",
     "text": [
      "Total_revenue =  252057.2\n",
      "Number of purchases =  50364\n",
      "Average revenue per user =  1.2173677016773645\n",
      "Average revenue pre paying user: 6.903974362485963\n",
      "Average order value: 5.004709713287269\n"
     ]
    }
   ],
   "source": [
    "#calculating metrics\n",
    "total_revenue = orders.revenue.sum()\n",
    "print('Total_revenue = ', total_revenue)\n",
    "print('Number of purchases = ', total_orders)\n",
    "ARPU = total_revenue/nunique_users_visits\n",
    "print('Average revenue per user = ', ARPU)\n",
    "ARPPU = total_revenue/nunique_users_orders\n",
    "print('Average revenue pre paying user:', ARPPU)\n",
    "AOV = total_revenue/total_orders\n",
    "print('Average order value:', AOV)"
   ]
  },
  {
   "cell_type": "markdown",
   "metadata": {},
   "source": [
    "AOV - average order/purchase value - average check, i.e. how much company earn on average on one order. "
   ]
  },
  {
   "cell_type": "markdown",
   "metadata": {},
   "source": [
    "[Back to the Table of Contents](#contents)"
   ]
  },
  {
   "cell_type": "markdown",
   "metadata": {},
   "source": [
    "**4. How much money do they bring?**<a class=\"anchor\" id=\"chapter31\"></a>"
   ]
  },
  {
   "cell_type": "code",
   "execution_count": 80,
   "metadata": {},
   "outputs": [
    {
     "data": {
      "text/plain": [
       "count    50364.000000\n",
       "mean         5.004710\n",
       "std         21.828823\n",
       "min          0.010000\n",
       "25%          1.220000\n",
       "50%          2.500000\n",
       "75%          4.890000\n",
       "max       2633.280000\n",
       "Name: revenue, dtype: float64"
      ]
     },
     "execution_count": 80,
     "metadata": {},
     "output_type": "execute_result"
    }
   ],
   "source": [
    "#checking revenue\n",
    "orders.revenue.describe()"
   ]
  },
  {
   "cell_type": "markdown",
   "metadata": {},
   "source": [
    "Revenue from orders range from 0.01 (probably user used some promocode or cupon) to 2633.28 (I assume this is corporate customers).  \n",
    "I think cause we have corporate customers and revenue have high spread we can trust more to **median revenue - 2.5**."
   ]
  },
  {
   "cell_type": "code",
   "execution_count": 81,
   "metadata": {},
   "outputs": [
    {
     "name": "stdout",
     "output_type": "stream",
     "text": [
      "Average revenue per day: 694\n",
      "Average revenue per week: 4755\n",
      "Average revenue per month: 21004\n"
     ]
    }
   ],
   "source": [
    "#calculating revenue per day/week/month\n",
    "revenue_per_day = orders.groupby(['date']).agg({'revenue': 'sum'}).mean()\n",
    "revenue_per_week = orders.groupby(['year', 'week']).agg({'revenue': 'sum'}).mean()\n",
    "revenue_per_month = orders.groupby(['year', 'month']).agg({'revenue': 'sum'}).mean()\n",
    "print(\"Average revenue per day:\", int(revenue_per_day))\n",
    "print(\"Average revenue per week:\", int(revenue_per_week))\n",
    "print(\"Average revenue per month:\", int(revenue_per_month))"
   ]
  },
  {
   "cell_type": "markdown",
   "metadata": {},
   "source": [
    "Let's check how revenue were changing per month:"
   ]
  },
  {
   "cell_type": "code",
   "execution_count": 82,
   "metadata": {},
   "outputs": [
    {
     "data": {
      "image/png": "[encoded data removed]",
      "text/plain": [
       "<Figure size 432x288 with 1 Axes>"
      ]
     },
     "metadata": {},
     "output_type": "display_data"
    }
   ],
   "source": [
    "#building graph for revenue rep month\n",
    "orders.groupby(['year', 'month'])['revenue'].sum().plot(kind='bar', color='c')\n",
    "plt.xlabel('Month')\n",
    "plt.ylabel('Revenue')\n",
    "plt.title('Revenue per month')\n",
    "plt.show()"
   ]
  },
  {
   "cell_type": "markdown",
   "metadata": {},
   "source": [
    "As we can see revenue fluctuate as same as number of orders.  \n",
    "Let's check how the average revenue per user changed over time. "
   ]
  },
  {
   "cell_type": "code",
   "execution_count": 83,
   "metadata": {},
   "outputs": [
    {
     "data": {
      "text/html": [
       "<div>\n",
       "<style scoped>\n",
       "    .dataframe tbody tr th:only-of-type {\n",
       "        vertical-align: middle;\n",
       "    }\n",
       "\n",
       "    .dataframe tbody tr th {\n",
       "        vertical-align: top;\n",
       "    }\n",
       "\n",
       "    .dataframe thead th {\n",
       "        text-align: right;\n",
       "    }\n",
       "</style>\n",
       "<table border=\"1\" class=\"dataframe\">\n",
       "  <thead>\n",
       "    <tr style=\"text-align: right;\">\n",
       "      <th>order_month</th>\n",
       "      <th>2017-06-01 00:00:00</th>\n",
       "      <th>2017-07-01 00:00:00</th>\n",
       "      <th>2017-08-01 00:00:00</th>\n",
       "      <th>2017-09-01 00:00:00</th>\n",
       "      <th>2017-10-01 00:00:00</th>\n",
       "      <th>2017-11-01 00:00:00</th>\n",
       "      <th>2017-12-01 00:00:00</th>\n",
       "      <th>2018-01-01 00:00:00</th>\n",
       "      <th>2018-02-01 00:00:00</th>\n",
       "      <th>2018-03-01 00:00:00</th>\n",
       "      <th>2018-04-01 00:00:00</th>\n",
       "      <th>2018-05-01 00:00:00</th>\n",
       "      <th>All</th>\n",
       "    </tr>\n",
       "    <tr>\n",
       "      <th>first_order_month</th>\n",
       "      <th></th>\n",
       "      <th></th>\n",
       "      <th></th>\n",
       "      <th></th>\n",
       "      <th></th>\n",
       "      <th></th>\n",
       "      <th></th>\n",
       "      <th></th>\n",
       "      <th></th>\n",
       "      <th></th>\n",
       "      <th></th>\n",
       "      <th></th>\n",
       "      <th></th>\n",
       "    </tr>\n",
       "  </thead>\n",
       "  <tbody>\n",
       "    <tr>\n",
       "      <td>2017-06-01 00:00:00</td>\n",
       "      <td>4.72675</td>\n",
       "      <td>16.0954</td>\n",
       "      <td>17.7068</td>\n",
       "      <td>35.7648</td>\n",
       "      <td>23.7768</td>\n",
       "      <td>22.2078</td>\n",
       "      <td>31.4967</td>\n",
       "      <td>25.0332</td>\n",
       "      <td>19.2957</td>\n",
       "      <td>27.2336</td>\n",
       "      <td>25.6813</td>\n",
       "      <td>9.804151</td>\n",
       "      <td>21.568580</td>\n",
       "    </tr>\n",
       "    <tr>\n",
       "      <td>2017-07-01 00:00:00</td>\n",
       "      <td></td>\n",
       "      <td>6.01335</td>\n",
       "      <td>12.3963</td>\n",
       "      <td>21.036</td>\n",
       "      <td>10.7861</td>\n",
       "      <td>6.93816</td>\n",
       "      <td>7.89684</td>\n",
       "      <td>6.42111</td>\n",
       "      <td>6.99282</td>\n",
       "      <td>7.38214</td>\n",
       "      <td>12.8618</td>\n",
       "      <td>11.513846</td>\n",
       "      <td>10.021681</td>\n",
       "    </tr>\n",
       "    <tr>\n",
       "      <td>2017-08-01 00:00:00</td>\n",
       "      <td></td>\n",
       "      <td></td>\n",
       "      <td>5.28037</td>\n",
       "      <td>11.1488</td>\n",
       "      <td>11.8513</td>\n",
       "      <td>12.183</td>\n",
       "      <td>16.9212</td>\n",
       "      <td>12.1391</td>\n",
       "      <td>9.62033</td>\n",
       "      <td>12.6105</td>\n",
       "      <td>21.07</td>\n",
       "      <td>8.307419</td>\n",
       "      <td>12.113196</td>\n",
       "    </tr>\n",
       "    <tr>\n",
       "      <td>2017-09-01 00:00:00</td>\n",
       "      <td></td>\n",
       "      <td></td>\n",
       "      <td></td>\n",
       "      <td>5.64891</td>\n",
       "      <td>22.3604</td>\n",
       "      <td>13.5446</td>\n",
       "      <td>138.669</td>\n",
       "      <td>19.8815</td>\n",
       "      <td>26.095</td>\n",
       "      <td>27.4371</td>\n",
       "      <td>16.9614</td>\n",
       "      <td>11.044651</td>\n",
       "      <td>31.293644</td>\n",
       "    </tr>\n",
       "    <tr>\n",
       "      <td>2017-10-01 00:00:00</td>\n",
       "      <td></td>\n",
       "      <td></td>\n",
       "      <td></td>\n",
       "      <td></td>\n",
       "      <td>5.00373</td>\n",
       "      <td>11.2874</td>\n",
       "      <td>6.75325</td>\n",
       "      <td>7.41315</td>\n",
       "      <td>7.0728</td>\n",
       "      <td>7.25514</td>\n",
       "      <td>6.57321</td>\n",
       "      <td>7.479701</td>\n",
       "      <td>7.354802</td>\n",
       "    </tr>\n",
       "    <tr>\n",
       "      <td>2017-11-01 00:00:00</td>\n",
       "      <td></td>\n",
       "      <td></td>\n",
       "      <td></td>\n",
       "      <td></td>\n",
       "      <td></td>\n",
       "      <td>5.15936</td>\n",
       "      <td>7.359</td>\n",
       "      <td>6.78658</td>\n",
       "      <td>12.5107</td>\n",
       "      <td>7.53938</td>\n",
       "      <td>4.58083</td>\n",
       "      <td>7.564839</td>\n",
       "      <td>7.357236</td>\n",
       "    </tr>\n",
       "    <tr>\n",
       "      <td>2017-12-01 00:00:00</td>\n",
       "      <td></td>\n",
       "      <td></td>\n",
       "      <td></td>\n",
       "      <td></td>\n",
       "      <td></td>\n",
       "      <td></td>\n",
       "      <td>4.74243</td>\n",
       "      <td>7.81658</td>\n",
       "      <td>39.366</td>\n",
       "      <td>48.1351</td>\n",
       "      <td>27.4314</td>\n",
       "      <td>23.518413</td>\n",
       "      <td>25.168315</td>\n",
       "    </tr>\n",
       "    <tr>\n",
       "      <td>2018-01-01 00:00:00</td>\n",
       "      <td></td>\n",
       "      <td></td>\n",
       "      <td></td>\n",
       "      <td></td>\n",
       "      <td></td>\n",
       "      <td></td>\n",
       "      <td></td>\n",
       "      <td>4.13564</td>\n",
       "      <td>8.72123</td>\n",
       "      <td>12.3655</td>\n",
       "      <td>11.1998</td>\n",
       "      <td>4.699556</td>\n",
       "      <td>8.224346</td>\n",
       "    </tr>\n",
       "    <tr>\n",
       "      <td>2018-02-01 00:00:00</td>\n",
       "      <td></td>\n",
       "      <td></td>\n",
       "      <td></td>\n",
       "      <td></td>\n",
       "      <td></td>\n",
       "      <td></td>\n",
       "      <td></td>\n",
       "      <td></td>\n",
       "      <td>4.15699</td>\n",
       "      <td>8.61</td>\n",
       "      <td>4.94241</td>\n",
       "      <td>6.941026</td>\n",
       "      <td>6.162607</td>\n",
       "    </tr>\n",
       "    <tr>\n",
       "      <td>2018-03-01 00:00:00</td>\n",
       "      <td></td>\n",
       "      <td></td>\n",
       "      <td></td>\n",
       "      <td></td>\n",
       "      <td></td>\n",
       "      <td></td>\n",
       "      <td></td>\n",
       "      <td></td>\n",
       "      <td></td>\n",
       "      <td>4.83769</td>\n",
       "      <td>11.8117</td>\n",
       "      <td>19.221897</td>\n",
       "      <td>11.957083</td>\n",
       "    </tr>\n",
       "    <tr>\n",
       "      <td>2018-04-01 00:00:00</td>\n",
       "      <td></td>\n",
       "      <td></td>\n",
       "      <td></td>\n",
       "      <td></td>\n",
       "      <td></td>\n",
       "      <td></td>\n",
       "      <td></td>\n",
       "      <td></td>\n",
       "      <td></td>\n",
       "      <td></td>\n",
       "      <td>4.66169</td>\n",
       "      <td>17.535072</td>\n",
       "      <td>11.098383</td>\n",
       "    </tr>\n",
       "    <tr>\n",
       "      <td>2018-05-01 00:00:00</td>\n",
       "      <td></td>\n",
       "      <td></td>\n",
       "      <td></td>\n",
       "      <td></td>\n",
       "      <td></td>\n",
       "      <td></td>\n",
       "      <td></td>\n",
       "      <td></td>\n",
       "      <td></td>\n",
       "      <td></td>\n",
       "      <td></td>\n",
       "      <td>4.663267</td>\n",
       "      <td>4.663267</td>\n",
       "    </tr>\n",
       "    <tr>\n",
       "      <td>All</td>\n",
       "      <td>4.72675</td>\n",
       "      <td>11.0544</td>\n",
       "      <td>11.7945</td>\n",
       "      <td>18.3996</td>\n",
       "      <td>14.7557</td>\n",
       "      <td>11.8867</td>\n",
       "      <td>30.5484</td>\n",
       "      <td>11.2034</td>\n",
       "      <td>14.8702</td>\n",
       "      <td>16.3406</td>\n",
       "      <td>13.4341</td>\n",
       "      <td>11.024487</td>\n",
       "      <td>14.893444</td>\n",
       "    </tr>\n",
       "  </tbody>\n",
       "</table>\n",
       "</div>"
      ],
      "text/plain": [
       "order_month         2017-06-01 00:00:00 2017-07-01 00:00:00  \\\n",
       "first_order_month                                             \n",
       "2017-06-01 00:00:00             4.72675             16.0954   \n",
       "2017-07-01 00:00:00                                 6.01335   \n",
       "2017-08-01 00:00:00                                           \n",
       "2017-09-01 00:00:00                                           \n",
       "2017-10-01 00:00:00                                           \n",
       "2017-11-01 00:00:00                                           \n",
       "2017-12-01 00:00:00                                           \n",
       "2018-01-01 00:00:00                                           \n",
       "2018-02-01 00:00:00                                           \n",
       "2018-03-01 00:00:00                                           \n",
       "2018-04-01 00:00:00                                           \n",
       "2018-05-01 00:00:00                                           \n",
       "All                             4.72675             11.0544   \n",
       "\n",
       "order_month         2017-08-01 00:00:00 2017-09-01 00:00:00  \\\n",
       "first_order_month                                             \n",
       "2017-06-01 00:00:00             17.7068             35.7648   \n",
       "2017-07-01 00:00:00             12.3963              21.036   \n",
       "2017-08-01 00:00:00             5.28037             11.1488   \n",
       "2017-09-01 00:00:00                                 5.64891   \n",
       "2017-10-01 00:00:00                                           \n",
       "2017-11-01 00:00:00                                           \n",
       "2017-12-01 00:00:00                                           \n",
       "2018-01-01 00:00:00                                           \n",
       "2018-02-01 00:00:00                                           \n",
       "2018-03-01 00:00:00                                           \n",
       "2018-04-01 00:00:00                                           \n",
       "2018-05-01 00:00:00                                           \n",
       "All                             11.7945             18.3996   \n",
       "\n",
       "order_month         2017-10-01 00:00:00 2017-11-01 00:00:00  \\\n",
       "first_order_month                                             \n",
       "2017-06-01 00:00:00             23.7768             22.2078   \n",
       "2017-07-01 00:00:00             10.7861             6.93816   \n",
       "2017-08-01 00:00:00             11.8513              12.183   \n",
       "2017-09-01 00:00:00             22.3604             13.5446   \n",
       "2017-10-01 00:00:00             5.00373             11.2874   \n",
       "2017-11-01 00:00:00                                 5.15936   \n",
       "2017-12-01 00:00:00                                           \n",
       "2018-01-01 00:00:00                                           \n",
       "2018-02-01 00:00:00                                           \n",
       "2018-03-01 00:00:00                                           \n",
       "2018-04-01 00:00:00                                           \n",
       "2018-05-01 00:00:00                                           \n",
       "All                             14.7557             11.8867   \n",
       "\n",
       "order_month         2017-12-01 00:00:00 2018-01-01 00:00:00  \\\n",
       "first_order_month                                             \n",
       "2017-06-01 00:00:00             31.4967             25.0332   \n",
       "2017-07-01 00:00:00             7.89684             6.42111   \n",
       "2017-08-01 00:00:00             16.9212             12.1391   \n",
       "2017-09-01 00:00:00             138.669             19.8815   \n",
       "2017-10-01 00:00:00             6.75325             7.41315   \n",
       "2017-11-01 00:00:00               7.359             6.78658   \n",
       "2017-12-01 00:00:00             4.74243             7.81658   \n",
       "2018-01-01 00:00:00                                 4.13564   \n",
       "2018-02-01 00:00:00                                           \n",
       "2018-03-01 00:00:00                                           \n",
       "2018-04-01 00:00:00                                           \n",
       "2018-05-01 00:00:00                                           \n",
       "All                             30.5484             11.2034   \n",
       "\n",
       "order_month         2018-02-01 00:00:00 2018-03-01 00:00:00  \\\n",
       "first_order_month                                             \n",
       "2017-06-01 00:00:00             19.2957             27.2336   \n",
       "2017-07-01 00:00:00             6.99282             7.38214   \n",
       "2017-08-01 00:00:00             9.62033             12.6105   \n",
       "2017-09-01 00:00:00              26.095             27.4371   \n",
       "2017-10-01 00:00:00              7.0728             7.25514   \n",
       "2017-11-01 00:00:00             12.5107             7.53938   \n",
       "2017-12-01 00:00:00              39.366             48.1351   \n",
       "2018-01-01 00:00:00             8.72123             12.3655   \n",
       "2018-02-01 00:00:00             4.15699                8.61   \n",
       "2018-03-01 00:00:00                                 4.83769   \n",
       "2018-04-01 00:00:00                                           \n",
       "2018-05-01 00:00:00                                           \n",
       "All                             14.8702             16.3406   \n",
       "\n",
       "order_month         2018-04-01 00:00:00  2018-05-01 00:00:00        All  \n",
       "first_order_month                                                        \n",
       "2017-06-01 00:00:00             25.6813             9.804151  21.568580  \n",
       "2017-07-01 00:00:00             12.8618            11.513846  10.021681  \n",
       "2017-08-01 00:00:00               21.07             8.307419  12.113196  \n",
       "2017-09-01 00:00:00             16.9614            11.044651  31.293644  \n",
       "2017-10-01 00:00:00             6.57321             7.479701   7.354802  \n",
       "2017-11-01 00:00:00             4.58083             7.564839   7.357236  \n",
       "2017-12-01 00:00:00             27.4314            23.518413  25.168315  \n",
       "2018-01-01 00:00:00             11.1998             4.699556   8.224346  \n",
       "2018-02-01 00:00:00             4.94241             6.941026   6.162607  \n",
       "2018-03-01 00:00:00             11.8117            19.221897  11.957083  \n",
       "2018-04-01 00:00:00             4.66169            17.535072  11.098383  \n",
       "2018-05-01 00:00:00                                 4.663267   4.663267  \n",
       "All                             13.4341            11.024487  14.893444  "
      ]
     },
     "execution_count": 83,
     "metadata": {},
     "output_type": "execute_result"
    }
   ],
   "source": [
    "#calculating revenue per users for cohorts\n",
    "orders_grouped = orders.groupby(['first_order_month','order_month']).agg({'revenue':'sum','uid':'nunique'})\n",
    "orders_grouped['revenue_per_user'] = orders_grouped['revenue'] / orders_grouped['uid']\n",
    "orders_grouped = orders_grouped.reset_index()\n",
    "#making a table with revenue per cohort\n",
    "orders_grouped.pivot_table(index='first_order_month',\n",
    "                           columns='order_month',values='revenue_per_user',aggfunc='mean', margins = True).fillna('')"
   ]
  },
  {
   "cell_type": "markdown",
   "metadata": {},
   "source": [
    "In the first month when bigest number of users did purchases we have lowest revenue per user.  \n",
    "Mostly the average revenue from users who continue making orders is increasing.  \n",
    "After 2-3 month users making more expensive orders or maybe it connected with corporate clients.  \n",
    "The highest number of revenue per user is 138.669 for december orders of september cohorts, I almost sure that this is our corporate clients."
   ]
  },
  {
   "cell_type": "markdown",
   "metadata": {},
   "source": [
    "[Back to the Table of Contents](#contents)"
   ]
  },
  {
   "cell_type": "markdown",
   "metadata": {},
   "source": [
    "**Lifetime value** <a class=\"anchor\" id=\"chapter32\"></a>"
   ]
  },
  {
   "cell_type": "code",
   "execution_count": 84,
   "metadata": {},
   "outputs": [
    {
     "data": {
      "text/html": [
       "<div>\n",
       "<style scoped>\n",
       "    .dataframe tbody tr th:only-of-type {\n",
       "        vertical-align: middle;\n",
       "    }\n",
       "\n",
       "    .dataframe tbody tr th {\n",
       "        vertical-align: top;\n",
       "    }\n",
       "\n",
       "    .dataframe thead th {\n",
       "        text-align: right;\n",
       "    }\n",
       "</style>\n",
       "<table border=\"1\" class=\"dataframe\">\n",
       "  <thead>\n",
       "    <tr style=\"text-align: right;\">\n",
       "      <th></th>\n",
       "      <th>first_order_month</th>\n",
       "      <th>n_buyers</th>\n",
       "    </tr>\n",
       "  </thead>\n",
       "  <tbody>\n",
       "    <tr>\n",
       "      <td>0</td>\n",
       "      <td>2017-06-01</td>\n",
       "      <td>2022</td>\n",
       "    </tr>\n",
       "    <tr>\n",
       "      <td>1</td>\n",
       "      <td>2017-07-01</td>\n",
       "      <td>1922</td>\n",
       "    </tr>\n",
       "    <tr>\n",
       "      <td>2</td>\n",
       "      <td>2017-08-01</td>\n",
       "      <td>1369</td>\n",
       "    </tr>\n",
       "    <tr>\n",
       "      <td>3</td>\n",
       "      <td>2017-09-01</td>\n",
       "      <td>2579</td>\n",
       "    </tr>\n",
       "    <tr>\n",
       "      <td>4</td>\n",
       "      <td>2017-10-01</td>\n",
       "      <td>4340</td>\n",
       "    </tr>\n",
       "  </tbody>\n",
       "</table>\n",
       "</div>"
      ],
      "text/plain": [
       "  first_order_month  n_buyers\n",
       "0        2017-06-01      2022\n",
       "1        2017-07-01      1922\n",
       "2        2017-08-01      1369\n",
       "3        2017-09-01      2579\n",
       "4        2017-10-01      4340"
      ]
     },
     "execution_count": 84,
     "metadata": {},
     "output_type": "execute_result"
    }
   ],
   "source": [
    "#finding number of users\n",
    "cohort_sizes = orders.groupby('first_order_month').agg({'uid': 'nunique'}).reset_index()\n",
    "cohort_sizes.columns = ['first_order_month', 'n_buyers']\n",
    "cohort_sizes.head()"
   ]
  },
  {
   "cell_type": "code",
   "execution_count": 85,
   "metadata": {},
   "outputs": [
    {
     "data": {
      "text/html": [
       "<div>\n",
       "<style scoped>\n",
       "    .dataframe tbody tr th:only-of-type {\n",
       "        vertical-align: middle;\n",
       "    }\n",
       "\n",
       "    .dataframe tbody tr th {\n",
       "        vertical-align: top;\n",
       "    }\n",
       "\n",
       "    .dataframe thead th {\n",
       "        text-align: right;\n",
       "    }\n",
       "</style>\n",
       "<table border=\"1\" class=\"dataframe\">\n",
       "  <thead>\n",
       "    <tr style=\"text-align: right;\">\n",
       "      <th></th>\n",
       "      <th>first_order_month</th>\n",
       "      <th>order_month</th>\n",
       "      <th>revenue</th>\n",
       "    </tr>\n",
       "  </thead>\n",
       "  <tbody>\n",
       "    <tr>\n",
       "      <td>0</td>\n",
       "      <td>2017-06-01</td>\n",
       "      <td>2017-06-01</td>\n",
       "      <td>9557.49</td>\n",
       "    </tr>\n",
       "    <tr>\n",
       "      <td>1</td>\n",
       "      <td>2017-06-01</td>\n",
       "      <td>2017-07-01</td>\n",
       "      <td>981.82</td>\n",
       "    </tr>\n",
       "    <tr>\n",
       "      <td>2</td>\n",
       "      <td>2017-06-01</td>\n",
       "      <td>2017-08-01</td>\n",
       "      <td>885.34</td>\n",
       "    </tr>\n",
       "    <tr>\n",
       "      <td>3</td>\n",
       "      <td>2017-06-01</td>\n",
       "      <td>2017-09-01</td>\n",
       "      <td>1931.30</td>\n",
       "    </tr>\n",
       "    <tr>\n",
       "      <td>4</td>\n",
       "      <td>2017-06-01</td>\n",
       "      <td>2017-10-01</td>\n",
       "      <td>2068.58</td>\n",
       "    </tr>\n",
       "  </tbody>\n",
       "</table>\n",
       "</div>"
      ],
      "text/plain": [
       "  first_order_month order_month  revenue\n",
       "0        2017-06-01  2017-06-01  9557.49\n",
       "1        2017-06-01  2017-07-01   981.82\n",
       "2        2017-06-01  2017-08-01   885.34\n",
       "3        2017-06-01  2017-09-01  1931.30\n",
       "4        2017-06-01  2017-10-01  2068.58"
      ]
     },
     "execution_count": 85,
     "metadata": {},
     "output_type": "execute_result"
    }
   ],
   "source": [
    "#calculating revenue for each cohhort\n",
    "cohorts = orders.groupby(['first_order_month','order_month']).agg({'revenue': 'sum'}).reset_index()\n",
    "cohorts.head()"
   ]
  },
  {
   "cell_type": "code",
   "execution_count": 86,
   "metadata": {},
   "outputs": [],
   "source": [
    "#merging tables\n",
    "report = pd.merge(cohort_sizes, cohorts, on='first_order_month')"
   ]
  },
  {
   "cell_type": "code",
   "execution_count": 87,
   "metadata": {},
   "outputs": [],
   "source": [
    "#finding age of cohort\n",
    "report['lifetime'] = report['order_month'] - report['first_order_month']\n",
    "report['lifetime'] = report['lifetime']/np.timedelta64(1, 'M')\n",
    "report['lifetime'] = report['lifetime'].round().astype('int')"
   ]
  },
  {
   "cell_type": "code",
   "execution_count": 88,
   "metadata": {},
   "outputs": [],
   "source": [
    "#calculating LTV\n",
    "report['ltv'] = report['revenue'] *0.4 / report['n_buyers'] \n",
    "#margin rate = 0.4"
   ]
  },
  {
   "cell_type": "markdown",
   "metadata": {},
   "source": [
    "LTV is calculated on the basis of gross profit rather than revenue, we need to find the gross profit by multiplying revenue by profitability (margin rate).\n",
    "We can't find exact margin rate (there is no data except revenue from orders and expenses for marketing), we can presume margin rate is 0.4 (typically for this kind of business).  \n",
    "*our mentor suggested it:  \n",
    "*(link: https://yandex-students.slack.com/archives/C01AB3UAP45/p1600102231014700?thread_ts=1600101333.014200&cid=C01AB3UAP45 )  \n",
    "*margin rate is gross profit devide by the revenue"
   ]
  },
  {
   "cell_type": "code",
   "execution_count": 89,
   "metadata": {},
   "outputs": [
    {
     "data": {
      "text/html": [
       "<div>\n",
       "<style scoped>\n",
       "    .dataframe tbody tr th:only-of-type {\n",
       "        vertical-align: middle;\n",
       "    }\n",
       "\n",
       "    .dataframe tbody tr th {\n",
       "        vertical-align: top;\n",
       "    }\n",
       "\n",
       "    .dataframe thead th {\n",
       "        text-align: right;\n",
       "    }\n",
       "</style>\n",
       "<table border=\"1\" class=\"dataframe\">\n",
       "  <thead>\n",
       "    <tr style=\"text-align: right;\">\n",
       "      <th>lifetime</th>\n",
       "      <th>0</th>\n",
       "      <th>1</th>\n",
       "      <th>2</th>\n",
       "      <th>3</th>\n",
       "      <th>4</th>\n",
       "      <th>5</th>\n",
       "      <th>6</th>\n",
       "      <th>7</th>\n",
       "      <th>8</th>\n",
       "      <th>9</th>\n",
       "      <th>10</th>\n",
       "      <th>11</th>\n",
       "    </tr>\n",
       "    <tr>\n",
       "      <th>first_order_month</th>\n",
       "      <th></th>\n",
       "      <th></th>\n",
       "      <th></th>\n",
       "      <th></th>\n",
       "      <th></th>\n",
       "      <th></th>\n",
       "      <th></th>\n",
       "      <th></th>\n",
       "      <th></th>\n",
       "      <th></th>\n",
       "      <th></th>\n",
       "      <th></th>\n",
       "    </tr>\n",
       "  </thead>\n",
       "  <tbody>\n",
       "    <tr>\n",
       "      <td>2017-06-01</td>\n",
       "      <td>1.89</td>\n",
       "      <td>2.08</td>\n",
       "      <td>2.26</td>\n",
       "      <td>2.64</td>\n",
       "      <td>3.05</td>\n",
       "      <td>3.34</td>\n",
       "      <td>3.72</td>\n",
       "      <td>3.95</td>\n",
       "      <td>4.17</td>\n",
       "      <td>4.41</td>\n",
       "      <td>4.64</td>\n",
       "      <td>4.74</td>\n",
       "    </tr>\n",
       "    <tr>\n",
       "      <td>2017-07-01</td>\n",
       "      <td>2.41</td>\n",
       "      <td>2.54</td>\n",
       "      <td>2.79</td>\n",
       "      <td>2.93</td>\n",
       "      <td>3</td>\n",
       "      <td>3.06</td>\n",
       "      <td>3.11</td>\n",
       "      <td>3.17</td>\n",
       "      <td>3.23</td>\n",
       "      <td>3.29</td>\n",
       "      <td>3.35</td>\n",
       "      <td></td>\n",
       "    </tr>\n",
       "    <tr>\n",
       "      <td>2017-08-01</td>\n",
       "      <td>2.11</td>\n",
       "      <td>2.3</td>\n",
       "      <td>2.48</td>\n",
       "      <td>2.64</td>\n",
       "      <td>2.84</td>\n",
       "      <td>2.95</td>\n",
       "      <td>3.03</td>\n",
       "      <td>3.19</td>\n",
       "      <td>3.31</td>\n",
       "      <td>3.39</td>\n",
       "      <td></td>\n",
       "      <td></td>\n",
       "    </tr>\n",
       "    <tr>\n",
       "      <td>2017-09-01</td>\n",
       "      <td>2.26</td>\n",
       "      <td>2.71</td>\n",
       "      <td>2.92</td>\n",
       "      <td>4.51</td>\n",
       "      <td>4.67</td>\n",
       "      <td>4.93</td>\n",
       "      <td>5.21</td>\n",
       "      <td>5.31</td>\n",
       "      <td>5.38</td>\n",
       "      <td></td>\n",
       "      <td></td>\n",
       "      <td></td>\n",
       "    </tr>\n",
       "    <tr>\n",
       "      <td>2017-10-01</td>\n",
       "      <td>2.00</td>\n",
       "      <td>2.21</td>\n",
       "      <td>2.29</td>\n",
       "      <td>2.35</td>\n",
       "      <td>2.41</td>\n",
       "      <td>2.46</td>\n",
       "      <td>2.49</td>\n",
       "      <td>2.54</td>\n",
       "      <td></td>\n",
       "      <td></td>\n",
       "      <td></td>\n",
       "      <td></td>\n",
       "    </tr>\n",
       "    <tr>\n",
       "      <td>2017-11-01</td>\n",
       "      <td>2.06</td>\n",
       "      <td>2.22</td>\n",
       "      <td>2.3</td>\n",
       "      <td>2.43</td>\n",
       "      <td>2.49</td>\n",
       "      <td>2.51</td>\n",
       "      <td>2.56</td>\n",
       "      <td></td>\n",
       "      <td></td>\n",
       "      <td></td>\n",
       "      <td></td>\n",
       "      <td></td>\n",
       "    </tr>\n",
       "    <tr>\n",
       "      <td>2017-12-01</td>\n",
       "      <td>1.90</td>\n",
       "      <td>2</td>\n",
       "      <td>2.37</td>\n",
       "      <td>2.8</td>\n",
       "      <td>2.93</td>\n",
       "      <td>3.07</td>\n",
       "      <td></td>\n",
       "      <td></td>\n",
       "      <td></td>\n",
       "      <td></td>\n",
       "      <td></td>\n",
       "      <td></td>\n",
       "    </tr>\n",
       "    <tr>\n",
       "      <td>2018-01-01</td>\n",
       "      <td>1.65</td>\n",
       "      <td>1.77</td>\n",
       "      <td>1.89</td>\n",
       "      <td>1.95</td>\n",
       "      <td>1.98</td>\n",
       "      <td></td>\n",
       "      <td></td>\n",
       "      <td></td>\n",
       "      <td></td>\n",
       "      <td></td>\n",
       "      <td></td>\n",
       "      <td></td>\n",
       "    </tr>\n",
       "    <tr>\n",
       "      <td>2018-02-01</td>\n",
       "      <td>1.66</td>\n",
       "      <td>1.77</td>\n",
       "      <td>1.8</td>\n",
       "      <td>1.83</td>\n",
       "      <td></td>\n",
       "      <td></td>\n",
       "      <td></td>\n",
       "      <td></td>\n",
       "      <td></td>\n",
       "      <td></td>\n",
       "      <td></td>\n",
       "      <td></td>\n",
       "    </tr>\n",
       "    <tr>\n",
       "      <td>2018-03-01</td>\n",
       "      <td>1.94</td>\n",
       "      <td>2.06</td>\n",
       "      <td>2.19</td>\n",
       "      <td></td>\n",
       "      <td></td>\n",
       "      <td></td>\n",
       "      <td></td>\n",
       "      <td></td>\n",
       "      <td></td>\n",
       "      <td></td>\n",
       "      <td></td>\n",
       "      <td></td>\n",
       "    </tr>\n",
       "    <tr>\n",
       "      <td>2018-04-01</td>\n",
       "      <td>1.86</td>\n",
       "      <td>2.07</td>\n",
       "      <td></td>\n",
       "      <td></td>\n",
       "      <td></td>\n",
       "      <td></td>\n",
       "      <td></td>\n",
       "      <td></td>\n",
       "      <td></td>\n",
       "      <td></td>\n",
       "      <td></td>\n",
       "      <td></td>\n",
       "    </tr>\n",
       "    <tr>\n",
       "      <td>2018-05-01</td>\n",
       "      <td>1.87</td>\n",
       "      <td></td>\n",
       "      <td></td>\n",
       "      <td></td>\n",
       "      <td></td>\n",
       "      <td></td>\n",
       "      <td></td>\n",
       "      <td></td>\n",
       "      <td></td>\n",
       "      <td></td>\n",
       "      <td></td>\n",
       "      <td></td>\n",
       "    </tr>\n",
       "  </tbody>\n",
       "</table>\n",
       "</div>"
      ],
      "text/plain": [
       "lifetime             0     1     2     3     4     5     6     7     8     9   \\\n",
       "first_order_month                                                               \n",
       "2017-06-01         1.89  2.08  2.26  2.64  3.05  3.34  3.72  3.95  4.17  4.41   \n",
       "2017-07-01         2.41  2.54  2.79  2.93     3  3.06  3.11  3.17  3.23  3.29   \n",
       "2017-08-01         2.11   2.3  2.48  2.64  2.84  2.95  3.03  3.19  3.31  3.39   \n",
       "2017-09-01         2.26  2.71  2.92  4.51  4.67  4.93  5.21  5.31  5.38         \n",
       "2017-10-01         2.00  2.21  2.29  2.35  2.41  2.46  2.49  2.54               \n",
       "2017-11-01         2.06  2.22   2.3  2.43  2.49  2.51  2.56                     \n",
       "2017-12-01         1.90     2  2.37   2.8  2.93  3.07                           \n",
       "2018-01-01         1.65  1.77  1.89  1.95  1.98                                 \n",
       "2018-02-01         1.66  1.77   1.8  1.83                                       \n",
       "2018-03-01         1.94  2.06  2.19                                             \n",
       "2018-04-01         1.86  2.07                                                   \n",
       "2018-05-01         1.87                                                         \n",
       "\n",
       "lifetime             10    11  \n",
       "first_order_month              \n",
       "2017-06-01         4.64  4.74  \n",
       "2017-07-01         3.35        \n",
       "2017-08-01                     \n",
       "2017-09-01                     \n",
       "2017-10-01                     \n",
       "2017-11-01                     \n",
       "2017-12-01                     \n",
       "2018-01-01                     \n",
       "2018-02-01                     \n",
       "2018-03-01                     \n",
       "2018-04-01                     \n",
       "2018-05-01                     "
      ]
     },
     "execution_count": 89,
     "metadata": {},
     "output_type": "execute_result"
    }
   ],
   "source": [
    "#making pivot table\n",
    "output_ltv = report.pivot_table(index='first_order_month', columns='lifetime', values='ltv', aggfunc='mean').round(2)\n",
    "#printing output with cumulative sum\n",
    "output_ltv.cumsum(axis=1).fillna('') "
   ]
  },
  {
   "cell_type": "markdown",
   "metadata": {},
   "source": [
    "LTV - lifetime value - the total income that you receive from one client for the entire time of his interaction with your company. For purposes of cohort analysis, LTV is a cohort's cumulative revenue, accounting for the number of people in the cohort.  \n",
    " \n",
    "The row of the cohort table specifies the revenue the cohort brought.  \n",
    "From the 1st row we can see that the customers who placed their first order in June 2017 brought in a total revenue of 4.74 over their twelve-month lifetime. \n",
    "September cohort have highest LTV - 5.38, but we detected here huge order that were done in December.  \n",
    "In general our LTV through cohorts were decreasing. "
   ]
  },
  {
   "cell_type": "markdown",
   "metadata": {},
   "source": [
    "[Back to the Table of Contents](#contents)"
   ]
  },
  {
   "cell_type": "markdown",
   "metadata": {},
   "source": [
    "#### Conclusion  <a class=\"anchor\" id=\"chapter42\"></a>"
   ]
  },
  {
   "cell_type": "markdown",
   "metadata": {},
   "source": [
    "**In this step I found:**  \n",
    "\n",
    "Total number of orders: 50364\n",
    "Number of unique users: 36509  \n",
    "\n",
    "1. Conversion rate is 17.63%.\n",
    "2. Most of the users did order in the first day of visit.\n",
    "3. On average 138 orders were done per day, 950 - per week and 4197 per month.\n",
    "4. On average 128 users did orders per day, 816 - per week and 3416 per month.\n",
    "5. Purchase frequency is 1.22.\n",
    "6. In October - December were more orders than in other months, in June - August was less orders.\n",
    "7. Desember were most popular month for orders.\n",
    "8. On average only 2-3% of users who did purchase were returning next months.\n",
    "9. Our monthly repurchase ratio is decreasing for each new cohort.\n",
    "10. More than 95% users didn't come back after the first order.\n",
    "11. LTV of the oldest cohort is 4.75.\n",
    "12. Number of active users in every cohort decreases from month to month, revenue per user increases. "
   ]
  },
  {
   "cell_type": "markdown",
   "metadata": {},
   "source": [
    "[Back to the Table of Contents](#contents)"
   ]
  },
  {
   "cell_type": "markdown",
   "metadata": {},
   "source": [
    "#### 4.3 Marketing <a class=\"anchor\" id=\"chapter33\"></a>"
   ]
  },
  {
   "cell_type": "code",
   "execution_count": 90,
   "metadata": {},
   "outputs": [
    {
     "name": "stdout",
     "output_type": "stream",
     "text": [
      "Total:\n",
      "Revenue: 252057.2\n",
      "Costs: 329131.62\n",
      "Total: -77074.42\n"
     ]
    }
   ],
   "source": [
    "#calculating profit/loss\n",
    "total_costs = costs.costs.sum()\n",
    "print('Total:')\n",
    "print('Revenue:', total_revenue)\n",
    "print('Costs:', total_costs)\n",
    "print('Total: {:.2f}'.format(total_revenue - total_costs))"
   ]
  },
  {
   "cell_type": "markdown",
   "metadata": {},
   "source": [
    "Total marketing expenses more than total revenue."
   ]
  },
  {
   "cell_type": "code",
   "execution_count": 91,
   "metadata": {},
   "outputs": [
    {
     "name": "stdout",
     "output_type": "stream",
     "text": [
      "Per unit:\n",
      "Revenue: 5.00\n",
      "Costs: 6.54\n",
      "Profit: -1.53\n"
     ]
    }
   ],
   "source": [
    "#calculating profit/loss per one order \n",
    "one_unit_revenue = total_revenue / total_orders\n",
    "one_unit_var_costs = total_costs/ total_orders\n",
    "print('Per unit:')\n",
    "print('Revenue: {:.2f}'.format(one_unit_revenue))\n",
    "print('Costs: {:.2f}'.format(one_unit_var_costs))\n",
    "print('Profit: {:.2f}'.format(one_unit_revenue - one_unit_var_costs))"
   ]
  },
  {
   "cell_type": "markdown",
   "metadata": {},
   "source": [
    "We don't have any data about other costs except marketing or other revenue except revenue from orders. According information that we have we always get a loss, 1.53 from each order.  \n",
    "I will build a business model, but I don't think that it make sense, but anyway we can try to check if there is a chance to get any profit if we would increase marketing costs."
   ]
  },
  {
   "cell_type": "code",
   "execution_count": 92,
   "metadata": {},
   "outputs": [
    {
     "name": "stdout",
     "output_type": "stream",
     "text": [
      "Profit/loss: 0.0 with a budget of 0\n",
      "Profit/loss: -23417.5069536011 with a budget of 100000\n",
      "Profit/loss: -46835.0139072022 with a budget of 200000\n",
      "Profit/loss: -70252.52086080331 with a budget of 300000\n",
      "Profit/loss: -93670.0278144044 with a budget of 400000\n",
      "Profit/loss: -117087.53476800554 with a budget of 500000\n",
      "Profit/loss: -140505.04172160663 with a budget of 600000\n",
      "Profit/loss: -163922.54867520765 with a budget of 700000\n",
      "Profit/loss: -187340.0556288088 with a budget of 800000\n",
      "Profit/loss: -210757.56258240982 with a budget of 900000\n"
     ]
    }
   ],
   "source": [
    "#making a business model\n",
    "def unit_economics(marketing):    \n",
    "    items_sold = marketing / one_unit_var_costs\n",
    "    revenue = one_unit_revenue * items_sold\n",
    "    var_costs = one_unit_var_costs * items_sold\n",
    "    return revenue - var_costs\n",
    "#applying model\n",
    "for m in range(0, 1000000, 100000):\n",
    "    print('Profit/loss: {} with a budget of {}'.format(unit_economics(m), m))"
   ]
  },
  {
   "cell_type": "markdown",
   "metadata": {},
   "source": [
    "This is an obvious result, even with marketing expenses is 900000 we can't get profit. Also as we can see the higher marketing costs the bigger loss."
   ]
  },
  {
   "cell_type": "markdown",
   "metadata": {},
   "source": [
    "**1. How much money was spent? Overall/per source/over time** <a class=\"anchor\" id=\"chapter34\"></a>"
   ]
  },
  {
   "cell_type": "code",
   "execution_count": 93,
   "metadata": {},
   "outputs": [
    {
     "name": "stdout",
     "output_type": "stream",
     "text": [
      "Overal marketing expenses: 329131.62\n"
     ]
    }
   ],
   "source": [
    "print('Overal marketing expenses:', total_costs)"
   ]
  },
  {
   "cell_type": "code",
   "execution_count": 94,
   "metadata": {},
   "outputs": [
    {
     "name": "stdout",
     "output_type": "stream",
     "text": [
      "Average marketing expenses per day: 904\n",
      "Average marketing expenses per month: 27427\n"
     ]
    }
   ],
   "source": [
    "#calculating marketing expenses per day/month\n",
    "costs['month'] = costs['date'].astype('datetime64[M]')\n",
    "costs_per_day = costs.groupby('date').agg({'costs': 'sum'}).mean()\n",
    "costs_per_month = costs.groupby('month').agg({'costs': 'sum'}).mean()\n",
    "print(\"Average marketing expenses per day:\", int(costs_per_day))\n",
    "print(\"Average marketing expenses per month:\", int(costs_per_month))"
   ]
  },
  {
   "cell_type": "markdown",
   "metadata": {},
   "source": [
    "Let's check how the costs changed over time:"
   ]
  },
  {
   "cell_type": "code",
   "execution_count": 95,
   "metadata": {},
   "outputs": [
    {
     "data": {
      "image/png": "[encoded data removed]",
      "text/plain": [
       "<Figure size 720x432 with 1 Axes>"
      ]
     },
     "metadata": {},
     "output_type": "display_data"
    }
   ],
   "source": [
    "#making a graph\n",
    "costs.pivot_table(index='month',columns = 'source_id', values='costs', aggfunc='sum').plot(figsize=(10,6))\n",
    "plt.xlabel('Month')\n",
    "plt.ylabel('Expenses')\n",
    "plt.title('Marketing expenses per month per source')\n",
    "plt.show()"
   ]
  },
  {
   "cell_type": "markdown",
   "metadata": {},
   "source": [
    "The main ad source for us was the third one - we spent more our budget on it.  \n",
    "We didn't spend equal amounts for each source (and overall) through a year. And it gave us results - users visits were changing according to our overall investments (October-January were months with highest visits).  "
   ]
  },
  {
   "cell_type": "markdown",
   "metadata": {},
   "source": [
    "[Back to the Table of Contents](#contents)"
   ]
  },
  {
   "cell_type": "markdown",
   "metadata": {},
   "source": [
    "**2. How much did customer acquisition from each of the sources cost?** <a class=\"anchor\" id=\"chapter35\"></a>"
   ]
  },
  {
   "cell_type": "code",
   "execution_count": 96,
   "metadata": {},
   "outputs": [],
   "source": [
    "#finding total costs per source\n",
    "costs_by_source = costs.pivot_table(index='source_id', values='costs', aggfunc='sum')\n",
    "costs_by_source.reset_index()\n",
    "#finding number of unique users per source\n",
    "users_by_source = visits.groupby('source_id').agg({'uid':'nunique'}).reset_index()\n",
    "users_by_source.columns = ['source_id', 'n_users']\n",
    "#merging tables\n",
    "m_costs = costs_by_source.merge(users_by_source, on='source_id')"
   ]
  },
  {
   "cell_type": "code",
   "execution_count": 97,
   "metadata": {},
   "outputs": [
    {
     "data": {
      "image/png": "[encoded data removed]",
      "text/plain": [
       "<Figure size 432x288 with 1 Axes>"
      ]
     },
     "metadata": {},
     "output_type": "display_data"
    }
   ],
   "source": [
    "#making graph\n",
    "visits.pivot_table(index = 'source_id', values = 'uid', aggfunc='nunique').plot(kind='bar', legend=False)\n",
    "plt.xlabel('Source Id')\n",
    "plt.ylabel('Amount of users')\n",
    "plt.title('All users')\n",
    "plt.show()"
   ]
  },
  {
   "cell_type": "code",
   "execution_count": 98,
   "metadata": {},
   "outputs": [
    {
     "data": {
      "image/png": "[encoded data removed]",
      "text/plain": [
       "<Figure size 432x288 with 1 Axes>"
      ]
     },
     "metadata": {},
     "output_type": "display_data"
    }
   ],
   "source": [
    "#making graph\n",
    "costs_by_source.plot(kind='bar', legend=False, color='r')\n",
    "plt.xlabel('Source Id')\n",
    "plt.ylabel('Expenses')\n",
    "plt.title('Marketing expenses per source')\n",
    "plt.show()"
   ]
  },
  {
   "cell_type": "markdown",
   "metadata": {},
   "source": [
    "Highest investition were in 3rd source, but people were coming from 4th much actively.  \n",
    "Other visits correspond to investment.  "
   ]
  },
  {
   "cell_type": "code",
   "execution_count": 99,
   "metadata": {},
   "outputs": [
    {
     "data": {
      "text/html": [
       "<style  type=\"text/css\" >\n",
       "</style><table id=\"T_758621de_ff31_11ea_9b1a_02420a393179\" ><thead>    <tr>        <th class=\"col_heading level0 col0\" >source_id</th>        <th class=\"col_heading level0 col1\" >costs</th>        <th class=\"col_heading level0 col2\" >n_users</th>        <th class=\"col_heading level0 col3\" >costs_per_user</th>    </tr></thead><tbody>\n",
       "                <tr>\n",
       "                                <td id=\"T_758621de_ff31_11ea_9b1a_02420a393179row0_col0\" class=\"data row0 col0\" >4</td>\n",
       "                        <td id=\"T_758621de_ff31_11ea_9b1a_02420a393179row0_col1\" class=\"data row0 col1\" >61073.60</td>\n",
       "                        <td id=\"T_758621de_ff31_11ea_9b1a_02420a393179row0_col2\" class=\"data row0 col2\" >75080</td>\n",
       "                        <td id=\"T_758621de_ff31_11ea_9b1a_02420a393179row0_col3\" class=\"data row0 col3\" >0.81</td>\n",
       "            </tr>\n",
       "            <tr>\n",
       "                                <td id=\"T_758621de_ff31_11ea_9b1a_02420a393179row1_col0\" class=\"data row1 col0\" >3</td>\n",
       "                        <td id=\"T_758621de_ff31_11ea_9b1a_02420a393179row1_col1\" class=\"data row1 col1\" >141321.63</td>\n",
       "                        <td id=\"T_758621de_ff31_11ea_9b1a_02420a393179row1_col2\" class=\"data row1 col2\" >67284</td>\n",
       "                        <td id=\"T_758621de_ff31_11ea_9b1a_02420a393179row1_col3\" class=\"data row1 col3\" >2.10</td>\n",
       "            </tr>\n",
       "            <tr>\n",
       "                                <td id=\"T_758621de_ff31_11ea_9b1a_02420a393179row2_col0\" class=\"data row2 col0\" >5</td>\n",
       "                        <td id=\"T_758621de_ff31_11ea_9b1a_02420a393179row2_col1\" class=\"data row2 col1\" >51757.10</td>\n",
       "                        <td id=\"T_758621de_ff31_11ea_9b1a_02420a393179row2_col2\" class=\"data row2 col2\" >50921</td>\n",
       "                        <td id=\"T_758621de_ff31_11ea_9b1a_02420a393179row2_col3\" class=\"data row2 col3\" >1.02</td>\n",
       "            </tr>\n",
       "            <tr>\n",
       "                                <td id=\"T_758621de_ff31_11ea_9b1a_02420a393179row3_col0\" class=\"data row3 col0\" >2</td>\n",
       "                        <td id=\"T_758621de_ff31_11ea_9b1a_02420a393179row3_col1\" class=\"data row3 col1\" >42806.04</td>\n",
       "                        <td id=\"T_758621de_ff31_11ea_9b1a_02420a393179row3_col2\" class=\"data row3 col2\" >24152</td>\n",
       "                        <td id=\"T_758621de_ff31_11ea_9b1a_02420a393179row3_col3\" class=\"data row3 col3\" >1.77</td>\n",
       "            </tr>\n",
       "            <tr>\n",
       "                                <td id=\"T_758621de_ff31_11ea_9b1a_02420a393179row4_col0\" class=\"data row4 col0\" >1</td>\n",
       "                        <td id=\"T_758621de_ff31_11ea_9b1a_02420a393179row4_col1\" class=\"data row4 col1\" >20833.27</td>\n",
       "                        <td id=\"T_758621de_ff31_11ea_9b1a_02420a393179row4_col2\" class=\"data row4 col2\" >17960</td>\n",
       "                        <td id=\"T_758621de_ff31_11ea_9b1a_02420a393179row4_col3\" class=\"data row4 col3\" >1.16</td>\n",
       "            </tr>\n",
       "            <tr>\n",
       "                                <td id=\"T_758621de_ff31_11ea_9b1a_02420a393179row5_col0\" class=\"data row5 col0\" >9</td>\n",
       "                        <td id=\"T_758621de_ff31_11ea_9b1a_02420a393179row5_col1\" class=\"data row5 col1\" >5517.49</td>\n",
       "                        <td id=\"T_758621de_ff31_11ea_9b1a_02420a393179row5_col2\" class=\"data row5 col2\" >8504</td>\n",
       "                        <td id=\"T_758621de_ff31_11ea_9b1a_02420a393179row5_col3\" class=\"data row5 col3\" >0.65</td>\n",
       "            </tr>\n",
       "            <tr>\n",
       "                                <td id=\"T_758621de_ff31_11ea_9b1a_02420a393179row6_col0\" class=\"data row6 col0\" >10</td>\n",
       "                        <td id=\"T_758621de_ff31_11ea_9b1a_02420a393179row6_col1\" class=\"data row6 col1\" >5822.49</td>\n",
       "                        <td id=\"T_758621de_ff31_11ea_9b1a_02420a393179row6_col2\" class=\"data row6 col2\" >7208</td>\n",
       "                        <td id=\"T_758621de_ff31_11ea_9b1a_02420a393179row6_col3\" class=\"data row6 col3\" >0.81</td>\n",
       "            </tr>\n",
       "    </tbody></table>"
      ],
      "text/plain": [
       "<pandas.io.formats.style.Styler at 0x7fcb6cc51710>"
      ]
     },
     "execution_count": 99,
     "metadata": {},
     "output_type": "execute_result"
    }
   ],
   "source": [
    "#calculating costs per user\n",
    "m_costs['costs_per_user'] = m_costs['costs']/m_costs['n_users']\n",
    "m_costs.reset_index()\n",
    "m_costs.sort_values('n_users', ascending=False).style.format({'costs':'{:.2f}', 'costs_per_user':'{:.2f}'}).hide_index()"
   ]
  },
  {
   "cell_type": "markdown",
   "metadata": {},
   "source": [
    "I sorted values by number of users in this table.  \n",
    "As we can see source where biggest amount of users came is 4 and the cost of attracting a client is not the highest.  \n",
    "The 3rd source is most expencive per user.  \n",
    "The 5th source, also popular, have a middle cost per user.  \n",
    "2nd and 1st sources that not popular, gave us twice less users than 5th source, but were more expensive per user that 5th.    \n",
    "Let's check our paying users group."
   ]
  },
  {
   "cell_type": "code",
   "execution_count": 100,
   "metadata": {},
   "outputs": [
    {
     "data": {
      "image/png": "[encoded data removed]",
      "text/plain": [
       "<Figure size 432x288 with 1 Axes>"
      ]
     },
     "metadata": {},
     "output_type": "display_data"
    }
   ],
   "source": [
    "visits.query('uid in @paying_users').pivot_table(index = 'source_id', \n",
    "                                                 values = 'uid', \n",
    "                                                 aggfunc='nunique').plot(kind='bar',\n",
    "                                                                         legend=False, \n",
    "                                                                         alpha=0.5, color='orange')\n",
    "plt.title('Paying users activity')\n",
    "plt.xlabel('Source Id')\n",
    "plt.ylabel('Amount of users')\n",
    "plt.show()"
   ]
  },
  {
   "cell_type": "markdown",
   "metadata": {},
   "source": [
    "1st and 2nd source was supported lightly, but brought us more users who did purchases."
   ]
  },
  {
   "cell_type": "markdown",
   "metadata": {},
   "source": [
    "[Back to the Table of Contents](#contents)"
   ]
  },
  {
   "cell_type": "markdown",
   "metadata": {},
   "source": [
    "**Customer Acquisition Cost** <a class=\"anchor\" id=\"chapter36\"></a>"
   ]
  },
  {
   "cell_type": "markdown",
   "metadata": {},
   "source": [
    "Let's run calculations and determine the number of months each cohort requires to cover marketing expenses. We'll calculate CAC for each cohort. First we'll find the total expenses for each month, then we'll divide them by the number of customers in each cohort:"
   ]
  },
  {
   "cell_type": "code",
   "execution_count": 101,
   "metadata": {},
   "outputs": [
    {
     "data": {
      "text/html": [
       "<div>\n",
       "<style scoped>\n",
       "    .dataframe tbody tr th:only-of-type {\n",
       "        vertical-align: middle;\n",
       "    }\n",
       "\n",
       "    .dataframe tbody tr th {\n",
       "        vertical-align: top;\n",
       "    }\n",
       "\n",
       "    .dataframe thead th {\n",
       "        text-align: right;\n",
       "    }\n",
       "</style>\n",
       "<table border=\"1\" class=\"dataframe\">\n",
       "  <thead>\n",
       "    <tr style=\"text-align: right;\">\n",
       "      <th></th>\n",
       "      <th>source_id</th>\n",
       "      <th>costs</th>\n",
       "    </tr>\n",
       "    <tr>\n",
       "      <th>month</th>\n",
       "      <th></th>\n",
       "      <th></th>\n",
       "    </tr>\n",
       "  </thead>\n",
       "  <tbody>\n",
       "    <tr>\n",
       "      <td>2017-06-01</td>\n",
       "      <td>1020</td>\n",
       "      <td>18015.00</td>\n",
       "    </tr>\n",
       "    <tr>\n",
       "      <td>2017-07-01</td>\n",
       "      <td>1054</td>\n",
       "      <td>18240.59</td>\n",
       "    </tr>\n",
       "    <tr>\n",
       "      <td>2017-08-01</td>\n",
       "      <td>1054</td>\n",
       "      <td>14790.54</td>\n",
       "    </tr>\n",
       "    <tr>\n",
       "      <td>2017-09-01</td>\n",
       "      <td>1020</td>\n",
       "      <td>24368.91</td>\n",
       "    </tr>\n",
       "    <tr>\n",
       "      <td>2017-10-01</td>\n",
       "      <td>1054</td>\n",
       "      <td>36322.88</td>\n",
       "    </tr>\n",
       "  </tbody>\n",
       "</table>\n",
       "</div>"
      ],
      "text/plain": [
       "            source_id     costs\n",
       "month                          \n",
       "2017-06-01       1020  18015.00\n",
       "2017-07-01       1054  18240.59\n",
       "2017-08-01       1054  14790.54\n",
       "2017-09-01       1020  24368.91\n",
       "2017-10-01       1054  36322.88"
      ]
     },
     "execution_count": 101,
     "metadata": {},
     "output_type": "execute_result"
    }
   ],
   "source": [
    "monthly_costs = costs.groupby('month').sum()\n",
    "monthly_costs.head()"
   ]
  },
  {
   "cell_type": "markdown",
   "metadata": {},
   "source": [
    "Let's add the data on costs to the report and calculate CAC:"
   ]
  },
  {
   "cell_type": "code",
   "execution_count": 102,
   "metadata": {},
   "outputs": [
    {
     "data": {
      "text/html": [
       "<div>\n",
       "<style scoped>\n",
       "    .dataframe tbody tr th:only-of-type {\n",
       "        vertical-align: middle;\n",
       "    }\n",
       "\n",
       "    .dataframe tbody tr th {\n",
       "        vertical-align: top;\n",
       "    }\n",
       "\n",
       "    .dataframe thead th {\n",
       "        text-align: right;\n",
       "    }\n",
       "</style>\n",
       "<table border=\"1\" class=\"dataframe\">\n",
       "  <thead>\n",
       "    <tr style=\"text-align: right;\">\n",
       "      <th></th>\n",
       "      <th>first_order_month</th>\n",
       "      <th>n_buyers</th>\n",
       "      <th>order_month</th>\n",
       "      <th>revenue</th>\n",
       "      <th>lifetime</th>\n",
       "      <th>ltv</th>\n",
       "      <th>source_id</th>\n",
       "      <th>costs</th>\n",
       "      <th>cac</th>\n",
       "    </tr>\n",
       "  </thead>\n",
       "  <tbody>\n",
       "    <tr>\n",
       "      <td>0</td>\n",
       "      <td>2017-06-01</td>\n",
       "      <td>2022</td>\n",
       "      <td>2017-06-01</td>\n",
       "      <td>9557.49</td>\n",
       "      <td>0</td>\n",
       "      <td>1.890700</td>\n",
       "      <td>1020</td>\n",
       "      <td>18015.0</td>\n",
       "      <td>8.909496</td>\n",
       "    </tr>\n",
       "    <tr>\n",
       "      <td>1</td>\n",
       "      <td>2017-06-01</td>\n",
       "      <td>2022</td>\n",
       "      <td>2017-07-01</td>\n",
       "      <td>981.82</td>\n",
       "      <td>1</td>\n",
       "      <td>0.194227</td>\n",
       "      <td>1020</td>\n",
       "      <td>18015.0</td>\n",
       "      <td>8.909496</td>\n",
       "    </tr>\n",
       "    <tr>\n",
       "      <td>2</td>\n",
       "      <td>2017-06-01</td>\n",
       "      <td>2022</td>\n",
       "      <td>2017-08-01</td>\n",
       "      <td>885.34</td>\n",
       "      <td>2</td>\n",
       "      <td>0.175141</td>\n",
       "      <td>1020</td>\n",
       "      <td>18015.0</td>\n",
       "      <td>8.909496</td>\n",
       "    </tr>\n",
       "    <tr>\n",
       "      <td>3</td>\n",
       "      <td>2017-06-01</td>\n",
       "      <td>2022</td>\n",
       "      <td>2017-09-01</td>\n",
       "      <td>1931.30</td>\n",
       "      <td>3</td>\n",
       "      <td>0.382057</td>\n",
       "      <td>1020</td>\n",
       "      <td>18015.0</td>\n",
       "      <td>8.909496</td>\n",
       "    </tr>\n",
       "    <tr>\n",
       "      <td>4</td>\n",
       "      <td>2017-06-01</td>\n",
       "      <td>2022</td>\n",
       "      <td>2017-10-01</td>\n",
       "      <td>2068.58</td>\n",
       "      <td>4</td>\n",
       "      <td>0.409215</td>\n",
       "      <td>1020</td>\n",
       "      <td>18015.0</td>\n",
       "      <td>8.909496</td>\n",
       "    </tr>\n",
       "  </tbody>\n",
       "</table>\n",
       "</div>"
      ],
      "text/plain": [
       "  first_order_month  n_buyers order_month  revenue  lifetime       ltv  \\\n",
       "0        2017-06-01      2022  2017-06-01  9557.49         0  1.890700   \n",
       "1        2017-06-01      2022  2017-07-01   981.82         1  0.194227   \n",
       "2        2017-06-01      2022  2017-08-01   885.34         2  0.175141   \n",
       "3        2017-06-01      2022  2017-09-01  1931.30         3  0.382057   \n",
       "4        2017-06-01      2022  2017-10-01  2068.58         4  0.409215   \n",
       "\n",
       "   source_id    costs       cac  \n",
       "0       1020  18015.0  8.909496  \n",
       "1       1020  18015.0  8.909496  \n",
       "2       1020  18015.0  8.909496  \n",
       "3       1020  18015.0  8.909496  \n",
       "4       1020  18015.0  8.909496  "
      ]
     },
     "execution_count": 102,
     "metadata": {},
     "output_type": "execute_result"
    }
   ],
   "source": [
    "report_cac = pd.merge(report, monthly_costs, left_on='first_order_month', right_on='month')\n",
    "report_cac['cac'] = report_cac['costs'] / report_cac['n_buyers']\n",
    "report_cac.head()"
   ]
  },
  {
   "cell_type": "code",
   "execution_count": 103,
   "metadata": {},
   "outputs": [
    {
     "data": {
      "text/html": [
       "<div>\n",
       "<style scoped>\n",
       "    .dataframe tbody tr th:only-of-type {\n",
       "        vertical-align: middle;\n",
       "    }\n",
       "\n",
       "    .dataframe tbody tr th {\n",
       "        vertical-align: top;\n",
       "    }\n",
       "\n",
       "    .dataframe thead th {\n",
       "        text-align: right;\n",
       "    }\n",
       "</style>\n",
       "<table border=\"1\" class=\"dataframe\">\n",
       "  <thead>\n",
       "    <tr style=\"text-align: right;\">\n",
       "      <th></th>\n",
       "      <th>first_order_month</th>\n",
       "      <th>cac</th>\n",
       "    </tr>\n",
       "  </thead>\n",
       "  <tbody>\n",
       "    <tr>\n",
       "      <td>0</td>\n",
       "      <td>2017-06-01</td>\n",
       "      <td>8.91</td>\n",
       "    </tr>\n",
       "    <tr>\n",
       "      <td>1</td>\n",
       "      <td>2017-07-01</td>\n",
       "      <td>9.49</td>\n",
       "    </tr>\n",
       "    <tr>\n",
       "      <td>2</td>\n",
       "      <td>2017-08-01</td>\n",
       "      <td>10.80</td>\n",
       "    </tr>\n",
       "    <tr>\n",
       "      <td>3</td>\n",
       "      <td>2017-09-01</td>\n",
       "      <td>9.45</td>\n",
       "    </tr>\n",
       "    <tr>\n",
       "      <td>4</td>\n",
       "      <td>2017-10-01</td>\n",
       "      <td>8.37</td>\n",
       "    </tr>\n",
       "    <tr>\n",
       "      <td>5</td>\n",
       "      <td>2017-11-01</td>\n",
       "      <td>9.30</td>\n",
       "    </tr>\n",
       "    <tr>\n",
       "      <td>6</td>\n",
       "      <td>2017-12-01</td>\n",
       "      <td>8.75</td>\n",
       "    </tr>\n",
       "    <tr>\n",
       "      <td>7</td>\n",
       "      <td>2018-01-01</td>\n",
       "      <td>9.94</td>\n",
       "    </tr>\n",
       "    <tr>\n",
       "      <td>8</td>\n",
       "      <td>2018-02-01</td>\n",
       "      <td>8.96</td>\n",
       "    </tr>\n",
       "    <tr>\n",
       "      <td>9</td>\n",
       "      <td>2018-03-01</td>\n",
       "      <td>8.61</td>\n",
       "    </tr>\n",
       "    <tr>\n",
       "      <td>10</td>\n",
       "      <td>2018-04-01</td>\n",
       "      <td>9.80</td>\n",
       "    </tr>\n",
       "    <tr>\n",
       "      <td>11</td>\n",
       "      <td>2018-05-01</td>\n",
       "      <td>7.44</td>\n",
       "    </tr>\n",
       "  </tbody>\n",
       "</table>\n",
       "</div>"
      ],
      "text/plain": [
       "   first_order_month    cac\n",
       "0         2017-06-01   8.91\n",
       "1         2017-07-01   9.49\n",
       "2         2017-08-01  10.80\n",
       "3         2017-09-01   9.45\n",
       "4         2017-10-01   8.37\n",
       "5         2017-11-01   9.30\n",
       "6         2017-12-01   8.75\n",
       "7         2018-01-01   9.94\n",
       "8         2018-02-01   8.96\n",
       "9         2018-03-01   8.61\n",
       "10        2018-04-01   9.80\n",
       "11        2018-05-01   7.44"
      ]
     },
     "execution_count": 103,
     "metadata": {},
     "output_type": "execute_result"
    }
   ],
   "source": [
    "#making table with cac\n",
    "output_cac = report_cac.pivot_table(index='first_order_month', values='cac', \n",
    "                                    aggfunc='mean').round(2).reset_index()\n",
    "\n",
    "output_cac.fillna('')"
   ]
  },
  {
   "cell_type": "markdown",
   "metadata": {},
   "source": [
    "CAC - customer acquisition cost - the cost of attracting a user. Simply put, this is the amount you spend on attracting each new visitor through a specific ad campaign. CAC is calculated as the ratio of the costs of one advertising campaign to the number of orders from it."
   ]
  },
  {
   "cell_type": "markdown",
   "metadata": {},
   "source": [
    "As we know in healthy per-customer economics, LTV is greater than CAC.  \n",
    "If we compare our LTV and CAC - investment in customer acquisition did not paid off and even not close to profit.\n",
    "For example LTV for oldest cohort is 4.74 and CAC 8.91."
   ]
  },
  {
   "cell_type": "markdown",
   "metadata": {},
   "source": [
    "[Back to the Table of Contents](#contents)"
   ]
  },
  {
   "cell_type": "markdown",
   "metadata": {},
   "source": [
    "**3. How worthwhile where the investments?** <a class=\"anchor\" id=\"chapter37\"></a>"
   ]
  },
  {
   "cell_type": "code",
   "execution_count": 104,
   "metadata": {},
   "outputs": [
    {
     "name": "stdout",
     "output_type": "stream",
     "text": [
      "ROMI: -23.42%\n"
     ]
    }
   ],
   "source": [
    "#calculating ROMI\n",
    "ROMI = (total_revenue - total_costs) / total_costs\n",
    "print('ROMI: {:.2%}'.format(ROMI))"
   ]
  },
  {
   "cell_type": "markdown",
   "metadata": {},
   "source": [
    "In order to distinguish between payoff for the business and payoff for an ad campaign, ROMI (return on marketing investment) is calculated instead of ROI.  \n",
    "According our ROMI the business got a -23% return on these investments."
   ]
  },
  {
   "cell_type": "markdown",
   "metadata": {},
   "source": [
    "**Return on marketing investment** <a class=\"anchor\" id=\"chapter38\"></a>"
   ]
  },
  {
   "cell_type": "markdown",
   "metadata": {},
   "source": [
    "And now let's find ROMI for cohorts by dividing LTV by CAC:"
   ]
  },
  {
   "cell_type": "code",
   "execution_count": 105,
   "metadata": {},
   "outputs": [],
   "source": [
    "#calculating ROMI\n",
    "report_cac['romi'] = report_cac['ltv'] / report_cac['cac']"
   ]
  },
  {
   "cell_type": "code",
   "execution_count": 106,
   "metadata": {},
   "outputs": [
    {
     "data": {
      "text/html": [
       "<div>\n",
       "<style scoped>\n",
       "    .dataframe tbody tr th:only-of-type {\n",
       "        vertical-align: middle;\n",
       "    }\n",
       "\n",
       "    .dataframe tbody tr th {\n",
       "        vertical-align: top;\n",
       "    }\n",
       "\n",
       "    .dataframe thead th {\n",
       "        text-align: right;\n",
       "    }\n",
       "</style>\n",
       "<table border=\"1\" class=\"dataframe\">\n",
       "  <thead>\n",
       "    <tr style=\"text-align: right;\">\n",
       "      <th>lifetime</th>\n",
       "      <th>0</th>\n",
       "      <th>1</th>\n",
       "      <th>2</th>\n",
       "      <th>3</th>\n",
       "      <th>4</th>\n",
       "      <th>5</th>\n",
       "      <th>6</th>\n",
       "      <th>7</th>\n",
       "      <th>8</th>\n",
       "      <th>9</th>\n",
       "      <th>10</th>\n",
       "      <th>11</th>\n",
       "    </tr>\n",
       "    <tr>\n",
       "      <th>first_order_month</th>\n",
       "      <th></th>\n",
       "      <th></th>\n",
       "      <th></th>\n",
       "      <th></th>\n",
       "      <th></th>\n",
       "      <th></th>\n",
       "      <th></th>\n",
       "      <th></th>\n",
       "      <th></th>\n",
       "      <th></th>\n",
       "      <th></th>\n",
       "      <th></th>\n",
       "    </tr>\n",
       "  </thead>\n",
       "  <tbody>\n",
       "    <tr>\n",
       "      <td>2017-06-01</td>\n",
       "      <td>0.21</td>\n",
       "      <td>0.23</td>\n",
       "      <td>0.25</td>\n",
       "      <td>0.3</td>\n",
       "      <td>0.34</td>\n",
       "      <td>0.38</td>\n",
       "      <td>0.42</td>\n",
       "      <td>0.44</td>\n",
       "      <td>0.47</td>\n",
       "      <td>0.5</td>\n",
       "      <td>0.52</td>\n",
       "      <td>0.53</td>\n",
       "    </tr>\n",
       "    <tr>\n",
       "      <td>2017-07-01</td>\n",
       "      <td>0.25</td>\n",
       "      <td>0.27</td>\n",
       "      <td>0.29</td>\n",
       "      <td>0.31</td>\n",
       "      <td>0.32</td>\n",
       "      <td>0.32</td>\n",
       "      <td>0.33</td>\n",
       "      <td>0.33</td>\n",
       "      <td>0.34</td>\n",
       "      <td>0.35</td>\n",
       "      <td>0.35</td>\n",
       "      <td></td>\n",
       "    </tr>\n",
       "    <tr>\n",
       "      <td>2017-08-01</td>\n",
       "      <td>0.20</td>\n",
       "      <td>0.21</td>\n",
       "      <td>0.23</td>\n",
       "      <td>0.24</td>\n",
       "      <td>0.26</td>\n",
       "      <td>0.27</td>\n",
       "      <td>0.28</td>\n",
       "      <td>0.3</td>\n",
       "      <td>0.31</td>\n",
       "      <td>0.31</td>\n",
       "      <td></td>\n",
       "      <td></td>\n",
       "    </tr>\n",
       "    <tr>\n",
       "      <td>2017-09-01</td>\n",
       "      <td>0.24</td>\n",
       "      <td>0.29</td>\n",
       "      <td>0.31</td>\n",
       "      <td>0.48</td>\n",
       "      <td>0.49</td>\n",
       "      <td>0.52</td>\n",
       "      <td>0.55</td>\n",
       "      <td>0.56</td>\n",
       "      <td>0.57</td>\n",
       "      <td></td>\n",
       "      <td></td>\n",
       "      <td></td>\n",
       "    </tr>\n",
       "    <tr>\n",
       "      <td>2017-10-01</td>\n",
       "      <td>0.24</td>\n",
       "      <td>0.26</td>\n",
       "      <td>0.27</td>\n",
       "      <td>0.28</td>\n",
       "      <td>0.29</td>\n",
       "      <td>0.29</td>\n",
       "      <td>0.3</td>\n",
       "      <td>0.3</td>\n",
       "      <td></td>\n",
       "      <td></td>\n",
       "      <td></td>\n",
       "      <td></td>\n",
       "    </tr>\n",
       "    <tr>\n",
       "      <td>2017-11-01</td>\n",
       "      <td>0.22</td>\n",
       "      <td>0.24</td>\n",
       "      <td>0.25</td>\n",
       "      <td>0.26</td>\n",
       "      <td>0.27</td>\n",
       "      <td>0.27</td>\n",
       "      <td>0.28</td>\n",
       "      <td></td>\n",
       "      <td></td>\n",
       "      <td></td>\n",
       "      <td></td>\n",
       "      <td></td>\n",
       "    </tr>\n",
       "    <tr>\n",
       "      <td>2017-12-01</td>\n",
       "      <td>0.22</td>\n",
       "      <td>0.23</td>\n",
       "      <td>0.27</td>\n",
       "      <td>0.32</td>\n",
       "      <td>0.33</td>\n",
       "      <td>0.35</td>\n",
       "      <td></td>\n",
       "      <td></td>\n",
       "      <td></td>\n",
       "      <td></td>\n",
       "      <td></td>\n",
       "      <td></td>\n",
       "    </tr>\n",
       "    <tr>\n",
       "      <td>2018-01-01</td>\n",
       "      <td>0.17</td>\n",
       "      <td>0.18</td>\n",
       "      <td>0.19</td>\n",
       "      <td>0.2</td>\n",
       "      <td>0.2</td>\n",
       "      <td></td>\n",
       "      <td></td>\n",
       "      <td></td>\n",
       "      <td></td>\n",
       "      <td></td>\n",
       "      <td></td>\n",
       "      <td></td>\n",
       "    </tr>\n",
       "    <tr>\n",
       "      <td>2018-02-01</td>\n",
       "      <td>0.19</td>\n",
       "      <td>0.2</td>\n",
       "      <td>0.2</td>\n",
       "      <td>0.2</td>\n",
       "      <td></td>\n",
       "      <td></td>\n",
       "      <td></td>\n",
       "      <td></td>\n",
       "      <td></td>\n",
       "      <td></td>\n",
       "      <td></td>\n",
       "      <td></td>\n",
       "    </tr>\n",
       "    <tr>\n",
       "      <td>2018-03-01</td>\n",
       "      <td>0.22</td>\n",
       "      <td>0.24</td>\n",
       "      <td>0.25</td>\n",
       "      <td></td>\n",
       "      <td></td>\n",
       "      <td></td>\n",
       "      <td></td>\n",
       "      <td></td>\n",
       "      <td></td>\n",
       "      <td></td>\n",
       "      <td></td>\n",
       "      <td></td>\n",
       "    </tr>\n",
       "    <tr>\n",
       "      <td>2018-04-01</td>\n",
       "      <td>0.19</td>\n",
       "      <td>0.21</td>\n",
       "      <td></td>\n",
       "      <td></td>\n",
       "      <td></td>\n",
       "      <td></td>\n",
       "      <td></td>\n",
       "      <td></td>\n",
       "      <td></td>\n",
       "      <td></td>\n",
       "      <td></td>\n",
       "      <td></td>\n",
       "    </tr>\n",
       "    <tr>\n",
       "      <td>2018-05-01</td>\n",
       "      <td>0.25</td>\n",
       "      <td></td>\n",
       "      <td></td>\n",
       "      <td></td>\n",
       "      <td></td>\n",
       "      <td></td>\n",
       "      <td></td>\n",
       "      <td></td>\n",
       "      <td></td>\n",
       "      <td></td>\n",
       "      <td></td>\n",
       "      <td></td>\n",
       "    </tr>\n",
       "  </tbody>\n",
       "</table>\n",
       "</div>"
      ],
      "text/plain": [
       "lifetime             0     1     2     3     4     5     6     7     8     9   \\\n",
       "first_order_month                                                               \n",
       "2017-06-01         0.21  0.23  0.25   0.3  0.34  0.38  0.42  0.44  0.47   0.5   \n",
       "2017-07-01         0.25  0.27  0.29  0.31  0.32  0.32  0.33  0.33  0.34  0.35   \n",
       "2017-08-01         0.20  0.21  0.23  0.24  0.26  0.27  0.28   0.3  0.31  0.31   \n",
       "2017-09-01         0.24  0.29  0.31  0.48  0.49  0.52  0.55  0.56  0.57         \n",
       "2017-10-01         0.24  0.26  0.27  0.28  0.29  0.29   0.3   0.3               \n",
       "2017-11-01         0.22  0.24  0.25  0.26  0.27  0.27  0.28                     \n",
       "2017-12-01         0.22  0.23  0.27  0.32  0.33  0.35                           \n",
       "2018-01-01         0.17  0.18  0.19   0.2   0.2                                 \n",
       "2018-02-01         0.19   0.2   0.2   0.2                                       \n",
       "2018-03-01         0.22  0.24  0.25                                             \n",
       "2018-04-01         0.19  0.21                                                   \n",
       "2018-05-01         0.25                                                         \n",
       "\n",
       "lifetime             10    11  \n",
       "first_order_month              \n",
       "2017-06-01         0.52  0.53  \n",
       "2017-07-01         0.35        \n",
       "2017-08-01                     \n",
       "2017-09-01                     \n",
       "2017-10-01                     \n",
       "2017-11-01                     \n",
       "2017-12-01                     \n",
       "2018-01-01                     \n",
       "2018-02-01                     \n",
       "2018-03-01                     \n",
       "2018-04-01                     \n",
       "2018-05-01                     "
      ]
     },
     "execution_count": 106,
     "metadata": {},
     "output_type": "execute_result"
    }
   ],
   "source": [
    "#making a table\n",
    "output_2 = report_cac.pivot_table(index='first_order_month', columns='lifetime',\n",
    "                                  values='romi', aggfunc='mean')\n",
    "\n",
    "output_2.cumsum(axis=1).round(2).fillna('')"
   ]
  },
  {
   "cell_type": "markdown",
   "metadata": {},
   "source": [
    "ROMI is increasing month by month, but for 12 month investment haven't paid off. If we had good RPR I would assume that costs will pay off in two years, but we don't have good RPR, it means we needv to urgently change something in order to increase profits."
   ]
  },
  {
   "cell_type": "markdown",
   "metadata": {},
   "source": [
    "[Back to the Table of Contents](#contents)"
   ]
  },
  {
   "cell_type": "markdown",
   "metadata": {},
   "source": [
    "#### 4. Conclusion  <a class=\"anchor\" id=\"chapter39\"></a>"
   ]
  },
  {
   "cell_type": "markdown",
   "metadata": {},
   "source": [
    "**In this step I found:**  \n",
    "  \n",
    "Overal marketing expenses: 329131.62  \n",
    "1. According information that we have we always get a loss, 1.53 from each order.\n",
    "2. On average marketing expenses per day is 904, per month is 27427.\n",
    "3. Highest investition were in 3rd source, but people were coming from 4th much actively. Other visits correspond to investment.\n",
    "4. 2nd and 1st source more popular for paying users group than for others.\n",
    "5. Investment haven't paid off.\n",
    "\n",
    "Even if at first months an advertising campaign seems ineffective, but you know for sure that customers will spend more money on the second and subsequent purchase, you can afford such advertising. This will bring you profit in the future. BUT as we can see from our LTV and RPR ad campaing will not pid off in the future."
   ]
  },
  {
   "cell_type": "markdown",
   "metadata": {},
   "source": [
    "[Back to the Table of Contents](#contents)"
   ]
  },
  {
   "cell_type": "markdown",
   "metadata": {},
   "source": [
    "### 5. General conclusion <a class=\"anchor\" id=\"chapter40\"></a>"
   ]
  },
  {
   "cell_type": "markdown",
   "metadata": {},
   "source": [
    "**Main points and patterns:**\n",
    "\n",
    "**According information that we have we always get a loss, 1.53 from each order. Marketing investment haven't paid off.**\n",
    "\n",
    "During analysis I found that:\n",
    "1. More than 90% users didn't come back after the first month, 16% of users return after week, 3% return after month. Our monthly retention rate is decreasing for each new cohort. In the old cohorts we have more loyal users.\n",
    "2. Users who did purchases came to website more often.\n",
    "\n",
    "First of all if the company wants to get profit I can recomend to work on user retention. We need more loyal users who will come back on the website again and again and as analysis shows users who did purchases came to website more often. Also we have more loyal users in the old cohorts, we need to find out why new users have less loyality?\n",
    "\n",
    "---\n",
    "\n",
    "3. More than 95% users didn't come back after the first order. On average only 2-3% of paying users were returning next months.\n",
    "4. Number of active users in every cohort decreases from month to month, revenue per user increases.\n",
    "\n",
    "The same situation as with CRR, we need to motivate users for repeat purchases. As analysis shows on the next orders users spend more money. Maybe our loyalty programs need to be corrected?\n",
    "\n",
    "---\n",
    "\n",
    "5. Conversion rate is 17.63%.\n",
    "6. Most of the users did order in the first day of visit.\n",
    "\n",
    "We need more users who become byers.  \n",
    "On the first visit user need to be motivated to do order.\n",
    "Also we need to work on our ad, to attract more people who will do purchases. Maybe user who just got to the site is not our target audience.\n",
    "\n",
    "---\n",
    "\n",
    "7. Highest number of visits and orders in October-December, lowest in the summer.\n",
    "8. Most of the users came on site from desktop than form touch.\n",
    "9. Highest investition were in 3rd source, but people were coming from 4th much actively;\n",
    "10. 1st and 2nd sources are more popular for paying users group than for others.\n",
    "\n",
    "If the goal is increasing number of visits and decreasing marketing costs pay attention at 4th source, it less expensive and attractive more people.  \n",
    "If we want to see the highest conversion from visits to orders - pay attention on 1st and 2nd sources."
   ]
  },
  {
   "cell_type": "markdown",
   "metadata": {},
   "source": [
    "[Back to the Table of Contents](#contents)"
   ]
  }
 ],
 "metadata": {
  "kernelspec": {
   "display_name": "Python 3",
   "language": "python",
   "name": "python3"
  },
  "language_info": {
   "codemirror_mode": {
    "name": "ipython",
    "version": 3
   },
   "file_extension": ".py",
   "mimetype": "text/x-python",
   "name": "python",
   "nbconvert_exporter": "python",
   "pygments_lexer": "ipython3",
   "version": "3.7.6"
  }
 },
 "nbformat": 4,
 "nbformat_minor": 4
}
